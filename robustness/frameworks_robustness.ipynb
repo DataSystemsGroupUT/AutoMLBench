{
 "cells": [
  {
   "cell_type": "code",
   "execution_count": 1,
   "id": "53d3b497",
   "metadata": {},
   "outputs": [],
   "source": [
    "import pandas as pd\n",
    "# import numpy as np\n",
    "import sklearn\n",
    "from sklearn.preprocessing import LabelEncoder\n",
    "# from autosklearn.classification import AutoSklearnClassifier\n",
    "import warnings\n",
    "warnings.filterwarnings('ignore')"
   ]
  },
  {
   "cell_type": "code",
   "execution_count": 2,
   "id": "284a84ea",
   "metadata": {},
   "outputs": [],
   "source": [
    "train = pd.read_csv(r\"../Datasets/dataset_61_iris_train.csv\", na_values='?')\n",
    "test = pd.read_csv(r\"../Datasets/dataset_61_iris_test.csv\", na_values='?')\n",
    "data = pd.concat([train, test])\n",
    "\n",
    "categorical_ = data.select_dtypes(['object']).columns\n",
    "lab_encs = {col: LabelEncoder().fit(data[col].astype('str')) for col in categorical_}\n",
    "\n",
    "for col in categorical_:\n",
    "    train[col] = lab_encs[col].transform(train[col].astype('str'))\n",
    "    test[col] = lab_encs[col].transform(test[col].astype('str'))\n",
    "\n",
    "train.to_csv('train.csv', index=False)\n",
    "test.to_csv('test.csv', index=False)\n",
    "X_train, X_test, y_train, y_test = \\\n",
    "            train.iloc[:,:-1], test.iloc[:,:-1], train.iloc[:,-1], test.iloc[:,-1]"
   ]
  },
  {
   "cell_type": "markdown",
   "id": "6a6ca9c4",
   "metadata": {},
   "source": [
    "# Autosklearn"
   ]
  },
  {
   "cell_type": "code",
   "execution_count": 3,
   "id": "97bb4ac1",
   "metadata": {},
   "outputs": [
    {
     "name": "stdout",
     "output_type": "stream",
     "text": [
      "autosklearn-v meta 0 ensemble 0\n",
      "autosklearn-e meta 0 ensemble 5\n",
      "autosklearn-m meta 25 ensemble 0\n",
      "autosklearn meta 25 ensemble 50\n"
     ]
    }
   ],
   "source": [
    "options = {'autosklearn-v': [0, 0], 'autosklearn-e': [0, 5], 'autosklearn-m': [25, 0], 'autosklearn': [25, 50]}\n",
    "for k,v in options.items():\n",
    "    print(k, 'meta', v[0], 'ensemble', v[1])"
   ]
  },
  {
   "cell_type": "code",
   "execution_count": 4,
   "id": "a79ffc81",
   "metadata": {},
   "outputs": [
    {
     "ename": "NameError",
     "evalue": "name 'AutoSklearnClassifier' is not defined",
     "output_type": "error",
     "traceback": [
      "\u001b[0;31m---------------------------------------------------------------------------\u001b[0m",
      "\u001b[0;31mNameError\u001b[0m                                 Traceback (most recent call last)",
      "\u001b[1;32m/Users/eldeeb/Documents/AutoMLBench/AutoMLBench/robustness/frameworks_robustness.ipynb Cell 5\u001b[0m in \u001b[0;36m<cell line: 5>\u001b[0;34m()\u001b[0m\n\u001b[1;32m      <a href='vscode-notebook-cell:/Users/eldeeb/Documents/AutoMLBench/AutoMLBench/robustness/frameworks_robustness.ipynb#ch0000004?line=5'>6</a>\u001b[0m result \u001b[39m=\u001b[39m [k]\n\u001b[1;32m      <a href='vscode-notebook-cell:/Users/eldeeb/Documents/AutoMLBench/AutoMLBench/robustness/frameworks_robustness.ipynb#ch0000004?line=6'>7</a>\u001b[0m \u001b[39mfor\u001b[39;00m i \u001b[39min\u001b[39;00m \u001b[39mrange\u001b[39m(\u001b[39m10\u001b[39m):   \n\u001b[0;32m----> <a href='vscode-notebook-cell:/Users/eldeeb/Documents/AutoMLBench/AutoMLBench/robustness/frameworks_robustness.ipynb#ch0000004?line=7'>8</a>\u001b[0m     automl \u001b[39m=\u001b[39m AutoSklearnClassifier(time_left_for_this_task\u001b[39m=\u001b[39m\u001b[39m600\u001b[39m, initial_configurations_via_metalearning\u001b[39m=\u001b[39mv[\u001b[39m0\u001b[39m], ensemble_size\u001b[39m=\u001b[39mv[\u001b[39m1\u001b[39m])\n\u001b[1;32m      <a href='vscode-notebook-cell:/Users/eldeeb/Documents/AutoMLBench/AutoMLBench/robustness/frameworks_robustness.ipynb#ch0000004?line=8'>9</a>\u001b[0m     automl\u001b[39m.\u001b[39mfit(X_train, y_train)\n\u001b[1;32m     <a href='vscode-notebook-cell:/Users/eldeeb/Documents/AutoMLBench/AutoMLBench/robustness/frameworks_robustness.ipynb#ch0000004?line=9'>10</a>\u001b[0m     y_hat \u001b[39m=\u001b[39m automl\u001b[39m.\u001b[39mpredict(X_test)\n",
      "\u001b[0;31mNameError\u001b[0m: name 'AutoSklearnClassifier' is not defined"
     ]
    }
   ],
   "source": [
    "import csv\n",
    "\n",
    "from sklearn.metrics import f1_score\n",
    "options = {'autosklearn-v': [0, 1], 'autosklearn-e': [0, 50], 'autosklearn-m': [25, 0], 'autosklearn': [25, 50]}\n",
    "for k,v in options.items():\n",
    "    result = [k]\n",
    "    for i in range(10):   \n",
    "        automl = AutoSklearnClassifier(time_left_for_this_task=600, initial_configurations_via_metalearning=v[0], ensemble_size=v[1])\n",
    "        automl.fit(X_train, y_train)\n",
    "        y_hat = automl.predict(X_test)\n",
    "        # accuracy = sklearn.metrics.accuracy_score(y_test, y_hat)\n",
    "        f1 = sklearn.metrics.f1_score(y_test, y_hat)\n",
    "        result.append(f1)\n",
    "        print(\"F1 score\", i, f1)\n",
    "    with open(r'../robustness.csv', mode='a') as file:\n",
    "        writer = csv.writer(file, delimiter=',')\n",
    "        writer.writerow(result)"
   ]
  },
  {
   "cell_type": "code",
   "execution_count": 7,
   "id": "dbe3e8fb",
   "metadata": {},
   "outputs": [],
   "source": [
    "import csv\n",
    "\n",
    "with open(r'../robustness.csv', mode='a') as file:\n",
    "    writer = csv.writer(file, delimiter=',')\n",
    "    writer.writerow(result)"
   ]
  },
  {
   "cell_type": "markdown",
   "id": "26bc5414",
   "metadata": {},
   "source": [
    "# TPOT"
   ]
  },
  {
   "cell_type": "code",
   "execution_count": 6,
   "id": "f15d9c9d",
   "metadata": {},
   "outputs": [
    {
     "name": "stdout",
     "output_type": "stream",
     "text": [
      "Warning: xgboost.XGBClassifier is not available and will not be used by TPOT.\n"
     ]
    },
    {
     "name": "stderr",
     "output_type": "stream",
     "text": [
      "Version 0.11.6 of tpot is outdated. Version 0.11.7 was released Wednesday January 06, 2021.\n"
     ]
    },
    {
     "name": "stdout",
     "output_type": "stream",
     "text": [
      "Accuracy score 0 0.9473684210526315\n",
      "Warning: xgboost.XGBClassifier is not available and will not be used by TPOT.\n"
     ]
    },
    {
     "name": "stderr",
     "output_type": "stream",
     "text": [
      "Version 0.11.6 of tpot is outdated. Version 0.11.7 was released Wednesday January 06, 2021.\n"
     ]
    },
    {
     "name": "stdout",
     "output_type": "stream",
     "text": [
      "Accuracy score 1 0.9736842105263158\n",
      "Warning: xgboost.XGBClassifier is not available and will not be used by TPOT.\n"
     ]
    },
    {
     "name": "stderr",
     "output_type": "stream",
     "text": [
      "Version 0.11.6 of tpot is outdated. Version 0.11.7 was released Wednesday January 06, 2021.\n"
     ]
    },
    {
     "name": "stdout",
     "output_type": "stream",
     "text": [
      "Accuracy score 2 1.0\n",
      "Warning: xgboost.XGBClassifier is not available and will not be used by TPOT.\n"
     ]
    },
    {
     "name": "stderr",
     "output_type": "stream",
     "text": [
      "Version 0.11.6 of tpot is outdated. Version 0.11.7 was released Wednesday January 06, 2021.\n"
     ]
    },
    {
     "name": "stdout",
     "output_type": "stream",
     "text": [
      "Accuracy score 3 0.9736842105263158\n",
      "Warning: xgboost.XGBClassifier is not available and will not be used by TPOT.\n"
     ]
    },
    {
     "name": "stderr",
     "output_type": "stream",
     "text": [
      "Version 0.11.6 of tpot is outdated. Version 0.11.7 was released Wednesday January 06, 2021.\n"
     ]
    },
    {
     "name": "stdout",
     "output_type": "stream",
     "text": [
      "Accuracy score 4 1.0\n",
      "Warning: xgboost.XGBClassifier is not available and will not be used by TPOT.\n"
     ]
    },
    {
     "name": "stderr",
     "output_type": "stream",
     "text": [
      "Version 0.11.6 of tpot is outdated. Version 0.11.7 was released Wednesday January 06, 2021.\n"
     ]
    },
    {
     "name": "stdout",
     "output_type": "stream",
     "text": [
      "Accuracy score 5 0.9473684210526315\n",
      "Warning: xgboost.XGBClassifier is not available and will not be used by TPOT.\n"
     ]
    },
    {
     "name": "stderr",
     "output_type": "stream",
     "text": [
      "Version 0.11.6 of tpot is outdated. Version 0.11.7 was released Wednesday January 06, 2021.\n"
     ]
    },
    {
     "name": "stdout",
     "output_type": "stream",
     "text": [
      "Accuracy score 6 0.9210526315789473\n",
      "Warning: xgboost.XGBClassifier is not available and will not be used by TPOT.\n"
     ]
    },
    {
     "name": "stderr",
     "output_type": "stream",
     "text": [
      "Version 0.11.6 of tpot is outdated. Version 0.11.7 was released Wednesday January 06, 2021.\n"
     ]
    },
    {
     "name": "stdout",
     "output_type": "stream",
     "text": [
      "Accuracy score 7 0.9736842105263158\n",
      "Warning: xgboost.XGBClassifier is not available and will not be used by TPOT.\n"
     ]
    },
    {
     "name": "stderr",
     "output_type": "stream",
     "text": [
      "Version 0.11.6 of tpot is outdated. Version 0.11.7 was released Wednesday January 06, 2021.\n"
     ]
    },
    {
     "name": "stdout",
     "output_type": "stream",
     "text": [
      "Accuracy score 8 0.9473684210526315\n",
      "Warning: xgboost.XGBClassifier is not available and will not be used by TPOT.\n"
     ]
    },
    {
     "name": "stderr",
     "output_type": "stream",
     "text": [
      "Version 0.11.6 of tpot is outdated. Version 0.11.7 was released Wednesday January 06, 2021.\n"
     ]
    },
    {
     "name": "stdout",
     "output_type": "stream",
     "text": [
      "Accuracy score 9 0.9473684210526315\n"
     ]
    }
   ],
   "source": [
    "result = ['tpot']\n",
    "from tpot import TPOTClassifier\n",
    "for i in range(10):   \n",
    "    automl = TPOTClassifier(max_time_mins=10)\n",
    "    automl.fit(X_train, y_train)\n",
    "    y_hat = automl.predict(X_test)\n",
    "    accuracy = sklearn.metrics.accuracy_score(y_test, y_hat)\n",
    "    result.append(accuracy)\n",
    "    print(\"Accuracy score\", i, accuracy)"
   ]
  },
  {
   "cell_type": "code",
   "execution_count": 7,
   "id": "ca61d2b6",
   "metadata": {},
   "outputs": [],
   "source": [
    "import csv\n",
    "\n",
    "with open(r'../robustness.csv', mode='a') as file:\n",
    "    writer = csv.writer(file, delimiter=',')\n",
    "    writer.writerow(result)"
   ]
  },
  {
   "cell_type": "markdown",
   "id": "58095786",
   "metadata": {},
   "source": [
    "# ATM"
   ]
  },
  {
   "cell_type": "code",
   "execution_count": 18,
   "id": "9bb1789f",
   "metadata": {},
   "outputs": [
    {
     "name": "stderr",
     "output_type": "stream",
     "text": [
      "  1%|1         | 1/100 [00:00<00:11,  8.53it/s]"
     ]
    },
    {
     "name": "stdout",
     "output_type": "stream",
     "text": [
      "Processing dataset train.csv\n"
     ]
    },
    {
     "name": "stderr",
     "output_type": "stream",
     "text": [
      "101it [00:10, 11.62it/s]                        Classifier budget has run out!\n",
      "Datarun 10 has ended.\n",
      "101it [00:10,  9.63it/s]\n"
     ]
    },
    {
     "name": "stdout",
     "output_type": "stream",
     "text": [
      "The indicated path already exists. Use `force=True` to overwrite.\n",
      "Classifier 648 saved as path/to/model.pkl\n",
      "Accuracy score 0 0.9473684210526315\n"
     ]
    },
    {
     "name": "stderr",
     "output_type": "stream",
     "text": [
      "  1%|1         | 1/100 [00:00<00:10,  9.59it/s]"
     ]
    },
    {
     "name": "stdout",
     "output_type": "stream",
     "text": [
      "Processing dataset train.csv\n"
     ]
    },
    {
     "name": "stderr",
     "output_type": "stream",
     "text": [
      "100%|##########| 100/100 [00:10<00:00,  8.33it/s]Classifier budget has run out!\n",
      "Datarun 11 has ended.\n",
      "100%|##########| 100/100 [00:10<00:00,  9.44it/s]\n"
     ]
    },
    {
     "name": "stdout",
     "output_type": "stream",
     "text": [
      "The indicated path already exists. Use `force=True` to overwrite.\n",
      "Classifier 743 saved as path/to/model.pkl\n",
      "Accuracy score 1 1.0\n"
     ]
    },
    {
     "name": "stderr",
     "output_type": "stream",
     "text": [
      "  1%|1         | 1/100 [00:00<00:10,  9.54it/s]"
     ]
    },
    {
     "name": "stdout",
     "output_type": "stream",
     "text": [
      "Processing dataset train.csv\n"
     ]
    },
    {
     "name": "stderr",
     "output_type": "stream",
     "text": [
      "100%|##########| 100/100 [00:11<00:00,  6.56it/s]Classifier budget has run out!\n",
      "Datarun 12 has ended.\n",
      "100%|##########| 100/100 [00:11<00:00,  8.44it/s]\n"
     ]
    },
    {
     "name": "stdout",
     "output_type": "stream",
     "text": [
      "The indicated path already exists. Use `force=True` to overwrite.\n",
      "Classifier 925 saved as path/to/model.pkl\n",
      "Accuracy score 2 0.9736842105263158\n"
     ]
    },
    {
     "name": "stderr",
     "output_type": "stream",
     "text": [
      "  1%|1         | 1/100 [00:00<00:10,  9.39it/s]"
     ]
    },
    {
     "name": "stdout",
     "output_type": "stream",
     "text": [
      "Processing dataset train.csv\n"
     ]
    },
    {
     "name": "stderr",
     "output_type": "stream",
     "text": [
      "100%|##########| 100/100 [00:10<00:00,  9.91it/s]Classifier budget has run out!\n",
      "Datarun 13 has ended.\n",
      "100%|##########| 100/100 [00:11<00:00,  9.05it/s]\n"
     ]
    },
    {
     "name": "stdout",
     "output_type": "stream",
     "text": [
      "The indicated path already exists. Use `force=True` to overwrite.\n",
      "Classifier 952 saved as path/to/model.pkl\n",
      "Accuracy score 3 0.9473684210526315\n"
     ]
    },
    {
     "name": "stderr",
     "output_type": "stream",
     "text": [
      "\r\n",
      "  0%|          | 0/100 [00:00<?, ?it/s]"
     ]
    },
    {
     "name": "stdout",
     "output_type": "stream",
     "text": [
      "Processing dataset train.csv\n"
     ]
    },
    {
     "name": "stderr",
     "output_type": "stream",
     "text": [
      "100%|##########| 100/100 [00:10<00:00,  8.99it/s]Classifier budget has run out!\n",
      "Datarun 14 has ended.\n",
      "100%|##########| 100/100 [00:10<00:00,  9.59it/s]\n"
     ]
    },
    {
     "name": "stdout",
     "output_type": "stream",
     "text": [
      "The indicated path already exists. Use `force=True` to overwrite.\n",
      "Classifier 1069 saved as path/to/model.pkl\n",
      "Accuracy score 4 0.9473684210526315\n"
     ]
    },
    {
     "name": "stderr",
     "output_type": "stream",
     "text": [
      "  1%|1         | 1/100 [00:00<00:12,  8.03it/s]"
     ]
    },
    {
     "name": "stdout",
     "output_type": "stream",
     "text": [
      "Processing dataset train.csv\n"
     ]
    },
    {
     "name": "stderr",
     "output_type": "stream",
     "text": [
      "100%|##########| 100/100 [00:10<00:00,  6.56it/s]Classifier budget has run out!\n",
      "Datarun 15 has ended.\n",
      "100%|##########| 100/100 [00:10<00:00,  9.16it/s]\n"
     ]
    },
    {
     "name": "stdout",
     "output_type": "stream",
     "text": [
      "The indicated path already exists. Use `force=True` to overwrite.\n",
      "Classifier 1143 saved as path/to/model.pkl\n",
      "Accuracy score 5 0.9736842105263158\n"
     ]
    },
    {
     "name": "stderr",
     "output_type": "stream",
     "text": [
      "  1%|1         | 1/100 [00:00<00:13,  7.24it/s]"
     ]
    },
    {
     "name": "stdout",
     "output_type": "stream",
     "text": [
      "Processing dataset train.csv\n"
     ]
    },
    {
     "name": "stderr",
     "output_type": "stream",
     "text": [
      "101it [00:11, 11.64it/s]                        Classifier budget has run out!\n",
      "Datarun 16 has ended.\n",
      "101it [00:11,  8.64it/s]\n"
     ]
    },
    {
     "name": "stdout",
     "output_type": "stream",
     "text": [
      "The indicated path already exists. Use `force=True` to overwrite.\n",
      "Classifier 1257 saved as path/to/model.pkl\n",
      "Accuracy score 6 1.0\n"
     ]
    },
    {
     "name": "stderr",
     "output_type": "stream",
     "text": [
      "  1%|1         | 1/100 [00:00<00:11,  8.97it/s]"
     ]
    },
    {
     "name": "stdout",
     "output_type": "stream",
     "text": [
      "Processing dataset train.csv\n"
     ]
    },
    {
     "name": "stderr",
     "output_type": "stream",
     "text": [
      "100%|##########| 100/100 [00:10<00:00,  8.47it/s]Classifier budget has run out!\n",
      "Datarun 17 has ended.\n",
      "100%|##########| 100/100 [00:10<00:00,  9.18it/s]\n"
     ]
    },
    {
     "name": "stdout",
     "output_type": "stream",
     "text": [
      "The indicated path already exists. Use `force=True` to overwrite.\n",
      "Classifier 1389 saved as path/to/model.pkl\n",
      "Accuracy score 7 0.9473684210526315\n"
     ]
    },
    {
     "name": "stderr",
     "output_type": "stream",
     "text": [
      "  1%|1         | 1/100 [00:00<00:11,  8.66it/s]"
     ]
    },
    {
     "name": "stdout",
     "output_type": "stream",
     "text": [
      "Processing dataset train.csv\n"
     ]
    },
    {
     "name": "stderr",
     "output_type": "stream",
     "text": [
      "100%|##########| 100/100 [00:10<00:00,  8.60it/s]Classifier budget has run out!\n",
      "Datarun 18 has ended.\n",
      "100%|##########| 100/100 [00:10<00:00,  9.37it/s]\n"
     ]
    },
    {
     "name": "stdout",
     "output_type": "stream",
     "text": [
      "The indicated path already exists. Use `force=True` to overwrite.\n",
      "Classifier 1447 saved as path/to/model.pkl\n",
      "Accuracy score 8 0.9736842105263158\n"
     ]
    },
    {
     "name": "stderr",
     "output_type": "stream",
     "text": [
      "  1%|1         | 1/100 [00:00<00:11,  8.78it/s]"
     ]
    },
    {
     "name": "stdout",
     "output_type": "stream",
     "text": [
      "Processing dataset train.csv\n"
     ]
    },
    {
     "name": "stderr",
     "output_type": "stream",
     "text": [
      "100%|##########| 100/100 [00:11<00:00,  8.46it/s]Classifier budget has run out!\n",
      "Datarun 19 has ended.\n",
      "100%|##########| 100/100 [00:11<00:00,  8.98it/s]"
     ]
    },
    {
     "name": "stdout",
     "output_type": "stream",
     "text": [
      "The indicated path already exists. Use `force=True` to overwrite.\n",
      "Classifier 1621 saved as path/to/model.pkl\n",
      "Accuracy score 9 0.9736842105263158\n"
     ]
    },
    {
     "name": "stderr",
     "output_type": "stream",
     "text": [
      "\n"
     ]
    }
   ],
   "source": [
    "result = ['ATM']\n",
    "from atm import ATM, Model\n",
    "for i in range(10):   \n",
    "    atm = ATM()\n",
    "    results = atm.run(train_path=r\"train.csv\", total_time=10)\n",
    "    results.export_best_classifier('path/to/model.pkl')\n",
    "    model = Model.load('path/to/model.pkl')\n",
    "    y_hat = model.predict(X_test)\n",
    "    accuracy = sklearn.metrics.accuracy_score(y_test, y_hat)\n",
    "    result.append(accuracy)\n",
    "    print(\"Accuracy score\", i, accuracy)"
   ]
  },
  {
   "cell_type": "code",
   "execution_count": 19,
   "id": "b1970cad",
   "metadata": {},
   "outputs": [
    {
     "data": {
      "text/plain": [
       "['ATM',\n",
       " 0.9473684210526315,\n",
       " 1.0,\n",
       " 0.9736842105263158,\n",
       " 0.9473684210526315,\n",
       " 0.9473684210526315,\n",
       " 0.9736842105263158,\n",
       " 1.0,\n",
       " 0.9473684210526315,\n",
       " 0.9736842105263158,\n",
       " 0.9736842105263158]"
      ]
     },
     "execution_count": 19,
     "metadata": {},
     "output_type": "execute_result"
    }
   ],
   "source": [
    "result"
   ]
  },
  {
   "cell_type": "code",
   "execution_count": 21,
   "id": "9f9b5e5d",
   "metadata": {},
   "outputs": [],
   "source": [
    "import csv\n",
    "\n",
    "with open(r'../robustness.csv', mode='a') as file:\n",
    "    writer = csv.writer(file, delimiter=',')\n",
    "    writer.writerow(result)"
   ]
  },
  {
   "cell_type": "markdown",
   "id": "a9b148c8",
   "metadata": {},
   "source": [
    "# Recipe"
   ]
  },
  {
   "cell_type": "code",
   "execution_count": 5,
   "id": "b267c59e",
   "metadata": {},
   "outputs": [
    {
     "name": "stdout",
     "output_type": "stream",
     "text": [
      "Python 3.8.3\r\n"
     ]
    }
   ],
   "source": [
    "!python --version"
   ]
  },
  {
   "cell_type": "markdown",
   "id": "78fa444d",
   "metadata": {},
   "source": [
    "# AutoWeka"
   ]
  },
  {
   "cell_type": "code",
   "execution_count": 6,
   "id": "e8f5e2a9",
   "metadata": {},
   "outputs": [],
   "source": [
    "import pyautoweka\n",
    "\n",
    "#Create an experiment\n",
    "experiment = pyautoweka.ClassificationExperiment(tuner_timeout=360)"
   ]
  },
  {
   "cell_type": "code",
   "execution_count": 7,
   "id": "ab2e3f87",
   "metadata": {},
   "outputs": [
    {
     "name": "stdout",
     "output_type": "stream",
     "text": [
      "Running experiments\n",
      "Time allocated(see Experiment.tuner_timeout):  0:06:00\n",
      "Running experiment on dataset dataset1\n",
      "Running for seed 0\n",
      "Merging trajectories\n"
     ]
    },
    {
     "ename": "CalledProcessError",
     "evalue": "Command '['java', '-cp', '/home/eldeeb/.cache/Python-Eggs/pyautoweka-.1-py2.7.egg-tmp/pyautoweka/java/autoweka.jar', 'autoweka.tools.GetBestFromTrajectoryGroup', 'experiments/Experiment-dataset1/Experiment-dataset1.trajectories']' returned non-zero exit status 1",
     "output_type": "error",
     "traceback": [
      "\u001b[0;31m---------------------------------------------------------------------------\u001b[0m",
      "\u001b[0;31mCalledProcessError\u001b[0m                        Traceback (most recent call last)",
      "\u001b[0;32m<ipython-input-7-c3704ea6ac66>\u001b[0m in \u001b[0;36m<module>\u001b[0;34m()\u001b[0m\n\u001b[1;32m     23\u001b[0m \u001b[0;34m\u001b[0m\u001b[0m\n\u001b[1;32m     24\u001b[0m \u001b[0;31m#and predict the labels of the held out data:\u001b[0m\u001b[0;34m\u001b[0m\u001b[0;34m\u001b[0m\u001b[0m\n\u001b[0;32m---> 25\u001b[0;31m \u001b[0my_predict\u001b[0m \u001b[0;34m=\u001b[0m \u001b[0mexperiment\u001b[0m\u001b[0;34m.\u001b[0m\u001b[0mpredict\u001b[0m\u001b[0;34m(\u001b[0m\u001b[0mX_test\u001b[0m\u001b[0;34m)\u001b[0m\u001b[0;34m\u001b[0m\u001b[0m\n\u001b[0m\u001b[1;32m     26\u001b[0m \u001b[0;34m\u001b[0m\u001b[0m\n\u001b[1;32m     27\u001b[0m \u001b[0;31m#Let's check what accuracy we get:\u001b[0m\u001b[0;34m\u001b[0m\u001b[0;34m\u001b[0m\u001b[0m\n",
      "\u001b[0;32m/home/eldeeb/miniconda3/envs/pyautoweka/lib/python2.7/site-packages/pyautoweka-.1-py2.7.egg/pyautoweka/pyautoweka.pyc\u001b[0m in \u001b[0;36mpredict\u001b[0;34m(self, X)\u001b[0m\n\u001b[1;32m    547\u001b[0m                 self.predict_from_file(prediction_data_path,\n\u001b[1;32m    548\u001b[0m                     \u001b[0mpredictions_file\u001b[0m\u001b[0;34m=\u001b[0m\u001b[0mprediction_output_path\u001b[0m\u001b[0;34m,\u001b[0m\u001b[0;34m\u001b[0m\u001b[0m\n\u001b[0;32m--> 549\u001b[0;31m                     hide_output=True)\n\u001b[0m\u001b[1;32m    550\u001b[0m \u001b[0;34m\u001b[0m\u001b[0m\n\u001b[1;32m    551\u001b[0m                 \u001b[0;31m#read the output:\u001b[0m\u001b[0;34m\u001b[0m\u001b[0;34m\u001b[0m\u001b[0m\n",
      "\u001b[0;32m/home/eldeeb/miniconda3/envs/pyautoweka/lib/python2.7/site-packages/pyautoweka-.1-py2.7.egg/pyautoweka/pyautoweka.pyc\u001b[0m in \u001b[0;36mpredict_from_file\u001b[0;34m(self, data_file, predictions_file, hide_output)\u001b[0m\n\u001b[1;32m    493\u001b[0m         \u001b[0;31m#TODO: for now we only support a single dataset\u001b[0m\u001b[0;34m\u001b[0m\u001b[0;34m\u001b[0m\u001b[0m\n\u001b[1;32m    494\u001b[0m         \u001b[0mdataset\u001b[0m \u001b[0;34m=\u001b[0m \u001b[0mself\u001b[0m\u001b[0;34m.\u001b[0m\u001b[0mdatasets\u001b[0m\u001b[0;34m[\u001b[0m\u001b[0;36m0\u001b[0m\u001b[0;34m]\u001b[0m\u001b[0;34m\u001b[0m\u001b[0m\n\u001b[0;32m--> 495\u001b[0;31m         \u001b[0mseed\u001b[0m \u001b[0;34m=\u001b[0m \u001b[0mself\u001b[0m\u001b[0;34m.\u001b[0m\u001b[0mget_best_seed_from_trajectories\u001b[0m\u001b[0;34m(\u001b[0m\u001b[0mdataset\u001b[0m\u001b[0;34m)\u001b[0m\u001b[0;34m\u001b[0m\u001b[0m\n\u001b[0m\u001b[1;32m    496\u001b[0m         \u001b[0mexperiment_folder\u001b[0m \u001b[0;34m=\u001b[0m \u001b[0mself\u001b[0m\u001b[0;34m.\u001b[0m\u001b[0mget_experiment_folder\u001b[0m\u001b[0;34m(\u001b[0m\u001b[0mdataset\u001b[0m\u001b[0;34m)\u001b[0m\u001b[0;34m\u001b[0m\u001b[0m\n\u001b[1;32m    497\u001b[0m \u001b[0;34m\u001b[0m\u001b[0m\n",
      "\u001b[0;32m/home/eldeeb/miniconda3/envs/pyautoweka/lib/python2.7/site-packages/pyautoweka-.1-py2.7.egg/pyautoweka/pyautoweka.pyc\u001b[0m in \u001b[0;36mget_best_seed_from_trajectories\u001b[0;34m(self, dataset)\u001b[0m\n\u001b[1;32m    471\u001b[0m                                  trajectories_file]\n\u001b[1;32m    472\u001b[0m         \u001b[0;31m#print \" \".join(best_trajectory_group)\u001b[0m\u001b[0;34m\u001b[0m\u001b[0;34m\u001b[0m\u001b[0m\n\u001b[0;32m--> 473\u001b[0;31m         \u001b[0mprogram_output\u001b[0m \u001b[0;34m=\u001b[0m \u001b[0mstr\u001b[0m\u001b[0;34m(\u001b[0m\u001b[0mcheck_output\u001b[0m\u001b[0;34m(\u001b[0m\u001b[0mbest_trajectory_group\u001b[0m\u001b[0;34m)\u001b[0m\u001b[0;34m)\u001b[0m\u001b[0;34m\u001b[0m\u001b[0m\n\u001b[0m\u001b[1;32m    474\u001b[0m         \u001b[0mseed\u001b[0m \u001b[0;34m=\u001b[0m \u001b[0;34m-\u001b[0m\u001b[0;36m1\u001b[0m\u001b[0;34m\u001b[0m\u001b[0m\n\u001b[1;32m    475\u001b[0m         \u001b[0;32mfor\u001b[0m \u001b[0mline\u001b[0m \u001b[0;32min\u001b[0m \u001b[0mprogram_output\u001b[0m\u001b[0;34m.\u001b[0m\u001b[0msplit\u001b[0m\u001b[0;34m(\u001b[0m\u001b[0;34m\"\\n\"\u001b[0m\u001b[0;34m)\u001b[0m\u001b[0;34m:\u001b[0m\u001b[0;34m\u001b[0m\u001b[0m\n",
      "\u001b[0;32m/home/eldeeb/miniconda3/envs/pyautoweka/lib/python2.7/subprocess.pyc\u001b[0m in \u001b[0;36mcheck_output\u001b[0;34m(*popenargs, **kwargs)\u001b[0m\n\u001b[1;32m    221\u001b[0m         \u001b[0;32mif\u001b[0m \u001b[0mcmd\u001b[0m \u001b[0;32mis\u001b[0m \u001b[0mNone\u001b[0m\u001b[0;34m:\u001b[0m\u001b[0;34m\u001b[0m\u001b[0m\n\u001b[1;32m    222\u001b[0m             \u001b[0mcmd\u001b[0m \u001b[0;34m=\u001b[0m \u001b[0mpopenargs\u001b[0m\u001b[0;34m[\u001b[0m\u001b[0;36m0\u001b[0m\u001b[0;34m]\u001b[0m\u001b[0;34m\u001b[0m\u001b[0m\n\u001b[0;32m--> 223\u001b[0;31m         \u001b[0;32mraise\u001b[0m \u001b[0mCalledProcessError\u001b[0m\u001b[0;34m(\u001b[0m\u001b[0mretcode\u001b[0m\u001b[0;34m,\u001b[0m \u001b[0mcmd\u001b[0m\u001b[0;34m,\u001b[0m \u001b[0moutput\u001b[0m\u001b[0;34m=\u001b[0m\u001b[0moutput\u001b[0m\u001b[0;34m)\u001b[0m\u001b[0;34m\u001b[0m\u001b[0m\n\u001b[0m\u001b[1;32m    224\u001b[0m     \u001b[0;32mreturn\u001b[0m \u001b[0moutput\u001b[0m\u001b[0;34m\u001b[0m\u001b[0m\n\u001b[1;32m    225\u001b[0m \u001b[0;34m\u001b[0m\u001b[0m\n",
      "\u001b[0;31mCalledProcessError\u001b[0m: Command '['java', '-cp', '/home/eldeeb/.cache/Python-Eggs/pyautoweka-.1-py2.7.egg-tmp/pyautoweka/java/autoweka.jar', 'autoweka.tools.GetBestFromTrajectoryGroup', 'experiments/Experiment-dataset1/Experiment-dataset1.trajectories']' returned non-zero exit status 1"
     ]
    }
   ],
   "source": [
    "#load the data:\n",
    "import numpy as np\n",
    "import random\n",
    "\n",
    "X = np.loadtxt(\"iris.data\", delimiter=\",\", usecols=range(4))\n",
    "y = np.loadtxt(\"iris.data\", delimiter=\",\", usecols=[4], dtype=\"object\")\n",
    "\n",
    "#shuffle the data:\n",
    "indices = range(len(X))\n",
    "random.shuffle(indices)\n",
    "X = X[indices]\n",
    "y = y[indices]\n",
    "\n",
    "#split into train and test set:\n",
    "X_train = X[0:100]\n",
    "y_train = y[0:100]\n",
    "\n",
    "X_test = X[100:]\n",
    "y_test = y[100:]\n",
    "\n",
    "#now we can fit a model:\n",
    "experiment.fit(X_train, y_train)\n",
    "\n",
    "#and predict the labels of the held out data:\n",
    "y_predict = experiment.predict(X_test)\n",
    "\n",
    "#Let's check what accuracy we get:\n",
    "num_correct = sum([1 for predicted, correct in zip(y_predict, y_test) if predicted == correct])\n",
    "print \"Accuracy: %f\" % (float(num_correct) / len(y_test))\n"
   ]
  },
  {
   "cell_type": "code",
   "execution_count": 5,
   "id": "1a2ba130",
   "metadata": {},
   "outputs": [
    {
     "name": "stdout",
     "output_type": "stream",
     "text": [
      "Running experiments\n",
      "Time allocated(see Experiment.tuner_timeout):  0:10:00\n",
      "Running experiment on dataset dataset1\n",
      "Running for seed 0\n",
      "Merging trajectories\n"
     ]
    },
    {
     "ename": "CalledProcessError",
     "evalue": "Command '['java', '-cp', '/home/eldeeb/.cache/Python-Eggs/pyautoweka-.1-py2.7.egg-tmp/pyautoweka/java/autoweka.jar', 'autoweka.tools.GetBestFromTrajectoryGroup', 'experiments/Experiment-dataset1/Experiment-dataset1.trajectories']' returned non-zero exit status 1",
     "output_type": "error",
     "traceback": [
      "\u001b[0;31m---------------------------------------------------------------------------\u001b[0m",
      "\u001b[0;31mCalledProcessError\u001b[0m                        Traceback (most recent call last)",
      "\u001b[0;32m<ipython-input-5-519ad8359783>\u001b[0m in \u001b[0;36m<module>\u001b[0;34m()\u001b[0m\n\u001b[1;32m      5\u001b[0m \u001b[0mexperiment\u001b[0m\u001b[0;34m.\u001b[0m\u001b[0mfit\u001b[0m\u001b[0;34m(\u001b[0m\u001b[0mX_train\u001b[0m\u001b[0;34m,\u001b[0m \u001b[0my_train\u001b[0m\u001b[0;34m)\u001b[0m\u001b[0;34m\u001b[0m\u001b[0m\n\u001b[1;32m      6\u001b[0m \u001b[0;34m\u001b[0m\u001b[0m\n\u001b[0;32m----> 7\u001b[0;31m \u001b[0my_hat\u001b[0m \u001b[0;34m=\u001b[0m \u001b[0mexperiment\u001b[0m\u001b[0;34m.\u001b[0m\u001b[0mpredict\u001b[0m\u001b[0;34m(\u001b[0m\u001b[0mX_test\u001b[0m\u001b[0;34m)\u001b[0m\u001b[0;34m\u001b[0m\u001b[0m\n\u001b[0m\u001b[1;32m      8\u001b[0m \u001b[0maccuracy\u001b[0m \u001b[0;34m=\u001b[0m \u001b[0msklearn\u001b[0m\u001b[0;34m.\u001b[0m\u001b[0mmetrics\u001b[0m\u001b[0;34m.\u001b[0m\u001b[0maccuracy_score\u001b[0m\u001b[0;34m(\u001b[0m\u001b[0my_test\u001b[0m\u001b[0;34m,\u001b[0m \u001b[0my_hat\u001b[0m\u001b[0;34m)\u001b[0m\u001b[0;34m\u001b[0m\u001b[0m\n\u001b[1;32m      9\u001b[0m \u001b[0;31m# result.append(accuracy)\u001b[0m\u001b[0;34m\u001b[0m\u001b[0;34m\u001b[0m\u001b[0m\n",
      "\u001b[0;32m/home/eldeeb/miniconda3/envs/pyautoweka/lib/python2.7/site-packages/pyautoweka-.1-py2.7.egg/pyautoweka/pyautoweka.pyc\u001b[0m in \u001b[0;36mpredict\u001b[0;34m(self, X)\u001b[0m\n\u001b[1;32m    547\u001b[0m                 self.predict_from_file(prediction_data_path,\n\u001b[1;32m    548\u001b[0m                     \u001b[0mpredictions_file\u001b[0m\u001b[0;34m=\u001b[0m\u001b[0mprediction_output_path\u001b[0m\u001b[0;34m,\u001b[0m\u001b[0;34m\u001b[0m\u001b[0m\n\u001b[0;32m--> 549\u001b[0;31m                     hide_output=True)\n\u001b[0m\u001b[1;32m    550\u001b[0m \u001b[0;34m\u001b[0m\u001b[0m\n\u001b[1;32m    551\u001b[0m                 \u001b[0;31m#read the output:\u001b[0m\u001b[0;34m\u001b[0m\u001b[0;34m\u001b[0m\u001b[0m\n",
      "\u001b[0;32m/home/eldeeb/miniconda3/envs/pyautoweka/lib/python2.7/site-packages/pyautoweka-.1-py2.7.egg/pyautoweka/pyautoweka.pyc\u001b[0m in \u001b[0;36mpredict_from_file\u001b[0;34m(self, data_file, predictions_file, hide_output)\u001b[0m\n\u001b[1;32m    493\u001b[0m         \u001b[0;31m#TODO: for now we only support a single dataset\u001b[0m\u001b[0;34m\u001b[0m\u001b[0;34m\u001b[0m\u001b[0m\n\u001b[1;32m    494\u001b[0m         \u001b[0mdataset\u001b[0m \u001b[0;34m=\u001b[0m \u001b[0mself\u001b[0m\u001b[0;34m.\u001b[0m\u001b[0mdatasets\u001b[0m\u001b[0;34m[\u001b[0m\u001b[0;36m0\u001b[0m\u001b[0;34m]\u001b[0m\u001b[0;34m\u001b[0m\u001b[0m\n\u001b[0;32m--> 495\u001b[0;31m         \u001b[0mseed\u001b[0m \u001b[0;34m=\u001b[0m \u001b[0mself\u001b[0m\u001b[0;34m.\u001b[0m\u001b[0mget_best_seed_from_trajectories\u001b[0m\u001b[0;34m(\u001b[0m\u001b[0mdataset\u001b[0m\u001b[0;34m)\u001b[0m\u001b[0;34m\u001b[0m\u001b[0m\n\u001b[0m\u001b[1;32m    496\u001b[0m         \u001b[0mexperiment_folder\u001b[0m \u001b[0;34m=\u001b[0m \u001b[0mself\u001b[0m\u001b[0;34m.\u001b[0m\u001b[0mget_experiment_folder\u001b[0m\u001b[0;34m(\u001b[0m\u001b[0mdataset\u001b[0m\u001b[0;34m)\u001b[0m\u001b[0;34m\u001b[0m\u001b[0m\n\u001b[1;32m    497\u001b[0m \u001b[0;34m\u001b[0m\u001b[0m\n",
      "\u001b[0;32m/home/eldeeb/miniconda3/envs/pyautoweka/lib/python2.7/site-packages/pyautoweka-.1-py2.7.egg/pyautoweka/pyautoweka.pyc\u001b[0m in \u001b[0;36mget_best_seed_from_trajectories\u001b[0;34m(self, dataset)\u001b[0m\n\u001b[1;32m    471\u001b[0m                                  trajectories_file]\n\u001b[1;32m    472\u001b[0m         \u001b[0;31m#print \" \".join(best_trajectory_group)\u001b[0m\u001b[0;34m\u001b[0m\u001b[0;34m\u001b[0m\u001b[0m\n\u001b[0;32m--> 473\u001b[0;31m         \u001b[0mprogram_output\u001b[0m \u001b[0;34m=\u001b[0m \u001b[0mstr\u001b[0m\u001b[0;34m(\u001b[0m\u001b[0mcheck_output\u001b[0m\u001b[0;34m(\u001b[0m\u001b[0mbest_trajectory_group\u001b[0m\u001b[0;34m)\u001b[0m\u001b[0;34m)\u001b[0m\u001b[0;34m\u001b[0m\u001b[0m\n\u001b[0m\u001b[1;32m    474\u001b[0m         \u001b[0mseed\u001b[0m \u001b[0;34m=\u001b[0m \u001b[0;34m-\u001b[0m\u001b[0;36m1\u001b[0m\u001b[0;34m\u001b[0m\u001b[0m\n\u001b[1;32m    475\u001b[0m         \u001b[0;32mfor\u001b[0m \u001b[0mline\u001b[0m \u001b[0;32min\u001b[0m \u001b[0mprogram_output\u001b[0m\u001b[0;34m.\u001b[0m\u001b[0msplit\u001b[0m\u001b[0;34m(\u001b[0m\u001b[0;34m\"\\n\"\u001b[0m\u001b[0;34m)\u001b[0m\u001b[0;34m:\u001b[0m\u001b[0;34m\u001b[0m\u001b[0m\n",
      "\u001b[0;32m/home/eldeeb/miniconda3/envs/pyautoweka/lib/python2.7/subprocess.pyc\u001b[0m in \u001b[0;36mcheck_output\u001b[0;34m(*popenargs, **kwargs)\u001b[0m\n\u001b[1;32m    221\u001b[0m         \u001b[0;32mif\u001b[0m \u001b[0mcmd\u001b[0m \u001b[0;32mis\u001b[0m \u001b[0mNone\u001b[0m\u001b[0;34m:\u001b[0m\u001b[0;34m\u001b[0m\u001b[0m\n\u001b[1;32m    222\u001b[0m             \u001b[0mcmd\u001b[0m \u001b[0;34m=\u001b[0m \u001b[0mpopenargs\u001b[0m\u001b[0;34m[\u001b[0m\u001b[0;36m0\u001b[0m\u001b[0;34m]\u001b[0m\u001b[0;34m\u001b[0m\u001b[0m\n\u001b[0;32m--> 223\u001b[0;31m         \u001b[0;32mraise\u001b[0m \u001b[0mCalledProcessError\u001b[0m\u001b[0;34m(\u001b[0m\u001b[0mretcode\u001b[0m\u001b[0;34m,\u001b[0m \u001b[0mcmd\u001b[0m\u001b[0;34m,\u001b[0m \u001b[0moutput\u001b[0m\u001b[0;34m=\u001b[0m\u001b[0moutput\u001b[0m\u001b[0;34m)\u001b[0m\u001b[0;34m\u001b[0m\u001b[0m\n\u001b[0m\u001b[1;32m    224\u001b[0m     \u001b[0;32mreturn\u001b[0m \u001b[0moutput\u001b[0m\u001b[0;34m\u001b[0m\u001b[0m\n\u001b[1;32m    225\u001b[0m \u001b[0;34m\u001b[0m\u001b[0m\n",
      "\u001b[0;31mCalledProcessError\u001b[0m: Command '['java', '-cp', '/home/eldeeb/.cache/Python-Eggs/pyautoweka-.1-py2.7.egg-tmp/pyautoweka/java/autoweka.jar', 'autoweka.tools.GetBestFromTrajectoryGroup', 'experiments/Experiment-dataset1/Experiment-dataset1.trajectories']' returned non-zero exit status 1"
     ]
    }
   ],
   "source": [
    "import pyautoweka\n",
    "\n",
    "experiment = pyautoweka.ClassificationExperiment(tuner_timeout=600)\n",
    "pyautoweka.ClassificationExperiment()\n",
    "experiment.fit(X_train, y_train)\n",
    "\n",
    "y_hat = experiment.predict(X_test)\n",
    "accuracy = sklearn.metrics.accuracy_score(y_test, y_hat)\n",
    "# result.append(accuracy)\n",
    "print(\"Accuracy score\", accuracy)\n",
    "# print(\"Accuracy score\", i, accuracy)"
   ]
  },
  {
   "cell_type": "code",
   "execution_count": 8,
   "id": "b4a64ef0",
   "metadata": {},
   "outputs": [
    {
     "name": "stdout",
     "output_type": "stream",
     "text": [
      "Hello world\n"
     ]
    }
   ],
   "source": [
    "print(\"Hello world\")"
   ]
  }
 ],
 "metadata": {
  "kernelspec": {
   "display_name": "Python 3.9.11 ('automl-bench')",
   "language": "python",
   "name": "python3"
  },
  "language_info": {
   "codemirror_mode": {
    "name": "ipython",
    "version": 3
   },
   "file_extension": ".py",
   "mimetype": "text/x-python",
   "name": "python",
   "nbconvert_exporter": "python",
   "pygments_lexer": "ipython3",
   "version": "3.9.11"
  },
  "vscode": {
   "interpreter": {
    "hash": "dffcc769fdbbb7ec08c52609bad5fcb9907870c55ba3ff3ce7c72638848ff07b"
   }
  }
 },
 "nbformat": 4,
 "nbformat_minor": 5
}

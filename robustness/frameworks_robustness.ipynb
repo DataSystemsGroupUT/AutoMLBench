{
 "cells": [
  {
   "cell_type": "code",
   "execution_count": 1,
   "id": "53d3b497",
   "metadata": {},
   "outputs": [],
   "source": [
    "import pandas as pd\n",
    "# import numpy as np\n",
    "import sklearn\n",
    "from sklearn.preprocessing import LabelEncoder\n",
    "# from autosklearn.classification import AutoSklearnClassifier\n",
    "import warnings\n",
    "warnings.filterwarnings('ignore')"
   ]
  },
  {
   "cell_type": "code",
   "execution_count": 2,
   "id": "284a84ea",
   "metadata": {},
   "outputs": [],
   "source": [
    "train = pd.read_csv(r\"../Datasets/dataset_61_iris_train.csv\", na_values='?')\n",
    "test = pd.read_csv(r\"../Datasets/dataset_61_iris_test.csv\", na_values='?')\n",
    "data = pd.concat([train, test])\n",
    "\n",
    "categorical_ = data.select_dtypes(['object']).columns\n",
    "lab_encs = {col: LabelEncoder().fit(data[col].astype('str')) for col in categorical_}\n",
    "\n",
    "for col in categorical_:\n",
    "    train[col] = lab_encs[col].transform(train[col].astype('str'))\n",
    "    test[col] = lab_encs[col].transform(test[col].astype('str'))\n",
    "\n",
    "train.to_csv('train.csv', index=False)\n",
    "test.to_csv('test.csv', index=False)\n",
    "X_train, X_test, y_train, y_test = \\\n",
    "            train.iloc[:,:-1], test.iloc[:,:-1], train.iloc[:,-1], test.iloc[:,-1]"
   ]
  },
  {
   "cell_type": "markdown",
   "id": "6a6ca9c4",
   "metadata": {},
   "source": [
    "# Autosklearn"
   ]
  },
  {
   "cell_type": "code",
   "execution_count": 10,
   "id": "97bb4ac1",
   "metadata": {},
   "outputs": [
    {
     "name": "stdout",
     "output_type": "stream",
     "text": [
      "autosklearn-v meta 0 ensemble 0\n",
      "autosklearn-e meta 0 ensemble 5\n",
      "autosklearn-m meta 25 ensemble 0\n",
      "autosklearn meta 25 ensemble 50\n"
     ]
    }
   ],
   "source": [
    "options = {'autosklearn-v': [0, 0], 'autosklearn-e': [0, 5], 'autosklearn-m': [25, 0], 'autosklearn': [25, 50]}\n",
    "for k,v in options.items():\n",
    "    print(k, 'meta', v[0], 'ensemble', v[1])"
   ]
  },
  {
   "cell_type": "code",
   "execution_count": 5,
   "id": "a79ffc81",
   "metadata": {},
   "outputs": [
    {
     "name": "stdout",
     "output_type": "stream",
     "text": [
      "[WARNING] [2021-06-06 13:27:21,151:smac.runhistory.runhistory2epm.RunHistory2EPM4LogCost] Got cost of smaller/equal to 0. Replace by 0.000010 since we use log cost.\n",
      "[WARNING] [2021-06-06 13:27:23,263:smac.runhistory.runhistory2epm.RunHistory2EPM4LogCost] Got cost of smaller/equal to 0. Replace by 0.000010 since we use log cost.\n",
      "[WARNING] [2021-06-06 13:27:23,719:smac.runhistory.runhistory2epm.RunHistory2EPM4LogCost] Got cost of smaller/equal to 0. Replace by 0.000010 since we use log cost.\n",
      "[WARNING] [2021-06-06 13:27:24,726:smac.runhistory.runhistory2epm.RunHistory2EPM4LogCost] Got cost of smaller/equal to 0. Replace by 0.000010 since we use log cost.\n",
      "[WARNING] [2021-06-06 13:27:25,109:smac.runhistory.runhistory2epm.RunHistory2EPM4LogCost] Got cost of smaller/equal to 0. Replace by 0.000010 since we use log cost.\n",
      "[WARNING] [2021-06-06 13:27:25,442:smac.runhistory.runhistory2epm.RunHistory2EPM4LogCost] Got cost of smaller/equal to 0. Replace by 0.000010 since we use log cost.\n",
      "[WARNING] [2021-06-06 13:27:28,017:smac.runhistory.runhistory2epm.RunHistory2EPM4LogCost] Got cost of smaller/equal to 0. Replace by 0.000010 since we use log cost.\n",
      "[WARNING] [2021-06-06 13:27:30,541:smac.runhistory.runhistory2epm.RunHistory2EPM4LogCost] Got cost of smaller/equal to 0. Replace by 0.000010 since we use log cost.\n",
      "[WARNING] [2021-06-06 13:27:33,393:smac.runhistory.runhistory2epm.RunHistory2EPM4LogCost] Got cost of smaller/equal to 0. Replace by 0.000010 since we use log cost.\n",
      "[WARNING] [2021-06-06 13:27:36,244:smac.runhistory.runhistory2epm.RunHistory2EPM4LogCost] Got cost of smaller/equal to 0. Replace by 0.000010 since we use log cost.\n",
      "[WARNING] [2021-06-06 13:27:38,902:smac.runhistory.runhistory2epm.RunHistory2EPM4LogCost] Got cost of smaller/equal to 0. Replace by 0.000010 since we use log cost.\n",
      "[WARNING] [2021-06-06 13:27:41,585:smac.runhistory.runhistory2epm.RunHistory2EPM4LogCost] Got cost of smaller/equal to 0. Replace by 0.000010 since we use log cost.\n",
      "[WARNING] [2021-06-06 13:27:43,659:smac.runhistory.runhistory2epm.RunHistory2EPM4LogCost] Got cost of smaller/equal to 0. Replace by 0.000010 since we use log cost.\n",
      "[WARNING] [2021-06-06 13:27:46,217:smac.runhistory.runhistory2epm.RunHistory2EPM4LogCost] Got cost of smaller/equal to 0. Replace by 0.000010 since we use log cost.\n",
      "[WARNING] [2021-06-06 13:27:49,136:smac.runhistory.runhistory2epm.RunHistory2EPM4LogCost] Got cost of smaller/equal to 0. Replace by 0.000010 since we use log cost.\n",
      "[WARNING] [2021-06-06 13:27:51,701:smac.runhistory.runhistory2epm.RunHistory2EPM4LogCost] Got cost of smaller/equal to 0. Replace by 0.000010 since we use log cost.\n",
      "[ERROR] [2021-06-06 13:28:51,755:pynisher] Cannot recover the output from /tmp/tmpbbt2dktp/std.out due to [Errno 2] No such file or directory: '/tmp/tmpbbt2dktp/std.out'\n",
      "[ERROR] [2021-06-06 13:28:51,760:pynisher] Cannot recover the output from /tmp/tmpbbt2dktp/std.err due to [Errno 2] No such file or directory: '/tmp/tmpbbt2dktp/std.err'\n",
      "[WARNING] [2021-06-06 13:28:52,847:smac.runhistory.runhistory2epm.RunHistory2EPM4LogCost] Got cost of smaller/equal to 0. Replace by 0.000010 since we use log cost.\n",
      "[WARNING] [2021-06-06 13:28:53,375:smac.runhistory.runhistory2epm.RunHistory2EPM4LogCost] Got cost of smaller/equal to 0. Replace by 0.000010 since we use log cost.\n",
      "[WARNING] [2021-06-06 13:28:55,817:smac.runhistory.runhistory2epm.RunHistory2EPM4LogCost] Got cost of smaller/equal to 0. Replace by 0.000010 since we use log cost.\n",
      "[WARNING] [2021-06-06 13:28:56,194:smac.runhistory.runhistory2epm.RunHistory2EPM4LogCost] Got cost of smaller/equal to 0. Replace by 0.000010 since we use log cost.\n",
      "[WARNING] [2021-06-06 13:28:58,614:smac.runhistory.runhistory2epm.RunHistory2EPM4LogCost] Got cost of smaller/equal to 0. Replace by 0.000010 since we use log cost.\n",
      "[WARNING] [2021-06-06 13:29:01,023:smac.runhistory.runhistory2epm.RunHistory2EPM4LogCost] Got cost of smaller/equal to 0. Replace by 0.000010 since we use log cost.\n",
      "[WARNING] [2021-06-06 13:29:01,393:smac.runhistory.runhistory2epm.RunHistory2EPM4LogCost] Got cost of smaller/equal to 0. Replace by 0.000010 since we use log cost.\n",
      "[WARNING] [2021-06-06 13:29:04,031:smac.runhistory.runhistory2epm.RunHistory2EPM4LogCost] Got cost of smaller/equal to 0. Replace by 0.000010 since we use log cost.\n",
      "[WARNING] [2021-06-06 13:29:06,764:smac.runhistory.runhistory2epm.RunHistory2EPM4LogCost] Got cost of smaller/equal to 0. Replace by 0.000010 since we use log cost.\n",
      "[WARNING] [2021-06-06 13:29:09,410:smac.runhistory.runhistory2epm.RunHistory2EPM4LogCost] Got cost of smaller/equal to 0. Replace by 0.000010 since we use log cost.\n",
      "[WARNING] [2021-06-06 13:29:09,816:smac.runhistory.runhistory2epm.RunHistory2EPM4LogCost] Got cost of smaller/equal to 0. Replace by 0.000010 since we use log cost.\n",
      "[WARNING] [2021-06-06 13:29:15,422:smac.runhistory.runhistory2epm.RunHistory2EPM4LogCost] Got cost of smaller/equal to 0. Replace by 0.000010 since we use log cost.\n",
      "[WARNING] [2021-06-06 13:29:15,840:smac.runhistory.runhistory2epm.RunHistory2EPM4LogCost] Got cost of smaller/equal to 0. Replace by 0.000010 since we use log cost.\n",
      "[WARNING] [2021-06-06 13:29:16,473:smac.runhistory.runhistory2epm.RunHistory2EPM4LogCost] Got cost of smaller/equal to 0. Replace by 0.000010 since we use log cost.\n",
      "[WARNING] [2021-06-06 13:29:16,875:smac.runhistory.runhistory2epm.RunHistory2EPM4LogCost] Got cost of smaller/equal to 0. Replace by 0.000010 since we use log cost.\n",
      "[WARNING] [2021-06-06 13:29:18,139:smac.runhistory.runhistory2epm.RunHistory2EPM4LogCost] Got cost of smaller/equal to 0. Replace by 0.000010 since we use log cost.\n",
      "[WARNING] [2021-06-06 13:29:18,551:smac.runhistory.runhistory2epm.RunHistory2EPM4LogCost] Got cost of smaller/equal to 0. Replace by 0.000010 since we use log cost.\n",
      "Accuracy score 0 0.9736842105263158\n",
      "[WARNING] [2021-06-06 13:37:16,371:smac.runhistory.runhistory2epm.RunHistory2EPM4LogCost] Got cost of smaller/equal to 0. Replace by 0.000010 since we use log cost.\n",
      "[WARNING] [2021-06-06 13:37:18,451:smac.runhistory.runhistory2epm.RunHistory2EPM4LogCost] Got cost of smaller/equal to 0. Replace by 0.000010 since we use log cost.\n",
      "[WARNING] [2021-06-06 13:37:18,897:smac.runhistory.runhistory2epm.RunHistory2EPM4LogCost] Got cost of smaller/equal to 0. Replace by 0.000010 since we use log cost.\n",
      "[WARNING] [2021-06-06 13:37:19,954:smac.runhistory.runhistory2epm.RunHistory2EPM4LogCost] Got cost of smaller/equal to 0. Replace by 0.000010 since we use log cost.\n",
      "[WARNING] [2021-06-06 13:37:20,331:smac.runhistory.runhistory2epm.RunHistory2EPM4LogCost] Got cost of smaller/equal to 0. Replace by 0.000010 since we use log cost.\n",
      "[WARNING] [2021-06-06 13:37:20,331:smac.runhistory.runhistory2epm.RunHistory2EPM4LogCost] Got cost of smaller/equal to 0. Replace by 0.000010 since we use log cost.\n",
      "[WARNING] [2021-06-06 13:37:20,673:smac.runhistory.runhistory2epm.RunHistory2EPM4LogCost] Got cost of smaller/equal to 0. Replace by 0.000010 since we use log cost.\n",
      "[ERROR] [2021-06-06 13:38:20,727:pynisher] Cannot recover the output from /tmp/tmp1baxfbj4/std.out due to [Errno 2] No such file or directory: '/tmp/tmp1baxfbj4/std.out'\n",
      "[ERROR] [2021-06-06 13:38:20,730:pynisher] Cannot recover the output from /tmp/tmp1baxfbj4/std.err due to [Errno 2] No such file or directory: '/tmp/tmp1baxfbj4/std.err'\n",
      "[WARNING] [2021-06-06 13:38:21,871:smac.runhistory.runhistory2epm.RunHistory2EPM4LogCost] Got cost of smaller/equal to 0. Replace by 0.000010 since we use log cost.\n",
      "[WARNING] [2021-06-06 13:38:24,092:smac.runhistory.runhistory2epm.RunHistory2EPM4LogCost] Got cost of smaller/equal to 0. Replace by 0.000010 since we use log cost.\n",
      "[WARNING] [2021-06-06 13:38:26,777:smac.runhistory.runhistory2epm.RunHistory2EPM4LogCost] Got cost of smaller/equal to 0. Replace by 0.000010 since we use log cost.\n",
      "[ERROR] [2021-06-06 13:39:26,831:pynisher] Cannot recover the output from /tmp/tmp8azy06e1/std.out due to [Errno 2] No such file or directory: '/tmp/tmp8azy06e1/std.out'\n",
      "[ERROR] [2021-06-06 13:39:26,833:pynisher] Cannot recover the output from /tmp/tmp8azy06e1/std.err due to [Errno 2] No such file or directory: '/tmp/tmp8azy06e1/std.err'\n",
      "[WARNING] [2021-06-06 13:39:27,939:smac.runhistory.runhistory2epm.RunHistory2EPM4LogCost] Got cost of smaller/equal to 0. Replace by 0.000010 since we use log cost.\n"
     ]
    },
    {
     "name": "stdout",
     "output_type": "stream",
     "text": [
      "Accuracy score 1 0.9736842105263158\n",
      "[WARNING] [2021-06-06 13:47:12,091:smac.runhistory.runhistory2epm.RunHistory2EPM4LogCost] Got cost of smaller/equal to 0. Replace by 0.000010 since we use log cost.\n",
      "[ERROR] [2021-06-06 13:48:12,141:pynisher] Cannot recover the output from /tmp/tmppddpylk6/std.out due to [Errno 2] No such file or directory: '/tmp/tmppddpylk6/std.out'\n",
      "[ERROR] [2021-06-06 13:48:12,146:pynisher] Cannot recover the output from /tmp/tmppddpylk6/std.err due to [Errno 2] No such file or directory: '/tmp/tmppddpylk6/std.err'\n",
      "[WARNING] [2021-06-06 13:48:13,260:smac.runhistory.runhistory2epm.RunHistory2EPM4LogCost] Got cost of smaller/equal to 0. Replace by 0.000010 since we use log cost.\n",
      "[WARNING] [2021-06-06 13:48:13,771:smac.runhistory.runhistory2epm.RunHistory2EPM4LogCost] Got cost of smaller/equal to 0. Replace by 0.000010 since we use log cost.\n",
      "[WARNING] [2021-06-06 13:48:14,755:smac.runhistory.runhistory2epm.RunHistory2EPM4LogCost] Got cost of smaller/equal to 0. Replace by 0.000010 since we use log cost.\n",
      "[WARNING] [2021-06-06 13:48:15,177:smac.runhistory.runhistory2epm.RunHistory2EPM4LogCost] Got cost of smaller/equal to 0. Replace by 0.000010 since we use log cost.\n",
      "[WARNING] [2021-06-06 13:48:15,458:smac.runhistory.runhistory2epm.RunHistory2EPM4LogCost] Got cost of smaller/equal to 0. Replace by 0.000010 since we use log cost.\n",
      "[WARNING] [2021-06-06 13:48:17,904:smac.runhistory.runhistory2epm.RunHistory2EPM4LogCost] Got cost of smaller/equal to 0. Replace by 0.000010 since we use log cost.\n",
      "[WARNING] [2021-06-06 13:48:20,117:smac.runhistory.runhistory2epm.RunHistory2EPM4LogCost] Got cost of smaller/equal to 0. Replace by 0.000010 since we use log cost.\n",
      "[ERROR] [2021-06-06 13:49:20,172:pynisher] Cannot recover the output from /tmp/tmpup973e5q/std.out due to [Errno 2] No such file or directory: '/tmp/tmpup973e5q/std.out'\n",
      "[ERROR] [2021-06-06 13:49:20,176:pynisher] Cannot recover the output from /tmp/tmpup973e5q/std.err due to [Errno 2] No such file or directory: '/tmp/tmpup973e5q/std.err'\n",
      "[WARNING] [2021-06-06 13:49:21,299:smac.runhistory.runhistory2epm.RunHistory2EPM4LogCost] Got cost of smaller/equal to 0. Replace by 0.000010 since we use log cost.\n",
      "[WARNING] [2021-06-06 13:49:24,353:smac.runhistory.runhistory2epm.RunHistory2EPM4LogCost] Got cost of smaller/equal to 0. Replace by 0.000010 since we use log cost.\n",
      "[ERROR] [2021-06-06 13:50:24,418:pynisher] Cannot recover the output from /tmp/tmpezanb66_/std.out due to [Errno 2] No such file or directory: '/tmp/tmpezanb66_/std.out'\n",
      "[ERROR] [2021-06-06 13:50:24,421:pynisher] Cannot recover the output from /tmp/tmpezanb66_/std.err due to [Errno 2] No such file or directory: '/tmp/tmpezanb66_/std.err'\n",
      "[WARNING] [2021-06-06 13:50:25,528:smac.runhistory.runhistory2epm.RunHistory2EPM4LogCost] Got cost of smaller/equal to 0. Replace by 0.000010 since we use log cost.\n",
      "[WARNING] [2021-06-06 13:50:28,641:smac.runhistory.runhistory2epm.RunHistory2EPM4LogCost] Got cost of smaller/equal to 0. Replace by 0.000010 since we use log cost.\n",
      "[ERROR] [2021-06-06 13:51:28,704:pynisher] Cannot recover the output from /tmp/tmp362q5hnx/std.out due to [Errno 2] No such file or directory: '/tmp/tmp362q5hnx/std.out'\n",
      "[ERROR] [2021-06-06 13:51:28,709:pynisher] Cannot recover the output from /tmp/tmp362q5hnx/std.err due to [Errno 2] No such file or directory: '/tmp/tmp362q5hnx/std.err'\n",
      "[WARNING] [2021-06-06 13:51:29,859:smac.runhistory.runhistory2epm.RunHistory2EPM4LogCost] Got cost of smaller/equal to 0. Replace by 0.000010 since we use log cost.\n",
      "[WARNING] [2021-06-06 13:51:32,587:smac.runhistory.runhistory2epm.RunHistory2EPM4LogCost] Got cost of smaller/equal to 0. Replace by 0.000010 since we use log cost.\n",
      "[ERROR] [2021-06-06 13:52:32,644:pynisher] Cannot recover the output from /tmp/tmpis91trfa/std.out due to [Errno 2] No such file or directory: '/tmp/tmpis91trfa/std.out'\n",
      "[ERROR] [2021-06-06 13:52:32,647:pynisher] Cannot recover the output from /tmp/tmpis91trfa/std.err due to [Errno 2] No such file or directory: '/tmp/tmpis91trfa/std.err'\n",
      "[WARNING] [2021-06-06 13:52:33,699:smac.runhistory.runhistory2epm.RunHistory2EPM4LogCost] Got cost of smaller/equal to 0. Replace by 0.000010 since we use log cost.\n",
      "[WARNING] [2021-06-06 13:52:37,043:smac.runhistory.runhistory2epm.RunHistory2EPM4LogCost] Got cost of smaller/equal to 0. Replace by 0.000010 since we use log cost.\n",
      "[WARNING] [2021-06-06 13:52:39,745:smac.runhistory.runhistory2epm.RunHistory2EPM4LogCost] Got cost of smaller/equal to 0. Replace by 0.000010 since we use log cost.\n",
      "[WARNING] [2021-06-06 13:52:40,208:smac.runhistory.runhistory2epm.RunHistory2EPM4LogCost] Got cost of smaller/equal to 0. Replace by 0.000010 since we use log cost.\n",
      "[ERROR] [2021-06-06 13:53:40,317:pynisher] Cannot recover the output from /tmp/tmpc_e3g3x8/std.out due to [Errno 2] No such file or directory: '/tmp/tmpc_e3g3x8/std.out'\n",
      "[ERROR] [2021-06-06 13:53:40,322:pynisher] Cannot recover the output from /tmp/tmpc_e3g3x8/std.err due to [Errno 2] No such file or directory: '/tmp/tmpc_e3g3x8/std.err'\n",
      "[WARNING] [2021-06-06 13:53:41,402:smac.runhistory.runhistory2epm.RunHistory2EPM4LogCost] Got cost of smaller/equal to 0. Replace by 0.000010 since we use log cost.\n",
      "[WARNING] [2021-06-06 13:53:42,015:smac.runhistory.runhistory2epm.RunHistory2EPM4LogCost] Got cost of smaller/equal to 0. Replace by 0.000010 since we use log cost.\n",
      "[WARNING] [2021-06-06 13:53:44,946:smac.runhistory.runhistory2epm.RunHistory2EPM4LogCost] Got cost of smaller/equal to 0. Replace by 0.000010 since we use log cost.\n",
      "[ERROR] [2021-06-06 13:54:45,001:pynisher] Cannot recover the output from /tmp/tmpz1_83wu5/std.out due to [Errno 2] No such file or directory: '/tmp/tmpz1_83wu5/std.out'\n",
      "[ERROR] [2021-06-06 13:54:45,002:pynisher] Cannot recover the output from /tmp/tmpz1_83wu5/std.err due to [Errno 2] No such file or directory: '/tmp/tmpz1_83wu5/std.err'\n",
      "[WARNING] [2021-06-06 13:54:46,090:smac.runhistory.runhistory2epm.RunHistory2EPM4LogCost] Got cost of smaller/equal to 0. Replace by 0.000010 since we use log cost.\n",
      "[WARNING] [2021-06-06 13:54:46,580:smac.runhistory.runhistory2epm.RunHistory2EPM4LogCost] Got cost of smaller/equal to 0. Replace by 0.000010 since we use log cost.\n",
      "[WARNING] [2021-06-06 13:54:47,139:smac.runhistory.runhistory2epm.RunHistory2EPM4LogCost] Got cost of smaller/equal to 0. Replace by 0.000010 since we use log cost.\n",
      "[WARNING] [2021-06-06 13:54:51,735:smac.runhistory.runhistory2epm.RunHistory2EPM4LogCost] Got cost of smaller/equal to 0. Replace by 0.000010 since we use log cost.\n",
      "[WARNING] [2021-06-06 13:54:55,527:smac.runhistory.runhistory2epm.RunHistory2EPM4LogCost] Got cost of smaller/equal to 0. Replace by 0.000010 since we use log cost.\n",
      "[WARNING] [2021-06-06 13:54:59,009:smac.runhistory.runhistory2epm.RunHistory2EPM4LogCost] Got cost of smaller/equal to 0. Replace by 0.000010 since we use log cost.\n",
      "[WARNING] [2021-06-06 13:54:59,374:smac.runhistory.runhistory2epm.RunHistory2EPM4LogCost] Got cost of smaller/equal to 0. Replace by 0.000010 since we use log cost.\n",
      "Accuracy score 2 0.9736842105263158\n",
      "[WARNING] [2021-06-06 13:57:07,647:smac.runhistory.runhistory2epm.RunHistory2EPM4LogCost] Got cost of smaller/equal to 0. Replace by 0.000010 since we use log cost.\n",
      "[ERROR] [2021-06-06 13:58:07,704:pynisher] Cannot recover the output from /tmp/tmp42tasyih/std.out due to [Errno 2] No such file or directory: '/tmp/tmp42tasyih/std.out'\n",
      "[ERROR] [2021-06-06 13:58:07,707:pynisher] Cannot recover the output from /tmp/tmp42tasyih/std.err due to [Errno 2] No such file or directory: '/tmp/tmp42tasyih/std.err'\n",
      "[WARNING] [2021-06-06 13:58:08,764:smac.runhistory.runhistory2epm.RunHistory2EPM4LogCost] Got cost of smaller/equal to 0. Replace by 0.000010 since we use log cost.\n",
      "[WARNING] [2021-06-06 13:58:09,338:smac.runhistory.runhistory2epm.RunHistory2EPM4LogCost] Got cost of smaller/equal to 0. Replace by 0.000010 since we use log cost.\n",
      "[WARNING] [2021-06-06 13:58:10,368:smac.runhistory.runhistory2epm.RunHistory2EPM4LogCost] Got cost of smaller/equal to 0. Replace by 0.000010 since we use log cost.\n",
      "[WARNING] [2021-06-06 13:58:10,895:smac.runhistory.runhistory2epm.RunHistory2EPM4LogCost] Got cost of smaller/equal to 0. Replace by 0.000010 since we use log cost.\n"
     ]
    },
    {
     "name": "stdout",
     "output_type": "stream",
     "text": [
      "[WARNING] [2021-06-06 13:58:11,212:smac.runhistory.runhistory2epm.RunHistory2EPM4LogCost] Got cost of smaller/equal to 0. Replace by 0.000010 since we use log cost.\n",
      "[WARNING] [2021-06-06 13:58:13,995:smac.runhistory.runhistory2epm.RunHistory2EPM4LogCost] Got cost of smaller/equal to 0. Replace by 0.000010 since we use log cost.\n",
      "[WARNING] [2021-06-06 13:58:16,680:smac.runhistory.runhistory2epm.RunHistory2EPM4LogCost] Got cost of smaller/equal to 0. Replace by 0.000010 since we use log cost.\n",
      "[WARNING] [2021-06-06 13:58:17,170:smac.runhistory.runhistory2epm.RunHistory2EPM4LogCost] Got cost of smaller/equal to 0. Replace by 0.000010 since we use log cost.\n",
      "[WARNING] [2021-06-06 13:58:20,232:smac.runhistory.runhistory2epm.RunHistory2EPM4LogCost] Got cost of smaller/equal to 0. Replace by 0.000010 since we use log cost.\n",
      "[ERROR] [2021-06-06 13:59:20,285:pynisher] Cannot recover the output from /tmp/tmp8d11z_z0/std.out due to [Errno 2] No such file or directory: '/tmp/tmp8d11z_z0/std.out'\n",
      "[ERROR] [2021-06-06 13:59:20,290:pynisher] Cannot recover the output from /tmp/tmp8d11z_z0/std.err due to [Errno 2] No such file or directory: '/tmp/tmp8d11z_z0/std.err'\n",
      "[WARNING] [2021-06-06 13:59:21,387:smac.runhistory.runhistory2epm.RunHistory2EPM4LogCost] Got cost of smaller/equal to 0. Replace by 0.000010 since we use log cost.\n",
      "[WARNING] [2021-06-06 13:59:24,983:smac.runhistory.runhistory2epm.RunHistory2EPM4LogCost] Got cost of smaller/equal to 0. Replace by 0.000010 since we use log cost.\n",
      "[WARNING] [2021-06-06 13:59:28,292:smac.runhistory.runhistory2epm.RunHistory2EPM4LogCost] Got cost of smaller/equal to 0. Replace by 0.000010 since we use log cost.\n",
      "[WARNING] [2021-06-06 13:59:31,162:smac.runhistory.runhistory2epm.RunHistory2EPM4LogCost] Got cost of smaller/equal to 0. Replace by 0.000010 since we use log cost.\n",
      "[WARNING] [2021-06-06 13:59:34,390:smac.runhistory.runhistory2epm.RunHistory2EPM4LogCost] Got cost of smaller/equal to 0. Replace by 0.000010 since we use log cost.\n",
      "[WARNING] [2021-06-06 13:59:37,970:smac.runhistory.runhistory2epm.RunHistory2EPM4LogCost] Got cost of smaller/equal to 0. Replace by 0.000010 since we use log cost.\n",
      "[WARNING] [2021-06-06 13:59:42,190:smac.runhistory.runhistory2epm.RunHistory2EPM4LogCost] Got cost of smaller/equal to 0. Replace by 0.000010 since we use log cost.\n",
      "[WARNING] [2021-06-06 13:59:45,199:smac.runhistory.runhistory2epm.RunHistory2EPM4LogCost] Got cost of smaller/equal to 0. Replace by 0.000010 since we use log cost.\n",
      "[WARNING] [2021-06-06 13:59:48,425:smac.runhistory.runhistory2epm.RunHistory2EPM4LogCost] Got cost of smaller/equal to 0. Replace by 0.000010 since we use log cost.\n",
      "[WARNING] [2021-06-06 13:59:48,942:smac.runhistory.runhistory2epm.RunHistory2EPM4LogCost] Got cost of smaller/equal to 0. Replace by 0.000010 since we use log cost.\n",
      "[WARNING] [2021-06-06 13:59:52,109:smac.runhistory.runhistory2epm.RunHistory2EPM4LogCost] Got cost of smaller/equal to 0. Replace by 0.000010 since we use log cost.\n",
      "[WARNING] [2021-06-06 13:59:53,339:smac.runhistory.runhistory2epm.RunHistory2EPM4LogCost] Got cost of smaller/equal to 0. Replace by 0.000010 since we use log cost.\n",
      "[WARNING] [2021-06-06 13:59:53,943:smac.runhistory.runhistory2epm.RunHistory2EPM4LogCost] Got cost of smaller/equal to 0. Replace by 0.000010 since we use log cost.\n",
      "[WARNING] [2021-06-06 13:59:56,643:smac.runhistory.runhistory2epm.RunHistory2EPM4LogCost] Got cost of smaller/equal to 0. Replace by 0.000010 since we use log cost.\n",
      "[WARNING] [2021-06-06 13:59:59,308:smac.runhistory.runhistory2epm.RunHistory2EPM4LogCost] Got cost of smaller/equal to 0. Replace by 0.000010 since we use log cost.\n",
      "[WARNING] [2021-06-06 13:59:59,619:smac.runhistory.runhistory2epm.RunHistory2EPM4LogCost] Got cost of smaller/equal to 0. Replace by 0.000010 since we use log cost.\n",
      "[WARNING] [2021-06-06 14:00:00,051:smac.runhistory.runhistory2epm.RunHistory2EPM4LogCost] Got cost of smaller/equal to 0. Replace by 0.000010 since we use log cost.\n",
      "[WARNING] [2021-06-06 14:00:00,369:smac.runhistory.runhistory2epm.RunHistory2EPM4LogCost] Got cost of smaller/equal to 0. Replace by 0.000010 since we use log cost.\n",
      "[WARNING] [2021-06-06 14:00:00,848:smac.runhistory.runhistory2epm.RunHistory2EPM4LogCost] Got cost of smaller/equal to 0. Replace by 0.000010 since we use log cost.\n",
      "[ERROR] [2021-06-06 14:01:00,895:pynisher] Cannot recover the output from /tmp/tmpea_crgyu/std.out due to [Errno 2] No such file or directory: '/tmp/tmpea_crgyu/std.out'\n",
      "[ERROR] [2021-06-06 14:01:00,897:pynisher] Cannot recover the output from /tmp/tmpea_crgyu/std.err due to [Errno 2] No such file or directory: '/tmp/tmpea_crgyu/std.err'\n",
      "[WARNING] [2021-06-06 14:01:02,050:smac.runhistory.runhistory2epm.RunHistory2EPM4LogCost] Got cost of smaller/equal to 0. Replace by 0.000010 since we use log cost.\n",
      "[WARNING] [2021-06-06 14:01:02,658:smac.runhistory.runhistory2epm.RunHistory2EPM4LogCost] Got cost of smaller/equal to 0. Replace by 0.000010 since we use log cost.\n",
      "[WARNING] [2021-06-06 14:01:03,171:smac.runhistory.runhistory2epm.RunHistory2EPM4LogCost] Got cost of smaller/equal to 0. Replace by 0.000010 since we use log cost.\n",
      "Accuracy score 3 0.9473684210526315\n",
      "[WARNING] [2021-06-06 14:07:02,054:smac.runhistory.runhistory2epm.RunHistory2EPM4LogCost] Got cost of smaller/equal to 0. Replace by 0.000010 since we use log cost.\n",
      "[WARNING] [2021-06-06 14:07:04,555:smac.runhistory.runhistory2epm.RunHistory2EPM4LogCost] Got cost of smaller/equal to 0. Replace by 0.000010 since we use log cost.\n",
      "[WARNING] [2021-06-06 14:07:04,988:smac.runhistory.runhistory2epm.RunHistory2EPM4LogCost] Got cost of smaller/equal to 0. Replace by 0.000010 since we use log cost.\n",
      "[WARNING] [2021-06-06 14:07:06,041:smac.runhistory.runhistory2epm.RunHistory2EPM4LogCost] Got cost of smaller/equal to 0. Replace by 0.000010 since we use log cost.\n",
      "[ERROR] [2021-06-06 14:08:06,099:pynisher] Cannot recover the output from /tmp/tmpqjhutpxs/std.out due to [Errno 2] No such file or directory: '/tmp/tmpqjhutpxs/std.out'\n",
      "[ERROR] [2021-06-06 14:08:06,103:pynisher] Cannot recover the output from /tmp/tmpqjhutpxs/std.err due to [Errno 2] No such file or directory: '/tmp/tmpqjhutpxs/std.err'\n",
      "[WARNING] [2021-06-06 14:08:07,241:smac.runhistory.runhistory2epm.RunHistory2EPM4LogCost] Got cost of smaller/equal to 0. Replace by 0.000010 since we use log cost.\n",
      "[WARNING] [2021-06-06 14:08:07,590:smac.runhistory.runhistory2epm.RunHistory2EPM4LogCost] Got cost of smaller/equal to 0. Replace by 0.000010 since we use log cost.\n",
      "[ERROR] [2021-06-06 14:09:07,654:pynisher] Cannot recover the output from /tmp/tmphv4s9cpm/std.out due to [Errno 2] No such file or directory: '/tmp/tmphv4s9cpm/std.out'\n",
      "[ERROR] [2021-06-06 14:09:07,656:pynisher] Cannot recover the output from /tmp/tmphv4s9cpm/std.err due to [Errno 2] No such file or directory: '/tmp/tmphv4s9cpm/std.err'\n",
      "[WARNING] [2021-06-06 14:09:08,774:smac.runhistory.runhistory2epm.RunHistory2EPM4LogCost] Got cost of smaller/equal to 0. Replace by 0.000010 since we use log cost.\n",
      "[WARNING] [2021-06-06 14:09:09,144:smac.runhistory.runhistory2epm.RunHistory2EPM4LogCost] Got cost of smaller/equal to 0. Replace by 0.000010 since we use log cost.\n",
      "[ERROR] [2021-06-06 14:10:09,204:pynisher] Cannot recover the output from /tmp/tmpr6qmir_f/std.out due to [Errno 2] No such file or directory: '/tmp/tmpr6qmir_f/std.out'\n",
      "[ERROR] [2021-06-06 14:10:09,207:pynisher] Cannot recover the output from /tmp/tmpr6qmir_f/std.err due to [Errno 2] No such file or directory: '/tmp/tmpr6qmir_f/std.err'\n",
      "[WARNING] [2021-06-06 14:10:10,347:smac.runhistory.runhistory2epm.RunHistory2EPM4LogCost] Got cost of smaller/equal to 0. Replace by 0.000010 since we use log cost.\n",
      "[WARNING] [2021-06-06 14:10:12,953:smac.runhistory.runhistory2epm.RunHistory2EPM4LogCost] Got cost of smaller/equal to 0. Replace by 0.000010 since we use log cost.\n",
      "[WARNING] [2021-06-06 14:10:13,718:smac.runhistory.runhistory2epm.RunHistory2EPM4LogCost] Got cost of smaller/equal to 0. Replace by 0.000010 since we use log cost.\n",
      "[WARNING] [2021-06-06 14:10:14,759:smac.runhistory.runhistory2epm.RunHistory2EPM4LogCost] Got cost of smaller/equal to 0. Replace by 0.000010 since we use log cost.\n",
      "[ERROR] [2021-06-06 14:11:14,814:pynisher] Cannot recover the output from /tmp/tmp3tsjbcnh/std.out due to [Errno 2] No such file or directory: '/tmp/tmp3tsjbcnh/std.out'\n"
     ]
    },
    {
     "name": "stdout",
     "output_type": "stream",
     "text": [
      "[ERROR] [2021-06-06 14:11:14,817:pynisher] Cannot recover the output from /tmp/tmp3tsjbcnh/std.err due to [Errno 2] No such file or directory: '/tmp/tmp3tsjbcnh/std.err'\n",
      "[WARNING] [2021-06-06 14:11:15,959:smac.runhistory.runhistory2epm.RunHistory2EPM4LogCost] Got cost of smaller/equal to 0. Replace by 0.000010 since we use log cost.\n",
      "Accuracy score 4 0.9736842105263158\n",
      "[ERROR] [2021-06-06 14:17:54,901:pynisher] Cannot recover the output from /tmp/tmpn37ayced/std.out due to [Errno 2] No such file or directory: '/tmp/tmpn37ayced/std.out'\n",
      "[ERROR] [2021-06-06 14:17:54,906:pynisher] Cannot recover the output from /tmp/tmpn37ayced/std.err due to [Errno 2] No such file or directory: '/tmp/tmpn37ayced/std.err'\n",
      "[WARNING] [2021-06-06 14:17:58,452:smac.runhistory.runhistory2epm.RunHistory2EPM4LogCost] Got cost of smaller/equal to 0. Replace by 0.000010 since we use log cost.\n",
      "[WARNING] [2021-06-06 14:17:59,478:smac.runhistory.runhistory2epm.RunHistory2EPM4LogCost] Got cost of smaller/equal to 0. Replace by 0.000010 since we use log cost.\n",
      "[WARNING] [2021-06-06 14:17:59,877:smac.runhistory.runhistory2epm.RunHistory2EPM4LogCost] Got cost of smaller/equal to 0. Replace by 0.000010 since we use log cost.\n",
      "[WARNING] [2021-06-06 14:18:00,187:smac.runhistory.runhistory2epm.RunHistory2EPM4LogCost] Got cost of smaller/equal to 0. Replace by 0.000010 since we use log cost.\n",
      "[WARNING] [2021-06-06 14:18:02,850:smac.runhistory.runhistory2epm.RunHistory2EPM4LogCost] Got cost of smaller/equal to 0. Replace by 0.000010 since we use log cost.\n",
      "[WARNING] [2021-06-06 14:18:03,146:smac.runhistory.runhistory2epm.RunHistory2EPM4LogCost] Got cost of smaller/equal to 0. Replace by 0.000010 since we use log cost.\n",
      "[WARNING] [2021-06-06 14:18:06,246:smac.runhistory.runhistory2epm.RunHistory2EPM4LogCost] Got cost of smaller/equal to 0. Replace by 0.000010 since we use log cost.\n",
      "[WARNING] [2021-06-06 14:18:06,631:smac.runhistory.runhistory2epm.RunHistory2EPM4LogCost] Got cost of smaller/equal to 0. Replace by 0.000010 since we use log cost.\n",
      "[WARNING] [2021-06-06 14:18:10,015:smac.runhistory.runhistory2epm.RunHistory2EPM4LogCost] Got cost of smaller/equal to 0. Replace by 0.000010 since we use log cost.\n",
      "[WARNING] [2021-06-06 14:18:10,591:smac.runhistory.runhistory2epm.RunHistory2EPM4LogCost] Got cost of smaller/equal to 0. Replace by 0.000010 since we use log cost.\n",
      "[WARNING] [2021-06-06 14:18:10,974:smac.runhistory.runhistory2epm.RunHistory2EPM4LogCost] Got cost of smaller/equal to 0. Replace by 0.000010 since we use log cost.\n",
      "[WARNING] [2021-06-06 14:18:13,808:smac.runhistory.runhistory2epm.RunHistory2EPM4LogCost] Got cost of smaller/equal to 0. Replace by 0.000010 since we use log cost.\n",
      "[WARNING] [2021-06-06 14:18:14,168:smac.runhistory.runhistory2epm.RunHistory2EPM4LogCost] Got cost of smaller/equal to 0. Replace by 0.000010 since we use log cost.\n",
      "Accuracy score 5 0.9736842105263158\n",
      "[ERROR] [2021-06-06 14:27:49,907:pynisher] Cannot recover the output from /tmp/tmpjr9en93u/std.out due to [Errno 2] No such file or directory: '/tmp/tmpjr9en93u/std.out'\n",
      "[ERROR] [2021-06-06 14:27:49,913:pynisher] Cannot recover the output from /tmp/tmpjr9en93u/std.err due to [Errno 2] No such file or directory: '/tmp/tmpjr9en93u/std.err'\n",
      "[ERROR] [2021-06-06 14:28:53,438:pynisher] Cannot recover the output from /tmp/tmpre4jhi70/std.out due to [Errno 2] No such file or directory: '/tmp/tmpre4jhi70/std.out'\n",
      "[ERROR] [2021-06-06 14:28:53,443:pynisher] Cannot recover the output from /tmp/tmpre4jhi70/std.err due to [Errno 2] No such file or directory: '/tmp/tmpre4jhi70/std.err'\n",
      "[ERROR] [2021-06-06 14:29:58,524:pynisher] Cannot recover the output from /tmp/tmpv716r2ne/std.out due to [Errno 2] No such file or directory: '/tmp/tmpv716r2ne/std.out'\n",
      "[ERROR] [2021-06-06 14:29:58,529:pynisher] Cannot recover the output from /tmp/tmpv716r2ne/std.err due to [Errno 2] No such file or directory: '/tmp/tmpv716r2ne/std.err'\n",
      "[ERROR] [2021-06-06 14:31:06,238:pynisher] Cannot recover the output from /tmp/tmpw8m1ad4e/std.out due to [Errno 2] No such file or directory: '/tmp/tmpw8m1ad4e/std.out'\n",
      "[ERROR] [2021-06-06 14:31:06,244:pynisher] Cannot recover the output from /tmp/tmpw8m1ad4e/std.err due to [Errno 2] No such file or directory: '/tmp/tmpw8m1ad4e/std.err'\n",
      "Accuracy score 6 0.9736842105263158\n",
      "[WARNING] [2021-06-06 14:36:47,283:smac.runhistory.runhistory2epm.RunHistory2EPM4LogCost] Got cost of smaller/equal to 0. Replace by 0.000010 since we use log cost.\n",
      "[WARNING] [2021-06-06 14:36:49,256:smac.runhistory.runhistory2epm.RunHistory2EPM4LogCost] Got cost of smaller/equal to 0. Replace by 0.000010 since we use log cost.\n",
      "[WARNING] [2021-06-06 14:36:49,692:smac.runhistory.runhistory2epm.RunHistory2EPM4LogCost] Got cost of smaller/equal to 0. Replace by 0.000010 since we use log cost.\n",
      "[WARNING] [2021-06-06 14:36:49,692:smac.runhistory.runhistory2epm.RunHistory2EPM4LogCost] Got cost of smaller/equal to 0. Replace by 0.000010 since we use log cost.\n",
      "[WARNING] [2021-06-06 14:36:50,754:smac.runhistory.runhistory2epm.RunHistory2EPM4LogCost] Got cost of smaller/equal to 0. Replace by 0.000010 since we use log cost.\n",
      "[ERROR] [2021-06-06 14:37:50,808:pynisher] Cannot recover the output from /tmp/tmpwwi5g909/std.out due to [Errno 2] No such file or directory: '/tmp/tmpwwi5g909/std.out'\n",
      "[ERROR] [2021-06-06 14:37:50,812:pynisher] Cannot recover the output from /tmp/tmpwwi5g909/std.err due to [Errno 2] No such file or directory: '/tmp/tmpwwi5g909/std.err'\n",
      "[WARNING] [2021-06-06 14:37:51,950:smac.runhistory.runhistory2epm.RunHistory2EPM4LogCost] Got cost of smaller/equal to 0. Replace by 0.000010 since we use log cost.\n",
      "[WARNING] [2021-06-06 14:37:52,305:smac.runhistory.runhistory2epm.RunHistory2EPM4LogCost] Got cost of smaller/equal to 0. Replace by 0.000010 since we use log cost.\n",
      "[WARNING] [2021-06-06 14:37:54,977:smac.runhistory.runhistory2epm.RunHistory2EPM4LogCost] Got cost of smaller/equal to 0. Replace by 0.000010 since we use log cost.\n",
      "[WARNING] [2021-06-06 14:37:55,285:smac.runhistory.runhistory2epm.RunHistory2EPM4LogCost] Got cost of smaller/equal to 0. Replace by 0.000010 since we use log cost.\n",
      "[ERROR] [2021-06-06 14:38:55,396:pynisher] Cannot recover the output from /tmp/tmp9fq_q39o/std.out due to [Errno 2] No such file or directory: '/tmp/tmp9fq_q39o/std.out'\n",
      "[ERROR] [2021-06-06 14:38:55,400:pynisher] Cannot recover the output from /tmp/tmp9fq_q39o/std.err due to [Errno 2] No such file or directory: '/tmp/tmp9fq_q39o/std.err'\n",
      "[WARNING] [2021-06-06 14:38:56,538:smac.runhistory.runhistory2epm.RunHistory2EPM4LogCost] Got cost of smaller/equal to 0. Replace by 0.000010 since we use log cost.\n",
      "[ERROR] [2021-06-06 14:39:56,591:pynisher] Cannot recover the output from /tmp/tmpww4af26l/std.out due to [Errno 2] No such file or directory: '/tmp/tmpww4af26l/std.out'\n",
      "[ERROR] [2021-06-06 14:39:56,594:pynisher] Cannot recover the output from /tmp/tmpww4af26l/std.err due to [Errno 2] No such file or directory: '/tmp/tmpww4af26l/std.err'\n",
      "[WARNING] [2021-06-06 14:39:57,699:smac.runhistory.runhistory2epm.RunHistory2EPM4LogCost] Got cost of smaller/equal to 0. Replace by 0.000010 since we use log cost.\n",
      "[WARNING] [2021-06-06 14:39:58,684:smac.runhistory.runhistory2epm.RunHistory2EPM4LogCost] Got cost of smaller/equal to 0. Replace by 0.000010 since we use log cost.\n",
      "[WARNING] [2021-06-06 14:40:01,146:smac.runhistory.runhistory2epm.RunHistory2EPM4LogCost] Got cost of smaller/equal to 0. Replace by 0.000010 since we use log cost.\n",
      "[ERROR] [2021-06-06 14:41:01,172:pynisher] Cannot recover the output from /tmp/tmp1eo_cbap/std.out due to [Errno 2] No such file or directory: '/tmp/tmp1eo_cbap/std.out'\n",
      "[ERROR] [2021-06-06 14:41:01,175:pynisher] Cannot recover the output from /tmp/tmp1eo_cbap/std.err due to [Errno 2] No such file or directory: '/tmp/tmp1eo_cbap/std.err'\n",
      "[WARNING] [2021-06-06 14:41:02,291:smac.runhistory.runhistory2epm.RunHistory2EPM4LogCost] Got cost of smaller/equal to 0. Replace by 0.000010 since we use log cost.\n",
      "[WARNING] [2021-06-06 14:41:05,726:smac.runhistory.runhistory2epm.RunHistory2EPM4LogCost] Got cost of smaller/equal to 0. Replace by 0.000010 since we use log cost.\n",
      "[WARNING] [2021-06-06 14:41:08,378:smac.runhistory.runhistory2epm.RunHistory2EPM4LogCost] Got cost of smaller/equal to 0. Replace by 0.000010 since we use log cost.\n"
     ]
    },
    {
     "name": "stdout",
     "output_type": "stream",
     "text": [
      "[WARNING] [2021-06-06 14:41:11,681:smac.runhistory.runhistory2epm.RunHistory2EPM4LogCost] Got cost of smaller/equal to 0. Replace by 0.000010 since we use log cost.\n",
      "[WARNING] [2021-06-06 14:41:15,431:smac.runhistory.runhistory2epm.RunHistory2EPM4LogCost] Got cost of smaller/equal to 0. Replace by 0.000010 since we use log cost.\n",
      "[WARNING] [2021-06-06 14:41:18,258:smac.runhistory.runhistory2epm.RunHistory2EPM4LogCost] Got cost of smaller/equal to 0. Replace by 0.000010 since we use log cost.\n",
      "[WARNING] [2021-06-06 14:41:20,707:smac.runhistory.runhistory2epm.RunHistory2EPM4LogCost] Got cost of smaller/equal to 0. Replace by 0.000010 since we use log cost.\n",
      "[WARNING] [2021-06-06 14:41:23,244:smac.runhistory.runhistory2epm.RunHistory2EPM4LogCost] Got cost of smaller/equal to 0. Replace by 0.000010 since we use log cost.\n",
      "[WARNING] [2021-06-06 14:41:23,546:smac.runhistory.runhistory2epm.RunHistory2EPM4LogCost] Got cost of smaller/equal to 0. Replace by 0.000010 since we use log cost.\n",
      "Accuracy score 7 0.9736842105263158\n",
      "[WARNING] [2021-06-06 14:46:42,127:smac.runhistory.runhistory2epm.RunHistory2EPM4LogCost] Got cost of smaller/equal to 0. Replace by 0.000010 since we use log cost.\n",
      "[WARNING] [2021-06-06 14:46:44,080:smac.runhistory.runhistory2epm.RunHistory2EPM4LogCost] Got cost of smaller/equal to 0. Replace by 0.000010 since we use log cost.\n",
      "[WARNING] [2021-06-06 14:46:44,847:smac.runhistory.runhistory2epm.RunHistory2EPM4LogCost] Got cost of smaller/equal to 0. Replace by 0.000010 since we use log cost.\n",
      "[WARNING] [2021-06-06 14:46:45,889:smac.runhistory.runhistory2epm.RunHistory2EPM4LogCost] Got cost of smaller/equal to 0. Replace by 0.000010 since we use log cost.\n",
      "[WARNING] [2021-06-06 14:46:46,294:smac.runhistory.runhistory2epm.RunHistory2EPM4LogCost] Got cost of smaller/equal to 0. Replace by 0.000010 since we use log cost.\n",
      "[WARNING] [2021-06-06 14:46:46,596:smac.runhistory.runhistory2epm.RunHistory2EPM4LogCost] Got cost of smaller/equal to 0. Replace by 0.000010 since we use log cost.\n",
      "[WARNING] [2021-06-06 14:46:48,982:smac.runhistory.runhistory2epm.RunHistory2EPM4LogCost] Got cost of smaller/equal to 0. Replace by 0.000010 since we use log cost.\n",
      "[ERROR] [2021-06-06 14:47:49,038:pynisher] Cannot recover the output from /tmp/tmpxwtvl4q6/std.out due to [Errno 2] No such file or directory: '/tmp/tmpxwtvl4q6/std.out'\n",
      "[ERROR] [2021-06-06 14:47:49,042:pynisher] Cannot recover the output from /tmp/tmpxwtvl4q6/std.err due to [Errno 2] No such file or directory: '/tmp/tmpxwtvl4q6/std.err'\n",
      "[WARNING] [2021-06-06 14:47:50,176:smac.runhistory.runhistory2epm.RunHistory2EPM4LogCost] Got cost of smaller/equal to 0. Replace by 0.000010 since we use log cost.\n",
      "[WARNING] [2021-06-06 14:47:50,583:smac.runhistory.runhistory2epm.RunHistory2EPM4LogCost] Got cost of smaller/equal to 0. Replace by 0.000010 since we use log cost.\n",
      "[ERROR] [2021-06-06 14:48:50,655:pynisher] Cannot recover the output from /tmp/tmpqb8b7ehp/std.out due to [Errno 2] No such file or directory: '/tmp/tmpqb8b7ehp/std.out'\n",
      "[ERROR] [2021-06-06 14:48:50,660:pynisher] Cannot recover the output from /tmp/tmpqb8b7ehp/std.err due to [Errno 2] No such file or directory: '/tmp/tmpqb8b7ehp/std.err'\n",
      "[WARNING] [2021-06-06 14:48:51,752:smac.runhistory.runhistory2epm.RunHistory2EPM4LogCost] Got cost of smaller/equal to 0. Replace by 0.000010 since we use log cost.\n",
      "[WARNING] [2021-06-06 14:48:52,120:smac.runhistory.runhistory2epm.RunHistory2EPM4LogCost] Got cost of smaller/equal to 0. Replace by 0.000010 since we use log cost.\n",
      "[WARNING] [2021-06-06 14:48:53,037:smac.runhistory.runhistory2epm.RunHistory2EPM4LogCost] Got cost of smaller/equal to 0. Replace by 0.000010 since we use log cost.\n",
      "[WARNING] [2021-06-06 14:48:54,429:smac.runhistory.runhistory2epm.RunHistory2EPM4LogCost] Got cost of smaller/equal to 0. Replace by 0.000010 since we use log cost.\n",
      "[ERROR] [2021-06-06 14:49:54,485:pynisher] Cannot recover the output from /tmp/tmpi2mpclgu/std.out due to [Errno 2] No such file or directory: '/tmp/tmpi2mpclgu/std.out'\n",
      "[ERROR] [2021-06-06 14:49:54,489:pynisher] Cannot recover the output from /tmp/tmpi2mpclgu/std.err due to [Errno 2] No such file or directory: '/tmp/tmpi2mpclgu/std.err'\n",
      "[WARNING] [2021-06-06 14:49:55,623:smac.runhistory.runhistory2epm.RunHistory2EPM4LogCost] Got cost of smaller/equal to 0. Replace by 0.000010 since we use log cost.\n",
      "[WARNING] [2021-06-06 14:49:56,053:smac.runhistory.runhistory2epm.RunHistory2EPM4LogCost] Got cost of smaller/equal to 0. Replace by 0.000010 since we use log cost.\n",
      "[WARNING] [2021-06-06 14:49:58,940:smac.runhistory.runhistory2epm.RunHistory2EPM4LogCost] Got cost of smaller/equal to 0. Replace by 0.000010 since we use log cost.\n",
      "[WARNING] [2021-06-06 14:50:01,439:smac.runhistory.runhistory2epm.RunHistory2EPM4LogCost] Got cost of smaller/equal to 0. Replace by 0.000010 since we use log cost.\n",
      "[WARNING] [2021-06-06 14:50:01,783:smac.runhistory.runhistory2epm.RunHistory2EPM4LogCost] Got cost of smaller/equal to 0. Replace by 0.000010 since we use log cost.\n",
      "[WARNING] [2021-06-06 14:50:02,763:smac.runhistory.runhistory2epm.RunHistory2EPM4LogCost] Got cost of smaller/equal to 0. Replace by 0.000010 since we use log cost.\n",
      "[WARNING] [2021-06-06 14:50:05,684:smac.runhistory.runhistory2epm.RunHistory2EPM4LogCost] Got cost of smaller/equal to 0. Replace by 0.000010 since we use log cost.\n",
      "[WARNING] [2021-06-06 14:50:06,065:smac.runhistory.runhistory2epm.RunHistory2EPM4LogCost] Got cost of smaller/equal to 0. Replace by 0.000010 since we use log cost.\n",
      "[WARNING] [2021-06-06 14:50:06,459:smac.runhistory.runhistory2epm.RunHistory2EPM4LogCost] Got cost of smaller/equal to 0. Replace by 0.000010 since we use log cost.\n",
      "[WARNING] [2021-06-06 14:50:06,831:smac.runhistory.runhistory2epm.RunHistory2EPM4LogCost] Got cost of smaller/equal to 0. Replace by 0.000010 since we use log cost.\n",
      "[WARNING] [2021-06-06 14:50:10,164:smac.runhistory.runhistory2epm.RunHistory2EPM4LogCost] Got cost of smaller/equal to 0. Replace by 0.000010 since we use log cost.\n",
      "[WARNING] [2021-06-06 14:50:10,549:smac.runhistory.runhistory2epm.RunHistory2EPM4LogCost] Got cost of smaller/equal to 0. Replace by 0.000010 since we use log cost.\n",
      "[WARNING] [2021-06-06 14:50:13,553:smac.runhistory.runhistory2epm.RunHistory2EPM4LogCost] Got cost of smaller/equal to 0. Replace by 0.000010 since we use log cost.\n",
      "[WARNING] [2021-06-06 14:50:16,645:smac.runhistory.runhistory2epm.RunHistory2EPM4LogCost] Got cost of smaller/equal to 0. Replace by 0.000010 since we use log cost.\n",
      "[WARNING] [2021-06-06 14:50:17,454:smac.runhistory.runhistory2epm.RunHistory2EPM4LogCost] Got cost of smaller/equal to 0. Replace by 0.000010 since we use log cost.\n",
      "[WARNING] [2021-06-06 14:50:20,663:smac.runhistory.runhistory2epm.RunHistory2EPM4LogCost] Got cost of smaller/equal to 0. Replace by 0.000010 since we use log cost.\n",
      "[WARNING] [2021-06-06 14:50:21,040:smac.runhistory.runhistory2epm.RunHistory2EPM4LogCost] Got cost of smaller/equal to 0. Replace by 0.000010 since we use log cost.\n",
      "[WARNING] [2021-06-06 14:50:21,477:smac.runhistory.runhistory2epm.RunHistory2EPM4LogCost] Got cost of smaller/equal to 0. Replace by 0.000010 since we use log cost.\n",
      "[WARNING] [2021-06-06 14:50:21,776:smac.runhistory.runhistory2epm.RunHistory2EPM4LogCost] Got cost of smaller/equal to 0. Replace by 0.000010 since we use log cost.\n",
      "[WARNING] [2021-06-06 14:50:24,807:smac.runhistory.runhistory2epm.RunHistory2EPM4LogCost] Got cost of smaller/equal to 0. Replace by 0.000010 since we use log cost.\n",
      "[WARNING] [2021-06-06 14:50:25,129:smac.runhistory.runhistory2epm.RunHistory2EPM4LogCost] Got cost of smaller/equal to 0. Replace by 0.000010 since we use log cost.\n",
      "[WARNING] [2021-06-06 14:50:28,508:smac.runhistory.runhistory2epm.RunHistory2EPM4LogCost] Got cost of smaller/equal to 0. Replace by 0.000010 since we use log cost.\n",
      "[WARNING] [2021-06-06 14:50:28,913:smac.runhistory.runhistory2epm.RunHistory2EPM4LogCost] Got cost of smaller/equal to 0. Replace by 0.000010 since we use log cost.\n",
      "[WARNING] [2021-06-06 14:50:29,428:smac.runhistory.runhistory2epm.RunHistory2EPM4LogCost] Got cost of smaller/equal to 0. Replace by 0.000010 since we use log cost.\n",
      "[ERROR] [2021-06-06 14:51:29,484:pynisher] Cannot recover the output from /tmp/tmpqa6cz570/std.out due to [Errno 2] No such file or directory: '/tmp/tmpqa6cz570/std.out'\n"
     ]
    },
    {
     "name": "stdout",
     "output_type": "stream",
     "text": [
      "[ERROR] [2021-06-06 14:51:29,487:pynisher] Cannot recover the output from /tmp/tmpqa6cz570/std.err due to [Errno 2] No such file or directory: '/tmp/tmpqa6cz570/std.err'\n",
      "[WARNING] [2021-06-06 14:51:30,612:smac.runhistory.runhistory2epm.RunHistory2EPM4LogCost] Got cost of smaller/equal to 0. Replace by 0.000010 since we use log cost.\n",
      "[WARNING] [2021-06-06 14:51:31,238:smac.runhistory.runhistory2epm.RunHistory2EPM4LogCost] Got cost of smaller/equal to 0. Replace by 0.000010 since we use log cost.\n",
      "[WARNING] [2021-06-06 14:51:34,312:smac.runhistory.runhistory2epm.RunHistory2EPM4LogCost] Got cost of smaller/equal to 0. Replace by 0.000010 since we use log cost.\n",
      "[WARNING] [2021-06-06 14:51:37,195:smac.runhistory.runhistory2epm.RunHistory2EPM4LogCost] Got cost of smaller/equal to 0. Replace by 0.000010 since we use log cost.\n",
      "[WARNING] [2021-06-06 14:51:40,149:smac.runhistory.runhistory2epm.RunHistory2EPM4LogCost] Got cost of smaller/equal to 0. Replace by 0.000010 since we use log cost.\n",
      "[WARNING] [2021-06-06 14:51:43,411:smac.runhistory.runhistory2epm.RunHistory2EPM4LogCost] Got cost of smaller/equal to 0. Replace by 0.000010 since we use log cost.\n",
      "[ERROR] [2021-06-06 14:52:43,468:pynisher] Cannot recover the output from /tmp/tmp_3b2h_9r/std.out due to [Errno 2] No such file or directory: '/tmp/tmp_3b2h_9r/std.out'\n",
      "[ERROR] [2021-06-06 14:52:43,471:pynisher] Cannot recover the output from /tmp/tmp_3b2h_9r/std.err due to [Errno 2] No such file or directory: '/tmp/tmp_3b2h_9r/std.err'\n",
      "[WARNING] [2021-06-06 14:52:44,614:smac.runhistory.runhistory2epm.RunHistory2EPM4LogCost] Got cost of smaller/equal to 0. Replace by 0.000010 since we use log cost.\n",
      "[WARNING] [2021-06-06 14:52:47,562:smac.runhistory.runhistory2epm.RunHistory2EPM4LogCost] Got cost of smaller/equal to 0. Replace by 0.000010 since we use log cost.\n",
      "[WARNING] [2021-06-06 14:52:47,906:smac.runhistory.runhistory2epm.RunHistory2EPM4LogCost] Got cost of smaller/equal to 0. Replace by 0.000010 since we use log cost.\n",
      "[WARNING] [2021-06-06 14:52:48,254:smac.runhistory.runhistory2epm.RunHistory2EPM4LogCost] Got cost of smaller/equal to 0. Replace by 0.000010 since we use log cost.\n",
      "[WARNING] [2021-06-06 14:52:48,644:smac.runhistory.runhistory2epm.RunHistory2EPM4LogCost] Got cost of smaller/equal to 0. Replace by 0.000010 since we use log cost.\n",
      "[WARNING] [2021-06-06 14:52:49,086:smac.runhistory.runhistory2epm.RunHistory2EPM4LogCost] Got cost of smaller/equal to 0. Replace by 0.000010 since we use log cost.\n",
      "[ERROR] [2021-06-06 14:53:49,144:pynisher] Cannot recover the output from /tmp/tmpzwmm7v8x/std.out due to [Errno 2] No such file or directory: '/tmp/tmpzwmm7v8x/std.out'\n",
      "[ERROR] [2021-06-06 14:53:49,147:pynisher] Cannot recover the output from /tmp/tmpzwmm7v8x/std.err due to [Errno 2] No such file or directory: '/tmp/tmpzwmm7v8x/std.err'\n",
      "[WARNING] [2021-06-06 14:53:50,272:smac.runhistory.runhistory2epm.RunHistory2EPM4LogCost] Got cost of smaller/equal to 0. Replace by 0.000010 since we use log cost.\n",
      "[WARNING] [2021-06-06 14:53:50,724:smac.runhistory.runhistory2epm.RunHistory2EPM4LogCost] Got cost of smaller/equal to 0. Replace by 0.000010 since we use log cost.\n",
      "[WARNING] [2021-06-06 14:53:53,434:smac.runhistory.runhistory2epm.RunHistory2EPM4LogCost] Got cost of smaller/equal to 0. Replace by 0.000010 since we use log cost.\n",
      "[WARNING] [2021-06-06 14:53:56,108:smac.runhistory.runhistory2epm.RunHistory2EPM4LogCost] Got cost of smaller/equal to 0. Replace by 0.000010 since we use log cost.\n",
      "[WARNING] [2021-06-06 14:53:56,461:smac.runhistory.runhistory2epm.RunHistory2EPM4LogCost] Got cost of smaller/equal to 0. Replace by 0.000010 since we use log cost.\n",
      "[WARNING] [2021-06-06 14:53:59,355:smac.runhistory.runhistory2epm.RunHistory2EPM4LogCost] Got cost of smaller/equal to 0. Replace by 0.000010 since we use log cost.\n",
      "[ERROR] [2021-06-06 14:54:59,411:pynisher] Cannot recover the output from /tmp/tmppq50laay/std.out due to [Errno 2] No such file or directory: '/tmp/tmppq50laay/std.out'\n",
      "[ERROR] [2021-06-06 14:54:59,419:pynisher] Cannot recover the output from /tmp/tmppq50laay/std.err due to [Errno 2] No such file or directory: '/tmp/tmppq50laay/std.err'\n",
      "[WARNING] [2021-06-06 14:55:00,577:smac.runhistory.runhistory2epm.RunHistory2EPM4LogCost] Got cost of smaller/equal to 0. Replace by 0.000010 since we use log cost.\n",
      "[WARNING] [2021-06-06 14:55:01,192:smac.runhistory.runhistory2epm.RunHistory2EPM4LogCost] Got cost of smaller/equal to 0. Replace by 0.000010 since we use log cost.\n",
      "[WARNING] [2021-06-06 14:55:03,455:smac.runhistory.runhistory2epm.RunHistory2EPM4LogCost] Got cost of smaller/equal to 0. Replace by 0.000010 since we use log cost.\n",
      "[WARNING] [2021-06-06 14:55:06,341:smac.runhistory.runhistory2epm.RunHistory2EPM4LogCost] Got cost of smaller/equal to 0. Replace by 0.000010 since we use log cost.\n",
      "[WARNING] [2021-06-06 14:55:06,755:smac.runhistory.runhistory2epm.RunHistory2EPM4LogCost] Got cost of smaller/equal to 0. Replace by 0.000010 since we use log cost.\n",
      "[WARNING] [2021-06-06 14:55:07,175:smac.runhistory.runhistory2epm.RunHistory2EPM4LogCost] Got cost of smaller/equal to 0. Replace by 0.000010 since we use log cost.\n",
      "[WARNING] [2021-06-06 14:55:07,596:smac.runhistory.runhistory2epm.RunHistory2EPM4LogCost] Got cost of smaller/equal to 0. Replace by 0.000010 since we use log cost.\n",
      "[WARNING] [2021-06-06 14:55:08,172:smac.runhistory.runhistory2epm.RunHistory2EPM4LogCost] Got cost of smaller/equal to 0. Replace by 0.000010 since we use log cost.\n",
      "[WARNING] [2021-06-06 14:55:10,895:smac.runhistory.runhistory2epm.RunHistory2EPM4LogCost] Got cost of smaller/equal to 0. Replace by 0.000010 since we use log cost.\n",
      "[WARNING] [2021-06-06 14:55:13,936:smac.runhistory.runhistory2epm.RunHistory2EPM4LogCost] Got cost of smaller/equal to 0. Replace by 0.000010 since we use log cost.\n",
      "[ERROR] [2021-06-06 14:56:13,965:pynisher] Cannot recover the output from /tmp/tmpfecw24tm/std.out due to [Errno 2] No such file or directory: '/tmp/tmpfecw24tm/std.out'\n",
      "[ERROR] [2021-06-06 14:56:13,969:pynisher] Cannot recover the output from /tmp/tmpfecw24tm/std.err due to [Errno 2] No such file or directory: '/tmp/tmpfecw24tm/std.err'\n",
      "[WARNING] [2021-06-06 14:56:15,102:smac.runhistory.runhistory2epm.RunHistory2EPM4LogCost] Got cost of smaller/equal to 0. Replace by 0.000010 since we use log cost.\n",
      "[WARNING] [2021-06-06 14:56:18,482:smac.runhistory.runhistory2epm.RunHistory2EPM4LogCost] Got cost of smaller/equal to 0. Replace by 0.000010 since we use log cost.\n",
      "[WARNING] [2021-06-06 14:56:19,049:smac.runhistory.runhistory2epm.RunHistory2EPM4LogCost] Got cost of smaller/equal to 0. Replace by 0.000010 since we use log cost.\n",
      "[WARNING] [2021-06-06 14:56:20,400:smac.runhistory.runhistory2epm.RunHistory2EPM4LogCost] Got cost of smaller/equal to 0. Replace by 0.000010 since we use log cost.\n",
      "[ERROR] [2021-06-06 14:56:27,394:pynisher] Cannot recover the output from /tmp/tmprnzf2crv/std.out due to [Errno 2] No such file or directory: '/tmp/tmprnzf2crv/std.out'\n",
      "[ERROR] [2021-06-06 14:56:27,395:pynisher] Cannot recover the output from /tmp/tmprnzf2crv/std.err due to [Errno 2] No such file or directory: '/tmp/tmprnzf2crv/std.err'\n",
      "[WARNING] [2021-06-06 14:56:28,520:smac.runhistory.runhistory2epm.RunHistory2EPM4LogCost] Got cost of smaller/equal to 0. Replace by 0.000010 since we use log cost.\n",
      "Accuracy score 8 0.9736842105263158\n",
      "[WARNING] [2021-06-06 14:56:35,352:smac.runhistory.runhistory2epm.RunHistory2EPM4LogCost] Got cost of smaller/equal to 0. Replace by 0.000010 since we use log cost.\n",
      "[WARNING] [2021-06-06 14:56:37,807:smac.runhistory.runhistory2epm.RunHistory2EPM4LogCost] Got cost of smaller/equal to 0. Replace by 0.000010 since we use log cost.\n",
      "[WARNING] [2021-06-06 14:56:38,338:smac.runhistory.runhistory2epm.RunHistory2EPM4LogCost] Got cost of smaller/equal to 0. Replace by 0.000010 since we use log cost.\n",
      "[WARNING] [2021-06-06 14:56:38,792:smac.runhistory.runhistory2epm.RunHistory2EPM4LogCost] Got cost of smaller/equal to 0. Replace by 0.000010 since we use log cost.\n",
      "[WARNING] [2021-06-06 14:56:39,250:smac.runhistory.runhistory2epm.RunHistory2EPM4LogCost] Got cost of smaller/equal to 0. Replace by 0.000010 since we use log cost.\n",
      "[WARNING] [2021-06-06 14:56:39,645:smac.runhistory.runhistory2epm.RunHistory2EPM4LogCost] Got cost of smaller/equal to 0. Replace by 0.000010 since we use log cost.\n"
     ]
    },
    {
     "name": "stdout",
     "output_type": "stream",
     "text": [
      "[WARNING] [2021-06-06 14:56:42,107:smac.runhistory.runhistory2epm.RunHistory2EPM4LogCost] Got cost of smaller/equal to 0. Replace by 0.000010 since we use log cost.\n",
      "[ERROR] [2021-06-06 14:57:42,176:pynisher] Cannot recover the output from /tmp/tmpeo48b13c/std.out due to [Errno 2] No such file or directory: '/tmp/tmpeo48b13c/std.out'\n",
      "[ERROR] [2021-06-06 14:57:42,181:pynisher] Cannot recover the output from /tmp/tmpeo48b13c/std.err due to [Errno 2] No such file or directory: '/tmp/tmpeo48b13c/std.err'\n",
      "[WARNING] [2021-06-06 14:57:43,364:smac.runhistory.runhistory2epm.RunHistory2EPM4LogCost] Got cost of smaller/equal to 0. Replace by 0.000010 since we use log cost.\n",
      "[WARNING] [2021-06-06 14:57:43,781:smac.runhistory.runhistory2epm.RunHistory2EPM4LogCost] Got cost of smaller/equal to 0. Replace by 0.000010 since we use log cost.\n",
      "[WARNING] [2021-06-06 14:57:46,411:smac.runhistory.runhistory2epm.RunHistory2EPM4LogCost] Got cost of smaller/equal to 0. Replace by 0.000010 since we use log cost.\n",
      "[ERROR] [2021-06-06 14:58:46,467:pynisher] Cannot recover the output from /tmp/tmp6qtmgm97/std.out due to [Errno 2] No such file or directory: '/tmp/tmp6qtmgm97/std.out'\n",
      "[ERROR] [2021-06-06 14:58:46,473:pynisher] Cannot recover the output from /tmp/tmp6qtmgm97/std.err due to [Errno 2] No such file or directory: '/tmp/tmp6qtmgm97/std.err'\n",
      "[WARNING] [2021-06-06 14:58:47,577:smac.runhistory.runhistory2epm.RunHistory2EPM4LogCost] Got cost of smaller/equal to 0. Replace by 0.000010 since we use log cost.\n",
      "[WARNING] [2021-06-06 14:58:49,013:smac.runhistory.runhistory2epm.RunHistory2EPM4LogCost] Got cost of smaller/equal to 0. Replace by 0.000010 since we use log cost.\n",
      "[WARNING] [2021-06-06 14:58:50,600:smac.runhistory.runhistory2epm.RunHistory2EPM4LogCost] Got cost of smaller/equal to 0. Replace by 0.000010 since we use log cost.\n",
      "[WARNING] [2021-06-06 14:58:54,811:smac.runhistory.runhistory2epm.RunHistory2EPM4LogCost] Got cost of smaller/equal to 0. Replace by 0.000010 since we use log cost.\n",
      "[WARNING] [2021-06-06 14:58:57,810:smac.runhistory.runhistory2epm.RunHistory2EPM4LogCost] Got cost of smaller/equal to 0. Replace by 0.000010 since we use log cost.\n",
      "[WARNING] [2021-06-06 14:59:00,921:smac.runhistory.runhistory2epm.RunHistory2EPM4LogCost] Got cost of smaller/equal to 0. Replace by 0.000010 since we use log cost.\n",
      "[ERROR] [2021-06-06 15:00:00,991:pynisher] Cannot recover the output from /tmp/tmpp5pi7q52/std.out due to [Errno 2] No such file or directory: '/tmp/tmpp5pi7q52/std.out'\n",
      "[ERROR] [2021-06-06 15:00:00,996:pynisher] Cannot recover the output from /tmp/tmpp5pi7q52/std.err due to [Errno 2] No such file or directory: '/tmp/tmpp5pi7q52/std.err'\n",
      "[WARNING] [2021-06-06 15:00:02,114:smac.runhistory.runhistory2epm.RunHistory2EPM4LogCost] Got cost of smaller/equal to 0. Replace by 0.000010 since we use log cost.\n",
      "[WARNING] [2021-06-06 15:00:02,767:smac.runhistory.runhistory2epm.RunHistory2EPM4LogCost] Got cost of smaller/equal to 0. Replace by 0.000010 since we use log cost.\n",
      "[WARNING] [2021-06-06 15:00:05,781:smac.runhistory.runhistory2epm.RunHistory2EPM4LogCost] Got cost of smaller/equal to 0. Replace by 0.000010 since we use log cost.\n",
      "[WARNING] [2021-06-06 15:00:06,569:smac.runhistory.runhistory2epm.RunHistory2EPM4LogCost] Got cost of smaller/equal to 0. Replace by 0.000010 since we use log cost.\n",
      "Accuracy score 9 0.9736842105263158\n",
      "[WARNING] [2021-06-06 15:06:30,909:smac.runhistory.runhistory2epm.RunHistory2EPM4LogCost] Got cost of smaller/equal to 0. Replace by 0.000010 since we use log cost.\n",
      "[WARNING] [2021-06-06 15:06:32,936:smac.runhistory.runhistory2epm.RunHistory2EPM4LogCost] Got cost of smaller/equal to 0. Replace by 0.000010 since we use log cost.\n",
      "[ERROR] [2021-06-06 15:07:32,994:pynisher] Cannot recover the output from /tmp/tmpl4h1koe0/std.out due to [Errno 2] No such file or directory: '/tmp/tmpl4h1koe0/std.out'\n",
      "[ERROR] [2021-06-06 15:07:32,998:pynisher] Cannot recover the output from /tmp/tmpl4h1koe0/std.err due to [Errno 2] No such file or directory: '/tmp/tmpl4h1koe0/std.err'\n",
      "[WARNING] [2021-06-06 15:07:34,123:smac.runhistory.runhistory2epm.RunHistory2EPM4LogCost] Got cost of smaller/equal to 0. Replace by 0.000010 since we use log cost.\n",
      "Accuracy score 0 0.9736842105263158\n",
      "[WARNING] [2021-06-06 15:16:24,821:smac.runhistory.runhistory2epm.RunHistory2EPM4LogCost] Got cost of smaller/equal to 0. Replace by 0.000010 since we use log cost.\n",
      "[WARNING] [2021-06-06 15:16:26,790:smac.runhistory.runhistory2epm.RunHistory2EPM4LogCost] Got cost of smaller/equal to 0. Replace by 0.000010 since we use log cost.\n",
      "[WARNING] [2021-06-06 15:16:27,212:smac.runhistory.runhistory2epm.RunHistory2EPM4LogCost] Got cost of smaller/equal to 0. Replace by 0.000010 since we use log cost.\n",
      "[WARNING] [2021-06-06 15:16:27,620:smac.runhistory.runhistory2epm.RunHistory2EPM4LogCost] Got cost of smaller/equal to 0. Replace by 0.000010 since we use log cost.\n",
      "[WARNING] [2021-06-06 15:16:28,004:smac.runhistory.runhistory2epm.RunHistory2EPM4LogCost] Got cost of smaller/equal to 0. Replace by 0.000010 since we use log cost.\n",
      "[WARNING] [2021-06-06 15:16:28,329:smac.runhistory.runhistory2epm.RunHistory2EPM4LogCost] Got cost of smaller/equal to 0. Replace by 0.000010 since we use log cost.\n",
      "[WARNING] [2021-06-06 15:16:31,155:smac.runhistory.runhistory2epm.RunHistory2EPM4LogCost] Got cost of smaller/equal to 0. Replace by 0.000010 since we use log cost.\n",
      "[ERROR] [2021-06-06 15:17:31,210:pynisher] Cannot recover the output from /tmp/tmpp56nti4e/std.out due to [Errno 2] No such file or directory: '/tmp/tmpp56nti4e/std.out'\n",
      "[ERROR] [2021-06-06 15:17:31,214:pynisher] Cannot recover the output from /tmp/tmpp56nti4e/std.err due to [Errno 2] No such file or directory: '/tmp/tmpp56nti4e/std.err'\n",
      "[WARNING] [2021-06-06 15:17:32,367:smac.runhistory.runhistory2epm.RunHistory2EPM4LogCost] Got cost of smaller/equal to 0. Replace by 0.000010 since we use log cost.\n",
      "[WARNING] [2021-06-06 15:17:32,719:smac.runhistory.runhistory2epm.RunHistory2EPM4LogCost] Got cost of smaller/equal to 0. Replace by 0.000010 since we use log cost.\n",
      "[WARNING] [2021-06-06 15:17:35,267:smac.runhistory.runhistory2epm.RunHistory2EPM4LogCost] Got cost of smaller/equal to 0. Replace by 0.000010 since we use log cost.\n",
      "[WARNING] [2021-06-06 15:17:35,563:smac.runhistory.runhistory2epm.RunHistory2EPM4LogCost] Got cost of smaller/equal to 0. Replace by 0.000010 since we use log cost.\n",
      "Accuracy score 1 0.9736842105263158\n",
      "[WARNING] [2021-06-06 15:26:20,732:smac.runhistory.runhistory2epm.RunHistory2EPM4LogCost] Got cost of smaller/equal to 0. Replace by 0.000010 since we use log cost.\n",
      "[WARNING] [2021-06-06 15:26:22,680:smac.runhistory.runhistory2epm.RunHistory2EPM4LogCost] Got cost of smaller/equal to 0. Replace by 0.000010 since we use log cost.\n",
      "[WARNING] [2021-06-06 15:26:23,118:smac.runhistory.runhistory2epm.RunHistory2EPM4LogCost] Got cost of smaller/equal to 0. Replace by 0.000010 since we use log cost.\n",
      "[WARNING] [2021-06-06 15:26:23,529:smac.runhistory.runhistory2epm.RunHistory2EPM4LogCost] Got cost of smaller/equal to 0. Replace by 0.000010 since we use log cost.\n",
      "[WARNING] [2021-06-06 15:26:23,914:smac.runhistory.runhistory2epm.RunHistory2EPM4LogCost] Got cost of smaller/equal to 0. Replace by 0.000010 since we use log cost.\n",
      "[WARNING] [2021-06-06 15:26:24,246:smac.runhistory.runhistory2epm.RunHistory2EPM4LogCost] Got cost of smaller/equal to 0. Replace by 0.000010 since we use log cost.\n",
      "[WARNING] [2021-06-06 15:26:26,693:smac.runhistory.runhistory2epm.RunHistory2EPM4LogCost] Got cost of smaller/equal to 0. Replace by 0.000010 since we use log cost.\n",
      "[WARNING] [2021-06-06 15:26:29,146:smac.runhistory.runhistory2epm.RunHistory2EPM4LogCost] Got cost of smaller/equal to 0. Replace by 0.000010 since we use log cost.\n",
      "[ERROR] [2021-06-06 15:27:29,218:pynisher] Cannot recover the output from /tmp/tmp6155jw2f/std.out due to [Errno 2] No such file or directory: '/tmp/tmp6155jw2f/std.out'\n",
      "[ERROR] [2021-06-06 15:27:29,239:pynisher] Cannot recover the output from /tmp/tmp6155jw2f/std.err due to [Errno 2] No such file or directory: '/tmp/tmp6155jw2f/std.err'\n",
      "[WARNING] [2021-06-06 15:27:30,344:smac.runhistory.runhistory2epm.RunHistory2EPM4LogCost] Got cost of smaller/equal to 0. Replace by 0.000010 since we use log cost.\n"
     ]
    },
    {
     "name": "stdout",
     "output_type": "stream",
     "text": [
      "Accuracy score 2 0.9736842105263158\n",
      "[WARNING] [2021-06-06 15:36:16,162:smac.runhistory.runhistory2epm.RunHistory2EPM4LogCost] Got cost of smaller/equal to 0. Replace by 0.000010 since we use log cost.\n",
      "[WARNING] [2021-06-06 15:36:18,793:smac.runhistory.runhistory2epm.RunHistory2EPM4LogCost] Got cost of smaller/equal to 0. Replace by 0.000010 since we use log cost.\n",
      "[WARNING] [2021-06-06 15:36:19,231:smac.runhistory.runhistory2epm.RunHistory2EPM4LogCost] Got cost of smaller/equal to 0. Replace by 0.000010 since we use log cost.\n",
      "[WARNING] [2021-06-06 15:36:19,760:smac.runhistory.runhistory2epm.RunHistory2EPM4LogCost] Got cost of smaller/equal to 0. Replace by 0.000010 since we use log cost.\n",
      "[WARNING] [2021-06-06 15:36:20,163:smac.runhistory.runhistory2epm.RunHistory2EPM4LogCost] Got cost of smaller/equal to 0. Replace by 0.000010 since we use log cost.\n",
      "[WARNING] [2021-06-06 15:36:20,503:smac.runhistory.runhistory2epm.RunHistory2EPM4LogCost] Got cost of smaller/equal to 0. Replace by 0.000010 since we use log cost.\n",
      "[WARNING] [2021-06-06 15:36:23,032:smac.runhistory.runhistory2epm.RunHistory2EPM4LogCost] Got cost of smaller/equal to 0. Replace by 0.000010 since we use log cost.\n",
      "[WARNING] [2021-06-06 15:36:25,610:smac.runhistory.runhistory2epm.RunHistory2EPM4LogCost] Got cost of smaller/equal to 0. Replace by 0.000010 since we use log cost.\n",
      "[WARNING] [2021-06-06 15:36:25,916:smac.runhistory.runhistory2epm.RunHistory2EPM4LogCost] Got cost of smaller/equal to 0. Replace by 0.000010 since we use log cost.\n",
      "[WARNING] [2021-06-06 15:36:28,949:smac.runhistory.runhistory2epm.RunHistory2EPM4LogCost] Got cost of smaller/equal to 0. Replace by 0.000010 since we use log cost.\n",
      "[WARNING] [2021-06-06 15:36:29,314:smac.runhistory.runhistory2epm.RunHistory2EPM4LogCost] Got cost of smaller/equal to 0. Replace by 0.000010 since we use log cost.\n",
      "Accuracy score 3 0.9736842105263158\n",
      "[WARNING] [2021-06-06 15:46:12,587:smac.runhistory.runhistory2epm.RunHistory2EPM4LogCost] Got cost of smaller/equal to 0. Replace by 0.000010 since we use log cost.\n",
      "[WARNING] [2021-06-06 15:46:14,802:smac.runhistory.runhistory2epm.RunHistory2EPM4LogCost] Got cost of smaller/equal to 0. Replace by 0.000010 since we use log cost.\n",
      "[WARNING] [2021-06-06 15:46:15,238:smac.runhistory.runhistory2epm.RunHistory2EPM4LogCost] Got cost of smaller/equal to 0. Replace by 0.000010 since we use log cost.\n",
      "[WARNING] [2021-06-06 15:46:15,704:smac.runhistory.runhistory2epm.RunHistory2EPM4LogCost] Got cost of smaller/equal to 0. Replace by 0.000010 since we use log cost.\n",
      "[WARNING] [2021-06-06 15:46:16,127:smac.runhistory.runhistory2epm.RunHistory2EPM4LogCost] Got cost of smaller/equal to 0. Replace by 0.000010 since we use log cost.\n",
      "[WARNING] [2021-06-06 15:46:17,094:smac.runhistory.runhistory2epm.RunHistory2EPM4LogCost] Got cost of smaller/equal to 0. Replace by 0.000010 since we use log cost.\n",
      "[WARNING] [2021-06-06 15:46:21,139:smac.runhistory.runhistory2epm.RunHistory2EPM4LogCost] Got cost of smaller/equal to 0. Replace by 0.000010 since we use log cost.\n",
      "[WARNING] [2021-06-06 15:46:24,497:smac.runhistory.runhistory2epm.RunHistory2EPM4LogCost] Got cost of smaller/equal to 0. Replace by 0.000010 since we use log cost.\n",
      "[ERROR] [2021-06-06 15:47:24,551:pynisher] Cannot recover the output from /tmp/tmpi1xg39va/std.out due to [Errno 2] No such file or directory: '/tmp/tmpi1xg39va/std.out'\n",
      "[ERROR] [2021-06-06 15:47:24,557:pynisher] Cannot recover the output from /tmp/tmpi1xg39va/std.err due to [Errno 2] No such file or directory: '/tmp/tmpi1xg39va/std.err'\n",
      "[WARNING] [2021-06-06 15:47:25,652:smac.runhistory.runhistory2epm.RunHistory2EPM4LogCost] Got cost of smaller/equal to 0. Replace by 0.000010 since we use log cost.\n",
      "[WARNING] [2021-06-06 15:47:28,542:smac.runhistory.runhistory2epm.RunHistory2EPM4LogCost] Got cost of smaller/equal to 0. Replace by 0.000010 since we use log cost.\n",
      "[ERROR] [2021-06-06 15:48:28,596:pynisher] Cannot recover the output from /tmp/tmpgtcnqx0h/std.out due to [Errno 2] No such file or directory: '/tmp/tmpgtcnqx0h/std.out'\n",
      "[ERROR] [2021-06-06 15:48:28,599:pynisher] Cannot recover the output from /tmp/tmpgtcnqx0h/std.err due to [Errno 2] No such file or directory: '/tmp/tmpgtcnqx0h/std.err'\n",
      "[WARNING] [2021-06-06 15:48:29,742:smac.runhistory.runhistory2epm.RunHistory2EPM4LogCost] Got cost of smaller/equal to 0. Replace by 0.000010 since we use log cost.\n",
      "Accuracy score 4 0.9736842105263158\n",
      "[WARNING] [2021-06-06 15:56:07,228:smac.runhistory.runhistory2epm.RunHistory2EPM4LogCost] Got cost of smaller/equal to 0. Replace by 0.000010 since we use log cost.\n",
      "[WARNING] [2021-06-06 15:56:09,321:smac.runhistory.runhistory2epm.RunHistory2EPM4LogCost] Got cost of smaller/equal to 0. Replace by 0.000010 since we use log cost.\n",
      "[WARNING] [2021-06-06 15:56:09,782:smac.runhistory.runhistory2epm.RunHistory2EPM4LogCost] Got cost of smaller/equal to 0. Replace by 0.000010 since we use log cost.\n",
      "Accuracy score 5 0.9736842105263158\n",
      "[ERROR] [2021-06-06 16:07:01,260:pynisher] Cannot recover the output from /tmp/tmp5ggurpb2/std.out due to [Errno 2] No such file or directory: '/tmp/tmp5ggurpb2/std.out'\n",
      "[ERROR] [2021-06-06 16:07:01,268:pynisher] Cannot recover the output from /tmp/tmp5ggurpb2/std.err due to [Errno 2] No such file or directory: '/tmp/tmp5ggurpb2/std.err'\n",
      "[WARNING] [2021-06-06 16:07:04,963:smac.runhistory.runhistory2epm.RunHistory2EPM4LogCost] Got cost of smaller/equal to 0. Replace by 0.000010 since we use log cost.\n",
      "[WARNING] [2021-06-06 16:07:05,428:smac.runhistory.runhistory2epm.RunHistory2EPM4LogCost] Got cost of smaller/equal to 0. Replace by 0.000010 since we use log cost.\n",
      "[WARNING] [2021-06-06 16:07:05,859:smac.runhistory.runhistory2epm.RunHistory2EPM4LogCost] Got cost of smaller/equal to 0. Replace by 0.000010 since we use log cost.\n",
      "[WARNING] [2021-06-06 16:07:06,233:smac.runhistory.runhistory2epm.RunHistory2EPM4LogCost] Got cost of smaller/equal to 0. Replace by 0.000010 since we use log cost.\n",
      "[WARNING] [2021-06-06 16:07:08,796:smac.runhistory.runhistory2epm.RunHistory2EPM4LogCost] Got cost of smaller/equal to 0. Replace by 0.000010 since we use log cost.\n",
      "[WARNING] [2021-06-06 16:07:09,120:smac.runhistory.runhistory2epm.RunHistory2EPM4LogCost] Got cost of smaller/equal to 0. Replace by 0.000010 since we use log cost.\n",
      "[WARNING] [2021-06-06 16:07:11,956:smac.runhistory.runhistory2epm.RunHistory2EPM4LogCost] Got cost of smaller/equal to 0. Replace by 0.000010 since we use log cost.\n",
      "[WARNING] [2021-06-06 16:07:12,353:smac.runhistory.runhistory2epm.RunHistory2EPM4LogCost] Got cost of smaller/equal to 0. Replace by 0.000010 since we use log cost.\n",
      "[WARNING] [2021-06-06 16:07:16,048:smac.runhistory.runhistory2epm.RunHistory2EPM4LogCost] Got cost of smaller/equal to 0. Replace by 0.000010 since we use log cost.\n",
      "[ERROR] [2021-06-06 16:08:16,099:pynisher] Cannot recover the output from /tmp/tmp8pmgzo5y/std.out due to [Errno 2] No such file or directory: '/tmp/tmp8pmgzo5y/std.out'\n",
      "[ERROR] [2021-06-06 16:08:16,103:pynisher] Cannot recover the output from /tmp/tmp8pmgzo5y/std.err due to [Errno 2] No such file or directory: '/tmp/tmp8pmgzo5y/std.err'\n",
      "[WARNING] [2021-06-06 16:08:17,199:smac.runhistory.runhistory2epm.RunHistory2EPM4LogCost] Got cost of smaller/equal to 0. Replace by 0.000010 since we use log cost.\n",
      "[WARNING] [2021-06-06 16:08:20,499:smac.runhistory.runhistory2epm.RunHistory2EPM4LogCost] Got cost of smaller/equal to 0. Replace by 0.000010 since we use log cost.\n",
      "[WARNING] [2021-06-06 16:08:20,892:smac.runhistory.runhistory2epm.RunHistory2EPM4LogCost] Got cost of smaller/equal to 0. Replace by 0.000010 since we use log cost.\n",
      "[WARNING] [2021-06-06 16:08:24,114:smac.runhistory.runhistory2epm.RunHistory2EPM4LogCost] Got cost of smaller/equal to 0. Replace by 0.000010 since we use log cost.\n",
      "[WARNING] [2021-06-06 16:08:24,467:smac.runhistory.runhistory2epm.RunHistory2EPM4LogCost] Got cost of smaller/equal to 0. Replace by 0.000010 since we use log cost.\n",
      "[WARNING] [2021-06-06 16:08:25,007:smac.runhistory.runhistory2epm.RunHistory2EPM4LogCost] Got cost of smaller/equal to 0. Replace by 0.000010 since we use log cost.\n",
      "[ERROR] [2021-06-06 16:09:25,065:pynisher] Cannot recover the output from /tmp/tmpzt7y6s76/std.out due to [Errno 2] No such file or directory: '/tmp/tmpzt7y6s76/std.out'\n"
     ]
    },
    {
     "name": "stdout",
     "output_type": "stream",
     "text": [
      "[ERROR] [2021-06-06 16:09:25,071:pynisher] Cannot recover the output from /tmp/tmpzt7y6s76/std.err due to [Errno 2] No such file or directory: '/tmp/tmpzt7y6s76/std.err'\n",
      "[WARNING] [2021-06-06 16:09:26,226:smac.runhistory.runhistory2epm.RunHistory2EPM4LogCost] Got cost of smaller/equal to 0. Replace by 0.000010 since we use log cost.\n",
      "[WARNING] [2021-06-06 16:09:29,023:smac.runhistory.runhistory2epm.RunHistory2EPM4LogCost] Got cost of smaller/equal to 0. Replace by 0.000010 since we use log cost.\n",
      "[WARNING] [2021-06-06 16:09:32,036:smac.runhistory.runhistory2epm.RunHistory2EPM4LogCost] Got cost of smaller/equal to 0. Replace by 0.000010 since we use log cost.\n",
      "[WARNING] [2021-06-06 16:09:35,882:smac.runhistory.runhistory2epm.RunHistory2EPM4LogCost] Got cost of smaller/equal to 0. Replace by 0.000010 since we use log cost.\n",
      "[WARNING] [2021-06-06 16:09:36,269:smac.runhistory.runhistory2epm.RunHistory2EPM4LogCost] Got cost of smaller/equal to 0. Replace by 0.000010 since we use log cost.\n",
      "[WARNING] [2021-06-06 16:09:39,095:smac.runhistory.runhistory2epm.RunHistory2EPM4LogCost] Got cost of smaller/equal to 0. Replace by 0.000010 since we use log cost.\n",
      "[WARNING] [2021-06-06 16:09:39,592:smac.runhistory.runhistory2epm.RunHistory2EPM4LogCost] Got cost of smaller/equal to 0. Replace by 0.000010 since we use log cost.\n",
      "[WARNING] [2021-06-06 16:09:41,848:smac.runhistory.runhistory2epm.RunHistory2EPM4LogCost] Got cost of smaller/equal to 0. Replace by 0.000010 since we use log cost.\n",
      "[ERROR] [2021-06-06 16:10:41,897:pynisher] Cannot recover the output from /tmp/tmpznle3844/std.out due to [Errno 2] No such file or directory: '/tmp/tmpznle3844/std.out'\n",
      "[ERROR] [2021-06-06 16:10:41,901:pynisher] Cannot recover the output from /tmp/tmpznle3844/std.err due to [Errno 2] No such file or directory: '/tmp/tmpznle3844/std.err'\n",
      "[WARNING] [2021-06-06 16:10:43,087:smac.runhistory.runhistory2epm.RunHistory2EPM4LogCost] Got cost of smaller/equal to 0. Replace by 0.000010 since we use log cost.\n",
      "[WARNING] [2021-06-06 16:10:43,677:smac.runhistory.runhistory2epm.RunHistory2EPM4LogCost] Got cost of smaller/equal to 0. Replace by 0.000010 since we use log cost.\n",
      "[WARNING] [2021-06-06 16:10:46,789:smac.runhistory.runhistory2epm.RunHistory2EPM4LogCost] Got cost of smaller/equal to 0. Replace by 0.000010 since we use log cost.\n",
      "[ERROR] [2021-06-06 16:11:46,847:pynisher] Cannot recover the output from /tmp/tmp9q4ljaht/std.out due to [Errno 2] No such file or directory: '/tmp/tmp9q4ljaht/std.out'\n",
      "[ERROR] [2021-06-06 16:11:46,852:pynisher] Cannot recover the output from /tmp/tmp9q4ljaht/std.err due to [Errno 2] No such file or directory: '/tmp/tmp9q4ljaht/std.err'\n",
      "[WARNING] [2021-06-06 16:11:48,010:smac.runhistory.runhistory2epm.RunHistory2EPM4LogCost] Got cost of smaller/equal to 0. Replace by 0.000010 since we use log cost.\n",
      "[WARNING] [2021-06-06 16:11:52,002:smac.runhistory.runhistory2epm.RunHistory2EPM4LogCost] Got cost of smaller/equal to 0. Replace by 0.000010 since we use log cost.\n",
      "[ERROR] [2021-06-06 16:12:52,060:pynisher] Cannot recover the output from /tmp/tmpezskp2w3/std.out due to [Errno 2] No such file or directory: '/tmp/tmpezskp2w3/std.out'\n",
      "[ERROR] [2021-06-06 16:12:52,063:pynisher] Cannot recover the output from /tmp/tmpezskp2w3/std.err due to [Errno 2] No such file or directory: '/tmp/tmpezskp2w3/std.err'\n",
      "[WARNING] [2021-06-06 16:12:53,192:smac.runhistory.runhistory2epm.RunHistory2EPM4LogCost] Got cost of smaller/equal to 0. Replace by 0.000010 since we use log cost.\n",
      "[WARNING] [2021-06-06 16:12:53,791:smac.runhistory.runhistory2epm.RunHistory2EPM4LogCost] Got cost of smaller/equal to 0. Replace by 0.000010 since we use log cost.\n",
      "[WARNING] [2021-06-06 16:12:54,242:smac.runhistory.runhistory2epm.RunHistory2EPM4LogCost] Got cost of smaller/equal to 0. Replace by 0.000010 since we use log cost.\n",
      "[WARNING] [2021-06-06 16:12:54,896:smac.runhistory.runhistory2epm.RunHistory2EPM4LogCost] Got cost of smaller/equal to 0. Replace by 0.000010 since we use log cost.\n",
      "[ERROR] [2021-06-06 16:13:54,943:pynisher] Cannot recover the output from /tmp/tmpr97ulkf4/std.out due to [Errno 2] No such file or directory: '/tmp/tmpr97ulkf4/std.out'\n",
      "[ERROR] [2021-06-06 16:13:54,944:pynisher] Cannot recover the output from /tmp/tmpr97ulkf4/std.err due to [Errno 2] No such file or directory: '/tmp/tmpr97ulkf4/std.err'\n",
      "[WARNING] [2021-06-06 16:13:56,021:smac.runhistory.runhistory2epm.RunHistory2EPM4LogCost] Got cost of smaller/equal to 0. Replace by 0.000010 since we use log cost.\n",
      "[WARNING] [2021-06-06 16:13:59,477:smac.runhistory.runhistory2epm.RunHistory2EPM4LogCost] Got cost of smaller/equal to 0. Replace by 0.000010 since we use log cost.\n",
      "[WARNING] [2021-06-06 16:14:01,952:smac.runhistory.runhistory2epm.RunHistory2EPM4LogCost] Got cost of smaller/equal to 0. Replace by 0.000010 since we use log cost.\n",
      "[WARNING] [2021-06-06 16:14:02,427:smac.runhistory.runhistory2epm.RunHistory2EPM4LogCost] Got cost of smaller/equal to 0. Replace by 0.000010 since we use log cost.\n",
      "[WARNING] [2021-06-06 16:14:05,104:smac.runhistory.runhistory2epm.RunHistory2EPM4LogCost] Got cost of smaller/equal to 0. Replace by 0.000010 since we use log cost.\n",
      "[WARNING] [2021-06-06 16:14:05,520:smac.runhistory.runhistory2epm.RunHistory2EPM4LogCost] Got cost of smaller/equal to 0. Replace by 0.000010 since we use log cost.\n",
      "[WARNING] [2021-06-06 16:14:06,205:smac.runhistory.runhistory2epm.RunHistory2EPM4LogCost] Got cost of smaller/equal to 0. Replace by 0.000010 since we use log cost.\n",
      "[ERROR] [2021-06-06 16:15:06,257:pynisher] Cannot recover the output from /tmp/tmprl0ef8ic/std.out due to [Errno 2] No such file or directory: '/tmp/tmprl0ef8ic/std.out'\n",
      "[ERROR] [2021-06-06 16:15:06,261:pynisher] Cannot recover the output from /tmp/tmprl0ef8ic/std.err due to [Errno 2] No such file or directory: '/tmp/tmprl0ef8ic/std.err'\n",
      "[WARNING] [2021-06-06 16:15:07,405:smac.runhistory.runhistory2epm.RunHistory2EPM4LogCost] Got cost of smaller/equal to 0. Replace by 0.000010 since we use log cost.\n",
      "[WARNING] [2021-06-06 16:15:10,139:smac.runhistory.runhistory2epm.RunHistory2EPM4LogCost] Got cost of smaller/equal to 0. Replace by 0.000010 since we use log cost.\n",
      "[WARNING] [2021-06-06 16:15:10,533:smac.runhistory.runhistory2epm.RunHistory2EPM4LogCost] Got cost of smaller/equal to 0. Replace by 0.000010 since we use log cost.\n",
      "[WARNING] [2021-06-06 16:15:12,830:smac.runhistory.runhistory2epm.RunHistory2EPM4LogCost] Got cost of smaller/equal to 0. Replace by 0.000010 since we use log cost.\n",
      "[WARNING] [2021-06-06 16:15:16,218:smac.runhistory.runhistory2epm.RunHistory2EPM4LogCost] Got cost of smaller/equal to 0. Replace by 0.000010 since we use log cost.\n",
      "[WARNING] [2021-06-06 16:15:18,623:smac.runhistory.runhistory2epm.RunHistory2EPM4LogCost] Got cost of smaller/equal to 0. Replace by 0.000010 since we use log cost.\n",
      "[WARNING] [2021-06-06 16:15:19,077:smac.runhistory.runhistory2epm.RunHistory2EPM4LogCost] Got cost of smaller/equal to 0. Replace by 0.000010 since we use log cost.\n",
      "[WARNING] [2021-06-06 16:15:19,805:smac.runhistory.runhistory2epm.RunHistory2EPM4LogCost] Got cost of smaller/equal to 0. Replace by 0.000010 since we use log cost.\n",
      "[WARNING] [2021-06-06 16:15:20,285:smac.runhistory.runhistory2epm.RunHistory2EPM4LogCost] Got cost of smaller/equal to 0. Replace by 0.000010 since we use log cost.\n",
      "[WARNING] [2021-06-06 16:15:22,953:smac.runhistory.runhistory2epm.RunHistory2EPM4LogCost] Got cost of smaller/equal to 0. Replace by 0.000010 since we use log cost.\n",
      "[WARNING] [2021-06-06 16:15:23,276:smac.runhistory.runhistory2epm.RunHistory2EPM4LogCost] Got cost of smaller/equal to 0. Replace by 0.000010 since we use log cost.\n",
      "[WARNING] [2021-06-06 16:15:25,937:smac.runhistory.runhistory2epm.RunHistory2EPM4LogCost] Got cost of smaller/equal to 0. Replace by 0.000010 since we use log cost.\n",
      "[WARNING] [2021-06-06 16:15:28,174:smac.runhistory.runhistory2epm.RunHistory2EPM4LogCost] Got cost of smaller/equal to 0. Replace by 0.000010 since we use log cost.\n",
      "[WARNING] [2021-06-06 16:15:30,298:smac.runhistory.runhistory2epm.RunHistory2EPM4LogCost] Got cost of smaller/equal to 0. Replace by 0.000010 since we use log cost.\n",
      "[WARNING] [2021-06-06 16:15:32,673:smac.runhistory.runhistory2epm.RunHistory2EPM4LogCost] Got cost of smaller/equal to 0. Replace by 0.000010 since we use log cost.\n"
     ]
    },
    {
     "name": "stdout",
     "output_type": "stream",
     "text": [
      "[WARNING] [2021-06-06 16:15:33,227:smac.runhistory.runhistory2epm.RunHistory2EPM4LogCost] Got cost of smaller/equal to 0. Replace by 0.000010 since we use log cost.\n",
      "[WARNING] [2021-06-06 16:15:34,040:smac.runhistory.runhistory2epm.RunHistory2EPM4LogCost] Got cost of smaller/equal to 0. Replace by 0.000010 since we use log cost.\n",
      "[WARNING] [2021-06-06 16:15:36,244:smac.runhistory.runhistory2epm.RunHistory2EPM4LogCost] Got cost of smaller/equal to 0. Replace by 0.000010 since we use log cost.\n",
      "[ERROR] [2021-06-06 16:15:48,244:pynisher] Cannot recover the output from /tmp/tmpcltexd1f/std.out due to [Errno 2] No such file or directory: '/tmp/tmpcltexd1f/std.out'\n",
      "[ERROR] [2021-06-06 16:15:48,250:pynisher] Cannot recover the output from /tmp/tmpcltexd1f/std.err due to [Errno 2] No such file or directory: '/tmp/tmpcltexd1f/std.err'\n",
      "[WARNING] [2021-06-06 16:15:49,385:smac.runhistory.runhistory2epm.RunHistory2EPM4LogCost] Got cost of smaller/equal to 0. Replace by 0.000010 since we use log cost.\n",
      "Accuracy score 6 0.9736842105263158\n",
      "[WARNING] [2021-06-06 16:15:59,404:smac.runhistory.runhistory2epm.RunHistory2EPM4LogCost] Got cost of smaller/equal to 0. Replace by 0.000010 since we use log cost.\n",
      "[WARNING] [2021-06-06 16:16:01,522:smac.runhistory.runhistory2epm.RunHistory2EPM4LogCost] Got cost of smaller/equal to 0. Replace by 0.000010 since we use log cost.\n",
      "[WARNING] [2021-06-06 16:16:01,973:smac.runhistory.runhistory2epm.RunHistory2EPM4LogCost] Got cost of smaller/equal to 0. Replace by 0.000010 since we use log cost.\n",
      "[WARNING] [2021-06-06 16:16:02,424:smac.runhistory.runhistory2epm.RunHistory2EPM4LogCost] Got cost of smaller/equal to 0. Replace by 0.000010 since we use log cost.\n",
      "[WARNING] [2021-06-06 16:16:02,846:smac.runhistory.runhistory2epm.RunHistory2EPM4LogCost] Got cost of smaller/equal to 0. Replace by 0.000010 since we use log cost.\n",
      "Accuracy score 7 0.9736842105263158\n",
      "[ERROR] [2021-06-06 16:26:51,810:pynisher] Cannot recover the output from /tmp/tmpgg87aujz/std.out due to [Errno 2] No such file or directory: '/tmp/tmpgg87aujz/std.out'\n",
      "[ERROR] [2021-06-06 16:26:51,818:pynisher] Cannot recover the output from /tmp/tmpgg87aujz/std.err due to [Errno 2] No such file or directory: '/tmp/tmpgg87aujz/std.err'\n",
      "[WARNING] [2021-06-06 16:26:55,743:smac.runhistory.runhistory2epm.RunHistory2EPM4LogCost] Got cost of smaller/equal to 0. Replace by 0.000010 since we use log cost.\n",
      "[WARNING] [2021-06-06 16:26:57,831:smac.runhistory.runhistory2epm.RunHistory2EPM4LogCost] Got cost of smaller/equal to 0. Replace by 0.000010 since we use log cost.\n",
      "[WARNING] [2021-06-06 16:26:58,282:smac.runhistory.runhistory2epm.RunHistory2EPM4LogCost] Got cost of smaller/equal to 0. Replace by 0.000010 since we use log cost.\n",
      "[WARNING] [2021-06-06 16:26:58,282:smac.runhistory.runhistory2epm.RunHistory2EPM4LogCost] Got cost of smaller/equal to 0. Replace by 0.000010 since we use log cost.\n",
      "[WARNING] [2021-06-06 16:26:58,781:smac.runhistory.runhistory2epm.RunHistory2EPM4LogCost] Got cost of smaller/equal to 0. Replace by 0.000010 since we use log cost.\n",
      "[ERROR] [2021-06-06 16:27:58,840:pynisher] Cannot recover the output from /tmp/tmpoqn4s1r3/std.out due to [Errno 2] No such file or directory: '/tmp/tmpoqn4s1r3/std.out'\n",
      "[ERROR] [2021-06-06 16:27:58,845:pynisher] Cannot recover the output from /tmp/tmpoqn4s1r3/std.err due to [Errno 2] No such file or directory: '/tmp/tmpoqn4s1r3/std.err'\n",
      "[WARNING] [2021-06-06 16:27:59,935:smac.runhistory.runhistory2epm.RunHistory2EPM4LogCost] Got cost of smaller/equal to 0. Replace by 0.000010 since we use log cost.\n",
      "[WARNING] [2021-06-06 16:28:00,290:smac.runhistory.runhistory2epm.RunHistory2EPM4LogCost] Got cost of smaller/equal to 0. Replace by 0.000010 since we use log cost.\n",
      "[WARNING] [2021-06-06 16:28:02,777:smac.runhistory.runhistory2epm.RunHistory2EPM4LogCost] Got cost of smaller/equal to 0. Replace by 0.000010 since we use log cost.\n",
      "[WARNING] [2021-06-06 16:28:03,114:smac.runhistory.runhistory2epm.RunHistory2EPM4LogCost] Got cost of smaller/equal to 0. Replace by 0.000010 since we use log cost.\n",
      "[WARNING] [2021-06-06 16:28:05,867:smac.runhistory.runhistory2epm.RunHistory2EPM4LogCost] Got cost of smaller/equal to 0. Replace by 0.000010 since we use log cost.\n",
      "[WARNING] [2021-06-06 16:28:08,817:smac.runhistory.runhistory2epm.RunHistory2EPM4LogCost] Got cost of smaller/equal to 0. Replace by 0.000010 since we use log cost.\n",
      "[WARNING] [2021-06-06 16:28:11,890:smac.runhistory.runhistory2epm.RunHistory2EPM4LogCost] Got cost of smaller/equal to 0. Replace by 0.000010 since we use log cost.\n",
      "[WARNING] [2021-06-06 16:28:12,247:smac.runhistory.runhistory2epm.RunHistory2EPM4LogCost] Got cost of smaller/equal to 0. Replace by 0.000010 since we use log cost.\n",
      "[WARNING] [2021-06-06 16:28:15,047:smac.runhistory.runhistory2epm.RunHistory2EPM4LogCost] Got cost of smaller/equal to 0. Replace by 0.000010 since we use log cost.\n",
      "[WARNING] [2021-06-06 16:28:18,616:smac.runhistory.runhistory2epm.RunHistory2EPM4LogCost] Got cost of smaller/equal to 0. Replace by 0.000010 since we use log cost.\n",
      "[WARNING] [2021-06-06 16:28:18,905:smac.runhistory.runhistory2epm.RunHistory2EPM4LogCost] Got cost of smaller/equal to 0. Replace by 0.000010 since we use log cost.\n",
      "[WARNING] [2021-06-06 16:29:20,116:smac.runhistory.runhistory2epm.RunHistory2EPM4LogCost] Got cost of smaller/equal to 0. Replace by 0.000010 since we use log cost.\n",
      "[WARNING] [2021-06-06 16:29:23,163:smac.runhistory.runhistory2epm.RunHistory2EPM4LogCost] Got cost of smaller/equal to 0. Replace by 0.000010 since we use log cost.\n",
      "[WARNING] [2021-06-06 16:29:26,108:smac.runhistory.runhistory2epm.RunHistory2EPM4LogCost] Got cost of smaller/equal to 0. Replace by 0.000010 since we use log cost.\n",
      "[ERROR] [2021-06-06 16:30:26,187:pynisher] Cannot recover the output from /tmp/tmp8ixy8lxk/std.out due to [Errno 2] No such file or directory: '/tmp/tmp8ixy8lxk/std.out'\n",
      "[ERROR] [2021-06-06 16:30:26,196:pynisher] Cannot recover the output from /tmp/tmp8ixy8lxk/std.err due to [Errno 2] No such file or directory: '/tmp/tmp8ixy8lxk/std.err'\n",
      "[WARNING] [2021-06-06 16:30:27,347:smac.runhistory.runhistory2epm.RunHistory2EPM4LogCost] Got cost of smaller/equal to 0. Replace by 0.000010 since we use log cost.\n",
      "[WARNING] [2021-06-06 16:30:30,571:smac.runhistory.runhistory2epm.RunHistory2EPM4LogCost] Got cost of smaller/equal to 0. Replace by 0.000010 since we use log cost.\n",
      "[WARNING] [2021-06-06 16:30:30,904:smac.runhistory.runhistory2epm.RunHistory2EPM4LogCost] Got cost of smaller/equal to 0. Replace by 0.000010 since we use log cost.\n",
      "[WARNING] [2021-06-06 16:30:33,918:smac.runhistory.runhistory2epm.RunHistory2EPM4LogCost] Got cost of smaller/equal to 0. Replace by 0.000010 since we use log cost.\n",
      "[WARNING] [2021-06-06 16:30:34,224:smac.runhistory.runhistory2epm.RunHistory2EPM4LogCost] Got cost of smaller/equal to 0. Replace by 0.000010 since we use log cost.\n",
      "[WARNING] [2021-06-06 16:30:37,168:smac.runhistory.runhistory2epm.RunHistory2EPM4LogCost] Got cost of smaller/equal to 0. Replace by 0.000010 since we use log cost.\n",
      "[WARNING] [2021-06-06 16:30:38,157:smac.runhistory.runhistory2epm.RunHistory2EPM4LogCost] Got cost of smaller/equal to 0. Replace by 0.000010 since we use log cost.\n",
      "[WARNING] [2021-06-06 16:30:42,473:smac.runhistory.runhistory2epm.RunHistory2EPM4LogCost] Got cost of smaller/equal to 0. Replace by 0.000010 since we use log cost.\n",
      "[WARNING] [2021-06-06 16:30:45,626:smac.runhistory.runhistory2epm.RunHistory2EPM4LogCost] Got cost of smaller/equal to 0. Replace by 0.000010 since we use log cost.\n",
      "[WARNING] [2021-06-06 16:30:46,008:smac.runhistory.runhistory2epm.RunHistory2EPM4LogCost] Got cost of smaller/equal to 0. Replace by 0.000010 since we use log cost.\n",
      "[WARNING] [2021-06-06 16:30:49,245:smac.runhistory.runhistory2epm.RunHistory2EPM4LogCost] Got cost of smaller/equal to 0. Replace by 0.000010 since we use log cost.\n",
      "[ERROR] [2021-06-06 16:31:49,295:pynisher] Cannot recover the output from /tmp/tmp1w6ov7xt/std.out due to [Errno 2] No such file or directory: '/tmp/tmp1w6ov7xt/std.out'\n",
      "[ERROR] [2021-06-06 16:31:49,299:pynisher] Cannot recover the output from /tmp/tmp1w6ov7xt/std.err due to [Errno 2] No such file or directory: '/tmp/tmp1w6ov7xt/std.err'\n"
     ]
    },
    {
     "name": "stdout",
     "output_type": "stream",
     "text": [
      "[WARNING] [2021-06-06 16:31:50,440:smac.runhistory.runhistory2epm.RunHistory2EPM4LogCost] Got cost of smaller/equal to 0. Replace by 0.000010 since we use log cost.\n",
      "[WARNING] [2021-06-06 16:31:54,078:smac.runhistory.runhistory2epm.RunHistory2EPM4LogCost] Got cost of smaller/equal to 0. Replace by 0.000010 since we use log cost.\n",
      "[WARNING] [2021-06-06 16:31:54,427:smac.runhistory.runhistory2epm.RunHistory2EPM4LogCost] Got cost of smaller/equal to 0. Replace by 0.000010 since we use log cost.\n",
      "[WARNING] [2021-06-06 16:31:55,038:smac.runhistory.runhistory2epm.RunHistory2EPM4LogCost] Got cost of smaller/equal to 0. Replace by 0.000010 since we use log cost.\n",
      "[WARNING] [2021-06-06 16:31:55,490:smac.runhistory.runhistory2epm.RunHistory2EPM4LogCost] Got cost of smaller/equal to 0. Replace by 0.000010 since we use log cost.\n",
      "Accuracy score 8 0.9736842105263158\n",
      "[ERROR] [2021-06-06 16:36:48,298:pynisher] Cannot recover the output from /tmp/tmpem77r1lc/std.out due to [Errno 2] No such file or directory: '/tmp/tmpem77r1lc/std.out'\n",
      "[ERROR] [2021-06-06 16:36:48,306:pynisher] Cannot recover the output from /tmp/tmpem77r1lc/std.err due to [Errno 2] No such file or directory: '/tmp/tmpem77r1lc/std.err'\n",
      "[WARNING] [2021-06-06 16:36:51,415:smac.runhistory.runhistory2epm.RunHistory2EPM4LogCost] Got cost of smaller/equal to 0. Replace by 0.000010 since we use log cost.\n",
      "[ERROR] [2021-06-06 16:37:51,470:pynisher] Cannot recover the output from /tmp/tmpfp6s4d21/std.out due to [Errno 2] No such file or directory: '/tmp/tmpfp6s4d21/std.out'\n",
      "[ERROR] [2021-06-06 16:37:51,477:pynisher] Cannot recover the output from /tmp/tmpfp6s4d21/std.err due to [Errno 2] No such file or directory: '/tmp/tmpfp6s4d21/std.err'\n",
      "[WARNING] [2021-06-06 16:37:52,552:smac.runhistory.runhistory2epm.RunHistory2EPM4LogCost] Got cost of smaller/equal to 0. Replace by 0.000010 since we use log cost.\n",
      "[WARNING] [2021-06-06 16:37:52,552:smac.runhistory.runhistory2epm.RunHistory2EPM4LogCost] Got cost of smaller/equal to 0. Replace by 0.000010 since we use log cost.\n",
      "[WARNING] [2021-06-06 16:37:53,295:smac.runhistory.runhistory2epm.RunHistory2EPM4LogCost] Got cost of smaller/equal to 0. Replace by 0.000010 since we use log cost.\n",
      "[WARNING] [2021-06-06 16:37:53,845:smac.runhistory.runhistory2epm.RunHistory2EPM4LogCost] Got cost of smaller/equal to 0. Replace by 0.000010 since we use log cost.\n",
      "[WARNING] [2021-06-06 16:37:54,590:smac.runhistory.runhistory2epm.RunHistory2EPM4LogCost] Got cost of smaller/equal to 0. Replace by 0.000010 since we use log cost.\n",
      "[WARNING] [2021-06-06 16:37:55,047:smac.runhistory.runhistory2epm.RunHistory2EPM4LogCost] Got cost of smaller/equal to 0. Replace by 0.000010 since we use log cost.\n",
      "[WARNING] [2021-06-06 16:37:58,907:smac.runhistory.runhistory2epm.RunHistory2EPM4LogCost] Got cost of smaller/equal to 0. Replace by 0.000010 since we use log cost.\n",
      "[WARNING] [2021-06-06 16:37:59,427:smac.runhistory.runhistory2epm.RunHistory2EPM4LogCost] Got cost of smaller/equal to 0. Replace by 0.000010 since we use log cost.\n",
      "[WARNING] [2021-06-06 16:38:03,647:smac.runhistory.runhistory2epm.RunHistory2EPM4LogCost] Got cost of smaller/equal to 0. Replace by 0.000010 since we use log cost.\n",
      "[ERROR] [2021-06-06 16:39:03,695:pynisher] Cannot recover the output from /tmp/tmpuo4ahc3b/std.out due to [Errno 2] No such file or directory: '/tmp/tmpuo4ahc3b/std.out'\n",
      "[ERROR] [2021-06-06 16:39:03,699:pynisher] Cannot recover the output from /tmp/tmpuo4ahc3b/std.err due to [Errno 2] No such file or directory: '/tmp/tmpuo4ahc3b/std.err'\n",
      "[WARNING] [2021-06-06 16:39:04,837:smac.runhistory.runhistory2epm.RunHistory2EPM4LogCost] Got cost of smaller/equal to 0. Replace by 0.000010 since we use log cost.\n",
      "[WARNING] [2021-06-06 16:39:05,709:smac.runhistory.runhistory2epm.RunHistory2EPM4LogCost] Got cost of smaller/equal to 0. Replace by 0.000010 since we use log cost.\n",
      "[WARNING] [2021-06-06 16:39:06,908:smac.runhistory.runhistory2epm.RunHistory2EPM4LogCost] Got cost of smaller/equal to 0. Replace by 0.000010 since we use log cost.\n",
      "[WARNING] [2021-06-06 16:39:07,461:smac.runhistory.runhistory2epm.RunHistory2EPM4LogCost] Got cost of smaller/equal to 0. Replace by 0.000010 since we use log cost.\n",
      "[WARNING] [2021-06-06 16:39:11,393:smac.runhistory.runhistory2epm.RunHistory2EPM4LogCost] Got cost of smaller/equal to 0. Replace by 0.000010 since we use log cost.\n",
      "[WARNING] [2021-06-06 16:39:11,686:smac.runhistory.runhistory2epm.RunHistory2EPM4LogCost] Got cost of smaller/equal to 0. Replace by 0.000010 since we use log cost.\n",
      "[WARNING] [2021-06-06 16:39:12,055:smac.runhistory.runhistory2epm.RunHistory2EPM4LogCost] Got cost of smaller/equal to 0. Replace by 0.000010 since we use log cost.\n",
      "[WARNING] [2021-06-06 16:39:12,882:smac.runhistory.runhistory2epm.RunHistory2EPM4LogCost] Got cost of smaller/equal to 0. Replace by 0.000010 since we use log cost.\n",
      "[WARNING] [2021-06-06 16:39:13,362:smac.runhistory.runhistory2epm.RunHistory2EPM4LogCost] Got cost of smaller/equal to 0. Replace by 0.000010 since we use log cost.\n",
      "[ERROR] [2021-06-06 16:40:13,420:pynisher] Cannot recover the output from /tmp/tmp5dvxy17a/std.out due to [Errno 2] No such file or directory: '/tmp/tmp5dvxy17a/std.out'\n",
      "[ERROR] [2021-06-06 16:40:13,424:pynisher] Cannot recover the output from /tmp/tmp5dvxy17a/std.err due to [Errno 2] No such file or directory: '/tmp/tmp5dvxy17a/std.err'\n",
      "[WARNING] [2021-06-06 16:40:14,696:smac.runhistory.runhistory2epm.RunHistory2EPM4LogCost] Got cost of smaller/equal to 0. Replace by 0.000010 since we use log cost.\n",
      "[WARNING] [2021-06-06 16:40:19,472:smac.runhistory.runhistory2epm.RunHistory2EPM4LogCost] Got cost of smaller/equal to 0. Replace by 0.000010 since we use log cost.\n",
      "[WARNING] [2021-06-06 16:40:19,856:smac.runhistory.runhistory2epm.RunHistory2EPM4LogCost] Got cost of smaller/equal to 0. Replace by 0.000010 since we use log cost.\n",
      "[WARNING] [2021-06-06 16:40:20,608:smac.runhistory.runhistory2epm.RunHistory2EPM4LogCost] Got cost of smaller/equal to 0. Replace by 0.000010 since we use log cost.\n",
      "[WARNING] [2021-06-06 16:40:23,886:smac.runhistory.runhistory2epm.RunHistory2EPM4LogCost] Got cost of smaller/equal to 0. Replace by 0.000010 since we use log cost.\n",
      "[WARNING] [2021-06-06 16:40:24,333:smac.runhistory.runhistory2epm.RunHistory2EPM4LogCost] Got cost of smaller/equal to 0. Replace by 0.000010 since we use log cost.\n",
      "[WARNING] [2021-06-06 16:40:25,087:smac.runhistory.runhistory2epm.RunHistory2EPM4LogCost] Got cost of smaller/equal to 0. Replace by 0.000010 since we use log cost.\n",
      "[WARNING] [2021-06-06 16:40:28,822:smac.runhistory.runhistory2epm.RunHistory2EPM4LogCost] Got cost of smaller/equal to 0. Replace by 0.000010 since we use log cost.\n",
      "[WARNING] [2021-06-06 16:40:29,362:smac.runhistory.runhistory2epm.RunHistory2EPM4LogCost] Got cost of smaller/equal to 0. Replace by 0.000010 since we use log cost.\n",
      "[WARNING] [2021-06-06 16:40:29,997:smac.runhistory.runhistory2epm.RunHistory2EPM4LogCost] Got cost of smaller/equal to 0. Replace by 0.000010 since we use log cost.\n",
      "[WARNING] [2021-06-06 16:40:33,667:smac.runhistory.runhistory2epm.RunHistory2EPM4LogCost] Got cost of smaller/equal to 0. Replace by 0.000010 since we use log cost.\n",
      "[WARNING] [2021-06-06 16:40:34,105:smac.runhistory.runhistory2epm.RunHistory2EPM4LogCost] Got cost of smaller/equal to 0. Replace by 0.000010 since we use log cost.\n",
      "[WARNING] [2021-06-06 16:40:37,512:smac.runhistory.runhistory2epm.RunHistory2EPM4LogCost] Got cost of smaller/equal to 0. Replace by 0.000010 since we use log cost.\n",
      "[WARNING] [2021-06-06 16:40:41,765:smac.runhistory.runhistory2epm.RunHistory2EPM4LogCost] Got cost of smaller/equal to 0. Replace by 0.000010 since we use log cost.\n",
      "[WARNING] [2021-06-06 16:40:42,228:smac.runhistory.runhistory2epm.RunHistory2EPM4LogCost] Got cost of smaller/equal to 0. Replace by 0.000010 since we use log cost.\n",
      "[WARNING] [2021-06-06 16:40:43,026:smac.runhistory.runhistory2epm.RunHistory2EPM4LogCost] Got cost of smaller/equal to 0. Replace by 0.000010 since we use log cost.\n",
      "[WARNING] [2021-06-06 16:40:43,417:smac.runhistory.runhistory2epm.RunHistory2EPM4LogCost] Got cost of smaller/equal to 0. Replace by 0.000010 since we use log cost.\n",
      "[WARNING] [2021-06-06 16:40:44,449:smac.runhistory.runhistory2epm.RunHistory2EPM4LogCost] Got cost of smaller/equal to 0. Replace by 0.000010 since we use log cost.\n"
     ]
    },
    {
     "name": "stdout",
     "output_type": "stream",
     "text": [
      "[WARNING] [2021-06-06 16:40:48,272:smac.runhistory.runhistory2epm.RunHistory2EPM4LogCost] Got cost of smaller/equal to 0. Replace by 0.000010 since we use log cost.\n",
      "[WARNING] [2021-06-06 16:40:51,896:smac.runhistory.runhistory2epm.RunHistory2EPM4LogCost] Got cost of smaller/equal to 0. Replace by 0.000010 since we use log cost.\n",
      "[WARNING] [2021-06-06 16:40:53,810:smac.runhistory.runhistory2epm.RunHistory2EPM4LogCost] Got cost of smaller/equal to 0. Replace by 0.000010 since we use log cost.\n",
      "[WARNING] [2021-06-06 16:40:54,546:smac.runhistory.runhistory2epm.RunHistory2EPM4LogCost] Got cost of smaller/equal to 0. Replace by 0.000010 since we use log cost.\n",
      "[WARNING] [2021-06-06 16:40:58,281:smac.runhistory.runhistory2epm.RunHistory2EPM4LogCost] Got cost of smaller/equal to 0. Replace by 0.000010 since we use log cost.\n",
      "[WARNING] [2021-06-06 16:40:58,762:smac.runhistory.runhistory2epm.RunHistory2EPM4LogCost] Got cost of smaller/equal to 0. Replace by 0.000010 since we use log cost.\n",
      "[WARNING] [2021-06-06 16:41:00,263:smac.runhistory.runhistory2epm.RunHistory2EPM4LogCost] Got cost of smaller/equal to 0. Replace by 0.000010 since we use log cost.\n",
      "[WARNING] [2021-06-06 16:41:01,391:smac.runhistory.runhistory2epm.RunHistory2EPM4LogCost] Got cost of smaller/equal to 0. Replace by 0.000010 since we use log cost.\n",
      "[WARNING] [2021-06-06 16:41:05,325:smac.runhistory.runhistory2epm.RunHistory2EPM4LogCost] Got cost of smaller/equal to 0. Replace by 0.000010 since we use log cost.\n",
      "[WARNING] [2021-06-06 16:41:05,800:smac.runhistory.runhistory2epm.RunHistory2EPM4LogCost] Got cost of smaller/equal to 0. Replace by 0.000010 since we use log cost.\n",
      "[WARNING] [2021-06-06 16:41:09,219:smac.runhistory.runhistory2epm.RunHistory2EPM4LogCost] Got cost of smaller/equal to 0. Replace by 0.000010 since we use log cost.\n",
      "[WARNING] [2021-06-06 16:41:09,736:smac.runhistory.runhistory2epm.RunHistory2EPM4LogCost] Got cost of smaller/equal to 0. Replace by 0.000010 since we use log cost.\n",
      "[WARNING] [2021-06-06 16:41:11,165:smac.runhistory.runhistory2epm.RunHistory2EPM4LogCost] Got cost of smaller/equal to 0. Replace by 0.000010 since we use log cost.\n",
      "[WARNING] [2021-06-06 16:41:14,623:smac.runhistory.runhistory2epm.RunHistory2EPM4LogCost] Got cost of smaller/equal to 0. Replace by 0.000010 since we use log cost.\n",
      "[WARNING] [2021-06-06 16:41:15,161:smac.runhistory.runhistory2epm.RunHistory2EPM4LogCost] Got cost of smaller/equal to 0. Replace by 0.000010 since we use log cost.\n",
      "[WARNING] [2021-06-06 16:41:19,570:smac.runhistory.runhistory2epm.RunHistory2EPM4LogCost] Got cost of smaller/equal to 0. Replace by 0.000010 since we use log cost.\n",
      "[WARNING] [2021-06-06 16:41:20,039:smac.runhistory.runhistory2epm.RunHistory2EPM4LogCost] Got cost of smaller/equal to 0. Replace by 0.000010 since we use log cost.\n",
      "[WARNING] [2021-06-06 16:41:25,066:smac.runhistory.runhistory2epm.RunHistory2EPM4LogCost] Got cost of smaller/equal to 0. Replace by 0.000010 since we use log cost.\n",
      "[ERROR] [2021-06-06 16:42:25,114:pynisher] Cannot recover the output from /tmp/tmpg6y4jtva/std.out due to [Errno 2] No such file or directory: '/tmp/tmpg6y4jtva/std.out'\n",
      "[ERROR] [2021-06-06 16:42:25,116:pynisher] Cannot recover the output from /tmp/tmpg6y4jtva/std.err due to [Errno 2] No such file or directory: '/tmp/tmpg6y4jtva/std.err'\n",
      "[WARNING] [2021-06-06 16:42:26,445:smac.runhistory.runhistory2epm.RunHistory2EPM4LogCost] Got cost of smaller/equal to 0. Replace by 0.000010 since we use log cost.\n",
      "[WARNING] [2021-06-06 16:42:27,289:smac.runhistory.runhistory2epm.RunHistory2EPM4LogCost] Got cost of smaller/equal to 0. Replace by 0.000010 since we use log cost.\n",
      "[WARNING] [2021-06-06 16:42:27,785:smac.runhistory.runhistory2epm.RunHistory2EPM4LogCost] Got cost of smaller/equal to 0. Replace by 0.000010 since we use log cost.\n",
      "[WARNING] [2021-06-06 16:42:32,136:smac.runhistory.runhistory2epm.RunHistory2EPM4LogCost] Got cost of smaller/equal to 0. Replace by 0.000010 since we use log cost.\n",
      "[ERROR] [2021-06-06 16:43:32,183:pynisher] Cannot recover the output from /tmp/tmpmxl0c4ai/std.out due to [Errno 2] No such file or directory: '/tmp/tmpmxl0c4ai/std.out'\n",
      "[ERROR] [2021-06-06 16:43:32,192:pynisher] Cannot recover the output from /tmp/tmpmxl0c4ai/std.err due to [Errno 2] No such file or directory: '/tmp/tmpmxl0c4ai/std.err'\n",
      "[WARNING] [2021-06-06 16:43:33,563:smac.runhistory.runhistory2epm.RunHistory2EPM4LogCost] Got cost of smaller/equal to 0. Replace by 0.000010 since we use log cost.\n",
      "[WARNING] [2021-06-06 16:43:34,655:smac.runhistory.runhistory2epm.RunHistory2EPM4LogCost] Got cost of smaller/equal to 0. Replace by 0.000010 since we use log cost.\n",
      "[WARNING] [2021-06-06 16:43:39,097:smac.runhistory.runhistory2epm.RunHistory2EPM4LogCost] Got cost of smaller/equal to 0. Replace by 0.000010 since we use log cost.\n",
      "[WARNING] [2021-06-06 16:43:43,410:smac.runhistory.runhistory2epm.RunHistory2EPM4LogCost] Got cost of smaller/equal to 0. Replace by 0.000010 since we use log cost.\n",
      "[ERROR] [2021-06-06 16:44:43,450:pynisher] Cannot recover the output from /tmp/tmpugby6pkn/std.out due to [Errno 2] No such file or directory: '/tmp/tmpugby6pkn/std.out'\n",
      "[ERROR] [2021-06-06 16:44:43,455:pynisher] Cannot recover the output from /tmp/tmpugby6pkn/std.err due to [Errno 2] No such file or directory: '/tmp/tmpugby6pkn/std.err'\n",
      "[WARNING] [2021-06-06 16:44:44,758:smac.runhistory.runhistory2epm.RunHistory2EPM4LogCost] Got cost of smaller/equal to 0. Replace by 0.000010 since we use log cost.\n",
      "[WARNING] [2021-06-06 16:44:45,673:smac.runhistory.runhistory2epm.RunHistory2EPM4LogCost] Got cost of smaller/equal to 0. Replace by 0.000010 since we use log cost.\n",
      "[WARNING] [2021-06-06 16:44:49,874:smac.runhistory.runhistory2epm.RunHistory2EPM4LogCost] Got cost of smaller/equal to 0. Replace by 0.000010 since we use log cost.\n",
      "[WARNING] [2021-06-06 16:44:50,491:smac.runhistory.runhistory2epm.RunHistory2EPM4LogCost] Got cost of smaller/equal to 0. Replace by 0.000010 since we use log cost.\n",
      "[WARNING] [2021-06-06 16:44:51,492:smac.runhistory.runhistory2epm.RunHistory2EPM4LogCost] Got cost of smaller/equal to 0. Replace by 0.000010 since we use log cost.\n",
      "[ERROR] [2021-06-06 16:45:36,528:pynisher] Cannot recover the output from /tmp/tmp2jlch3u3/std.out due to [Errno 2] No such file or directory: '/tmp/tmp2jlch3u3/std.out'\n",
      "[ERROR] [2021-06-06 16:45:36,539:pynisher] Cannot recover the output from /tmp/tmp2jlch3u3/std.err due to [Errno 2] No such file or directory: '/tmp/tmp2jlch3u3/std.err'\n",
      "[WARNING] [2021-06-06 16:45:37,904:smac.runhistory.runhistory2epm.RunHistory2EPM4LogCost] Got cost of smaller/equal to 0. Replace by 0.000010 since we use log cost.\n",
      "Accuracy score 9 0.9736842105263158\n",
      "[ERROR] [2021-06-06 16:47:04,095:pynisher] Cannot recover the output from /tmp/tmpgqniz_oz/std.out due to [Errno 2] No such file or directory: '/tmp/tmpgqniz_oz/std.out'\n",
      "[ERROR] [2021-06-06 16:47:04,110:pynisher] Cannot recover the output from /tmp/tmpgqniz_oz/std.err due to [Errno 2] No such file or directory: '/tmp/tmpgqniz_oz/std.err'\n",
      "[WARNING] [2021-06-06 16:47:06,954:smac.runhistory.runhistory2epm.RunHistory2EPM4LogCost] Got cost of smaller/equal to 0. Replace by 0.000010 since we use log cost.\n",
      "[WARNING] [2021-06-06 16:47:11,520:smac.runhistory.runhistory2epm.RunHistory2EPM4LogCost] Got cost of smaller/equal to 0. Replace by 0.000010 since we use log cost.\n",
      "[WARNING] [2021-06-06 16:47:15,490:smac.runhistory.runhistory2epm.RunHistory2EPM4LogCost] Got cost of smaller/equal to 0. Replace by 0.000010 since we use log cost.\n",
      "[WARNING] [2021-06-06 16:47:20,240:smac.runhistory.runhistory2epm.RunHistory2EPM4LogCost] Got cost of smaller/equal to 0. Replace by 0.000010 since we use log cost.\n",
      "[WARNING] [2021-06-06 16:47:20,781:smac.runhistory.runhistory2epm.RunHistory2EPM4LogCost] Got cost of smaller/equal to 0. Replace by 0.000010 since we use log cost.\n",
      "[WARNING] [2021-06-06 16:47:24,506:smac.runhistory.runhistory2epm.RunHistory2EPM4LogCost] Got cost of smaller/equal to 0. Replace by 0.000010 since we use log cost.\n",
      "[WARNING] [2021-06-06 16:47:24,931:smac.runhistory.runhistory2epm.RunHistory2EPM4LogCost] Got cost of smaller/equal to 0. Replace by 0.000010 since we use log cost.\n",
      "[WARNING] [2021-06-06 16:47:26,296:smac.runhistory.runhistory2epm.RunHistory2EPM4LogCost] Got cost of smaller/equal to 0. Replace by 0.000010 since we use log cost.\n"
     ]
    },
    {
     "name": "stdout",
     "output_type": "stream",
     "text": [
      "[ERROR] [2021-06-06 16:48:26,355:pynisher] Cannot recover the output from /tmp/tmp7_wi7qnw/std.out due to [Errno 2] No such file or directory: '/tmp/tmp7_wi7qnw/std.out'\n",
      "[ERROR] [2021-06-06 16:48:26,360:pynisher] Cannot recover the output from /tmp/tmp7_wi7qnw/std.err due to [Errno 2] No such file or directory: '/tmp/tmp7_wi7qnw/std.err'\n",
      "[WARNING] [2021-06-06 16:48:27,723:smac.runhistory.runhistory2epm.RunHistory2EPM4LogCost] Got cost of smaller/equal to 0. Replace by 0.000010 since we use log cost.\n",
      "[WARNING] [2021-06-06 16:48:28,352:smac.runhistory.runhistory2epm.RunHistory2EPM4LogCost] Got cost of smaller/equal to 0. Replace by 0.000010 since we use log cost.\n",
      "[ERROR] [2021-06-06 16:49:28,400:pynisher] Cannot recover the output from /tmp/tmpfc9xy514/std.out due to [Errno 2] No such file or directory: '/tmp/tmpfc9xy514/std.out'\n",
      "[ERROR] [2021-06-06 16:49:28,409:pynisher] Cannot recover the output from /tmp/tmpfc9xy514/std.err due to [Errno 2] No such file or directory: '/tmp/tmpfc9xy514/std.err'\n",
      "[WARNING] [2021-06-06 16:49:29,721:smac.runhistory.runhistory2epm.RunHistory2EPM4LogCost] Got cost of smaller/equal to 0. Replace by 0.000010 since we use log cost.\n",
      "[WARNING] [2021-06-06 16:49:30,370:smac.runhistory.runhistory2epm.RunHistory2EPM4LogCost] Got cost of smaller/equal to 0. Replace by 0.000010 since we use log cost.\n",
      "[ERROR] [2021-06-06 16:50:30,413:pynisher] Cannot recover the output from /tmp/tmpwqmkardi/std.out due to [Errno 2] No such file or directory: '/tmp/tmpwqmkardi/std.out'\n",
      "[ERROR] [2021-06-06 16:50:30,422:pynisher] Cannot recover the output from /tmp/tmpwqmkardi/std.err due to [Errno 2] No such file or directory: '/tmp/tmpwqmkardi/std.err'\n",
      "[WARNING] [2021-06-06 16:50:31,732:smac.runhistory.runhistory2epm.RunHistory2EPM4LogCost] Got cost of smaller/equal to 0. Replace by 0.000010 since we use log cost.\n",
      "[WARNING] [2021-06-06 16:50:36,056:smac.runhistory.runhistory2epm.RunHistory2EPM4LogCost] Got cost of smaller/equal to 0. Replace by 0.000010 since we use log cost.\n",
      "[WARNING] [2021-06-06 16:50:41,040:smac.runhistory.runhistory2epm.RunHistory2EPM4LogCost] Got cost of smaller/equal to 0. Replace by 0.000010 since we use log cost.\n",
      "[WARNING] [2021-06-06 16:50:45,917:smac.runhistory.runhistory2epm.RunHistory2EPM4LogCost] Got cost of smaller/equal to 0. Replace by 0.000010 since we use log cost.\n",
      "[WARNING] [2021-06-06 16:50:50,551:smac.runhistory.runhistory2epm.RunHistory2EPM4LogCost] Got cost of smaller/equal to 0. Replace by 0.000010 since we use log cost.\n",
      "[WARNING] [2021-06-06 16:50:55,500:smac.runhistory.runhistory2epm.RunHistory2EPM4LogCost] Got cost of smaller/equal to 0. Replace by 0.000010 since we use log cost.\n",
      "[WARNING] [2021-06-06 16:50:55,975:smac.runhistory.runhistory2epm.RunHistory2EPM4LogCost] Got cost of smaller/equal to 0. Replace by 0.000010 since we use log cost.\n",
      "[WARNING] [2021-06-06 16:50:56,706:smac.runhistory.runhistory2epm.RunHistory2EPM4LogCost] Got cost of smaller/equal to 0. Replace by 0.000010 since we use log cost.\n",
      "[WARNING] [2021-06-06 16:50:58,206:smac.runhistory.runhistory2epm.RunHistory2EPM4LogCost] Got cost of smaller/equal to 0. Replace by 0.000010 since we use log cost.\n",
      "[WARNING] [2021-06-06 16:51:00,632:smac.runhistory.runhistory2epm.RunHistory2EPM4LogCost] Got cost of smaller/equal to 0. Replace by 0.000010 since we use log cost.\n",
      "[WARNING] [2021-06-06 16:51:01,240:smac.runhistory.runhistory2epm.RunHistory2EPM4LogCost] Got cost of smaller/equal to 0. Replace by 0.000010 since we use log cost.\n",
      "[WARNING] [2021-06-06 16:51:05,810:smac.runhistory.runhistory2epm.RunHistory2EPM4LogCost] Got cost of smaller/equal to 0. Replace by 0.000010 since we use log cost.\n",
      "[WARNING] [2021-06-06 16:51:11,137:smac.runhistory.runhistory2epm.RunHistory2EPM4LogCost] Got cost of smaller/equal to 0. Replace by 0.000010 since we use log cost.\n",
      "[WARNING] [2021-06-06 16:51:15,989:smac.runhistory.runhistory2epm.RunHistory2EPM4LogCost] Got cost of smaller/equal to 0. Replace by 0.000010 since we use log cost.\n",
      "[ERROR] [2021-06-06 16:52:16,067:pynisher] Cannot recover the output from /tmp/tmpmvwor992/std.out due to [Errno 2] No such file or directory: '/tmp/tmpmvwor992/std.out'\n",
      "[ERROR] [2021-06-06 16:52:16,078:pynisher] Cannot recover the output from /tmp/tmpmvwor992/std.err due to [Errno 2] No such file or directory: '/tmp/tmpmvwor992/std.err'\n",
      "[WARNING] [2021-06-06 16:52:17,440:smac.runhistory.runhistory2epm.RunHistory2EPM4LogCost] Got cost of smaller/equal to 0. Replace by 0.000010 since we use log cost.\n",
      "[WARNING] [2021-06-06 16:52:21,828:smac.runhistory.runhistory2epm.RunHistory2EPM4LogCost] Got cost of smaller/equal to 0. Replace by 0.000010 since we use log cost.\n",
      "[WARNING] [2021-06-06 16:52:22,216:smac.runhistory.runhistory2epm.RunHistory2EPM4LogCost] Got cost of smaller/equal to 0. Replace by 0.000010 since we use log cost.\n",
      "[WARNING] [2021-06-06 16:52:26,734:smac.runhistory.runhistory2epm.RunHistory2EPM4LogCost] Got cost of smaller/equal to 0. Replace by 0.000010 since we use log cost.\n",
      "[WARNING] [2021-06-06 16:52:31,473:smac.runhistory.runhistory2epm.RunHistory2EPM4LogCost] Got cost of smaller/equal to 0. Replace by 0.000010 since we use log cost.\n",
      "[ERROR] [2021-06-06 16:53:31,520:pynisher] Cannot recover the output from /tmp/tmpj952691w/std.out due to [Errno 2] No such file or directory: '/tmp/tmpj952691w/std.out'\n",
      "[ERROR] [2021-06-06 16:53:31,528:pynisher] Cannot recover the output from /tmp/tmpj952691w/std.err due to [Errno 2] No such file or directory: '/tmp/tmpj952691w/std.err'\n",
      "[WARNING] [2021-06-06 16:53:32,933:smac.runhistory.runhistory2epm.RunHistory2EPM4LogCost] Got cost of smaller/equal to 0. Replace by 0.000010 since we use log cost.\n",
      "[WARNING] [2021-06-06 16:53:38,913:smac.runhistory.runhistory2epm.RunHistory2EPM4LogCost] Got cost of smaller/equal to 0. Replace by 0.000010 since we use log cost.\n",
      "[WARNING] [2021-06-06 16:53:39,384:smac.runhistory.runhistory2epm.RunHistory2EPM4LogCost] Got cost of smaller/equal to 0. Replace by 0.000010 since we use log cost.\n",
      "[WARNING] [2021-06-06 16:53:40,066:smac.runhistory.runhistory2epm.RunHistory2EPM4LogCost] Got cost of smaller/equal to 0. Replace by 0.000010 since we use log cost.\n",
      "[WARNING] [2021-06-06 16:53:44,713:smac.runhistory.runhistory2epm.RunHistory2EPM4LogCost] Got cost of smaller/equal to 0. Replace by 0.000010 since we use log cost.\n",
      "[WARNING] [2021-06-06 16:53:45,194:smac.runhistory.runhistory2epm.RunHistory2EPM4LogCost] Got cost of smaller/equal to 0. Replace by 0.000010 since we use log cost.\n",
      "[WARNING] [2021-06-06 16:53:50,041:smac.runhistory.runhistory2epm.RunHistory2EPM4LogCost] Got cost of smaller/equal to 0. Replace by 0.000010 since we use log cost.\n",
      "[WARNING] [2021-06-06 16:53:50,489:smac.runhistory.runhistory2epm.RunHistory2EPM4LogCost] Got cost of smaller/equal to 0. Replace by 0.000010 since we use log cost.\n",
      "[WARNING] [2021-06-06 16:53:51,169:smac.runhistory.runhistory2epm.RunHistory2EPM4LogCost] Got cost of smaller/equal to 0. Replace by 0.000010 since we use log cost.\n",
      "[WARNING] [2021-06-06 16:53:51,597:smac.runhistory.runhistory2epm.RunHistory2EPM4LogCost] Got cost of smaller/equal to 0. Replace by 0.000010 since we use log cost.\n",
      "[WARNING] [2021-06-06 16:53:56,616:smac.runhistory.runhistory2epm.RunHistory2EPM4LogCost] Got cost of smaller/equal to 0. Replace by 0.000010 since we use log cost.\n",
      "[WARNING] [2021-06-06 16:54:00,938:smac.runhistory.runhistory2epm.RunHistory2EPM4LogCost] Got cost of smaller/equal to 0. Replace by 0.000010 since we use log cost.\n",
      "[WARNING] [2021-06-06 16:54:04,548:smac.runhistory.runhistory2epm.RunHistory2EPM4LogCost] Got cost of smaller/equal to 0. Replace by 0.000010 since we use log cost.\n",
      "[ERROR] [2021-06-06 16:55:04,603:pynisher] Cannot recover the output from /tmp/tmpojr4a5py/std.out due to [Errno 2] No such file or directory: '/tmp/tmpojr4a5py/std.out'\n",
      "[ERROR] [2021-06-06 16:55:04,606:pynisher] Cannot recover the output from /tmp/tmpojr4a5py/std.err due to [Errno 2] No such file or directory: '/tmp/tmpojr4a5py/std.err'\n",
      "[WARNING] [2021-06-06 16:55:05,825:smac.runhistory.runhistory2epm.RunHistory2EPM4LogCost] Got cost of smaller/equal to 0. Replace by 0.000010 since we use log cost.\n",
      "Accuracy score 0 0.9736842105263158\n",
      "[ERROR] [2021-06-06 16:56:47,085:pynisher] Cannot recover the output from /tmp/tmphnxvshvp/std.out due to [Errno 2] No such file or directory: '/tmp/tmphnxvshvp/std.out'\n"
     ]
    },
    {
     "name": "stdout",
     "output_type": "stream",
     "text": [
      "[ERROR] [2021-06-06 16:56:47,092:pynisher] Cannot recover the output from /tmp/tmphnxvshvp/std.err due to [Errno 2] No such file or directory: '/tmp/tmphnxvshvp/std.err'\n",
      "[ERROR] [2021-06-06 16:57:49,217:pynisher] Cannot recover the output from /tmp/tmpl3hd3nr7/std.out due to [Errno 2] No such file or directory: '/tmp/tmpl3hd3nr7/std.out'\n",
      "[ERROR] [2021-06-06 16:57:49,229:pynisher] Cannot recover the output from /tmp/tmpl3hd3nr7/std.err due to [Errno 2] No such file or directory: '/tmp/tmpl3hd3nr7/std.err'\n",
      "[ERROR] [2021-06-06 16:58:55,867:pynisher] Cannot recover the output from /tmp/tmp6hljt1lu/std.out due to [Errno 2] No such file or directory: '/tmp/tmp6hljt1lu/std.out'\n",
      "[ERROR] [2021-06-06 16:58:55,878:pynisher] Cannot recover the output from /tmp/tmp6hljt1lu/std.err due to [Errno 2] No such file or directory: '/tmp/tmp6hljt1lu/std.err'\n",
      "[ERROR] [2021-06-06 17:00:01,930:pynisher] Cannot recover the output from /tmp/tmp4nbwj1wv/std.out due to [Errno 2] No such file or directory: '/tmp/tmp4nbwj1wv/std.out'\n",
      "[ERROR] [2021-06-06 17:00:01,938:pynisher] Cannot recover the output from /tmp/tmp4nbwj1wv/std.err due to [Errno 2] No such file or directory: '/tmp/tmp4nbwj1wv/std.err'\n",
      "[WARNING] [2021-06-06 17:00:04,167:smac.runhistory.runhistory2epm.RunHistory2EPM4LogCost] Got cost of smaller/equal to 0. Replace by 0.000010 since we use log cost.\n",
      "[WARNING] [2021-06-06 17:00:08,108:smac.runhistory.runhistory2epm.RunHistory2EPM4LogCost] Got cost of smaller/equal to 0. Replace by 0.000010 since we use log cost.\n",
      "[ERROR] [2021-06-06 17:01:08,163:pynisher] Cannot recover the output from /tmp/tmp11xi1az4/std.out due to [Errno 2] No such file or directory: '/tmp/tmp11xi1az4/std.out'\n",
      "[ERROR] [2021-06-06 17:01:08,170:pynisher] Cannot recover the output from /tmp/tmp11xi1az4/std.err due to [Errno 2] No such file or directory: '/tmp/tmp11xi1az4/std.err'\n",
      "[WARNING] [2021-06-06 17:01:09,336:smac.runhistory.runhistory2epm.RunHistory2EPM4LogCost] Got cost of smaller/equal to 0. Replace by 0.000010 since we use log cost.\n",
      "[WARNING] [2021-06-06 17:01:09,746:smac.runhistory.runhistory2epm.RunHistory2EPM4LogCost] Got cost of smaller/equal to 0. Replace by 0.000010 since we use log cost.\n",
      "[WARNING] [2021-06-06 17:01:10,148:smac.runhistory.runhistory2epm.RunHistory2EPM4LogCost] Got cost of smaller/equal to 0. Replace by 0.000010 since we use log cost.\n",
      "Accuracy score 1 0.9736842105263158\n",
      "[ERROR] [2021-06-06 17:06:50,149:pynisher] Cannot recover the output from /tmp/tmpiwlzq3fd/std.out due to [Errno 2] No such file or directory: '/tmp/tmpiwlzq3fd/std.out'\n",
      "[ERROR] [2021-06-06 17:06:50,168:pynisher] Cannot recover the output from /tmp/tmpiwlzq3fd/std.err due to [Errno 2] No such file or directory: '/tmp/tmpiwlzq3fd/std.err'\n",
      "Accuracy score 2 0.9736842105263158\n",
      "[ERROR] [2021-06-06 17:16:32,507:pynisher] Cannot recover the output from /tmp/tmpmo4eb018/std.out due to [Errno 2] No such file or directory: '/tmp/tmpmo4eb018/std.out'\n",
      "[ERROR] [2021-06-06 17:16:32,512:pynisher] Cannot recover the output from /tmp/tmpmo4eb018/std.err due to [Errno 2] No such file or directory: '/tmp/tmpmo4eb018/std.err'\n",
      "Accuracy score 3 0.9736842105263158\n",
      "[ERROR] [2021-06-06 17:26:29,348:pynisher] Cannot recover the output from /tmp/tmpmu20187a/std.out due to [Errno 2] No such file or directory: '/tmp/tmpmu20187a/std.out'\n",
      "[ERROR] [2021-06-06 17:26:29,351:pynisher] Cannot recover the output from /tmp/tmpmu20187a/std.err due to [Errno 2] No such file or directory: '/tmp/tmpmu20187a/std.err'\n",
      "[ERROR] [2021-06-06 17:27:33,133:pynisher] Cannot recover the output from /tmp/tmphc0rflii/std.out due to [Errno 2] No such file or directory: '/tmp/tmphc0rflii/std.out'\n",
      "[ERROR] [2021-06-06 17:27:33,145:pynisher] Cannot recover the output from /tmp/tmphc0rflii/std.err due to [Errno 2] No such file or directory: '/tmp/tmphc0rflii/std.err'\n",
      "Accuracy score 4 0.9736842105263158\n",
      "[ERROR] [2021-06-06 17:36:30,356:pynisher] Cannot recover the output from /tmp/tmpi78g3v1c/std.out due to [Errno 2] No such file or directory: '/tmp/tmpi78g3v1c/std.out'\n",
      "[ERROR] [2021-06-06 17:36:30,359:pynisher] Cannot recover the output from /tmp/tmpi78g3v1c/std.err due to [Errno 2] No such file or directory: '/tmp/tmpi78g3v1c/std.err'\n",
      "[WARNING] [2021-06-06 17:36:50,800:smac.runhistory.runhistory2epm.RunHistory2EPM4LogCost] Got cost of smaller/equal to 0. Replace by 0.000010 since we use log cost.\n",
      "[WARNING] [2021-06-06 17:36:54,517:smac.runhistory.runhistory2epm.RunHistory2EPM4LogCost] Got cost of smaller/equal to 0. Replace by 0.000010 since we use log cost.\n",
      "[WARNING] [2021-06-06 17:36:57,278:smac.runhistory.runhistory2epm.RunHistory2EPM4LogCost] Got cost of smaller/equal to 0. Replace by 0.000010 since we use log cost.\n",
      "[WARNING] [2021-06-06 17:37:00,980:smac.runhistory.runhistory2epm.RunHistory2EPM4LogCost] Got cost of smaller/equal to 0. Replace by 0.000010 since we use log cost.\n",
      "[WARNING] [2021-06-06 17:37:04,349:smac.runhistory.runhistory2epm.RunHistory2EPM4LogCost] Got cost of smaller/equal to 0. Replace by 0.000010 since we use log cost.\n",
      "[ERROR] [2021-06-06 17:38:04,405:pynisher] Cannot recover the output from /tmp/tmpmkrm8wsy/std.out due to [Errno 2] No such file or directory: '/tmp/tmpmkrm8wsy/std.out'\n",
      "[ERROR] [2021-06-06 17:38:04,412:pynisher] Cannot recover the output from /tmp/tmpmkrm8wsy/std.err due to [Errno 2] No such file or directory: '/tmp/tmpmkrm8wsy/std.err'\n",
      "[WARNING] [2021-06-06 17:38:05,591:smac.runhistory.runhistory2epm.RunHistory2EPM4LogCost] Got cost of smaller/equal to 0. Replace by 0.000010 since we use log cost.\n",
      "[WARNING] [2021-06-06 17:38:09,410:smac.runhistory.runhistory2epm.RunHistory2EPM4LogCost] Got cost of smaller/equal to 0. Replace by 0.000010 since we use log cost.\n",
      "[WARNING] [2021-06-06 17:38:09,721:smac.runhistory.runhistory2epm.RunHistory2EPM4LogCost] Got cost of smaller/equal to 0. Replace by 0.000010 since we use log cost.\n",
      "[WARNING] [2021-06-06 17:38:10,088:smac.runhistory.runhistory2epm.RunHistory2EPM4LogCost] Got cost of smaller/equal to 0. Replace by 0.000010 since we use log cost.\n",
      "[WARNING] [2021-06-06 17:38:13,182:smac.runhistory.runhistory2epm.RunHistory2EPM4LogCost] Got cost of smaller/equal to 0. Replace by 0.000010 since we use log cost.\n",
      "[WARNING] [2021-06-06 17:38:16,426:smac.runhistory.runhistory2epm.RunHistory2EPM4LogCost] Got cost of smaller/equal to 0. Replace by 0.000010 since we use log cost.\n",
      "[WARNING] [2021-06-06 17:38:19,879:smac.runhistory.runhistory2epm.RunHistory2EPM4LogCost] Got cost of smaller/equal to 0. Replace by 0.000010 since we use log cost.\n",
      "[ERROR] [2021-06-06 17:39:19,939:pynisher] Cannot recover the output from /tmp/tmpd4o4n5rd/std.out due to [Errno 2] No such file or directory: '/tmp/tmpd4o4n5rd/std.out'\n",
      "[ERROR] [2021-06-06 17:39:19,944:pynisher] Cannot recover the output from /tmp/tmpd4o4n5rd/std.err due to [Errno 2] No such file or directory: '/tmp/tmpd4o4n5rd/std.err'\n",
      "[WARNING] [2021-06-06 17:39:21,159:smac.runhistory.runhistory2epm.RunHistory2EPM4LogCost] Got cost of smaller/equal to 0. Replace by 0.000010 since we use log cost.\n",
      "[WARNING] [2021-06-06 17:39:21,748:smac.runhistory.runhistory2epm.RunHistory2EPM4LogCost] Got cost of smaller/equal to 0. Replace by 0.000010 since we use log cost.\n",
      "[WARNING] [2021-06-06 17:39:25,011:smac.runhistory.runhistory2epm.RunHistory2EPM4LogCost] Got cost of smaller/equal to 0. Replace by 0.000010 since we use log cost.\n",
      "[WARNING] [2021-06-06 17:39:25,301:smac.runhistory.runhistory2epm.RunHistory2EPM4LogCost] Got cost of smaller/equal to 0. Replace by 0.000010 since we use log cost.\n",
      "[WARNING] [2021-06-06 17:39:25,782:smac.runhistory.runhistory2epm.RunHistory2EPM4LogCost] Got cost of smaller/equal to 0. Replace by 0.000010 since we use log cost.\n",
      "[WARNING] [2021-06-06 17:39:29,551:smac.runhistory.runhistory2epm.RunHistory2EPM4LogCost] Got cost of smaller/equal to 0. Replace by 0.000010 since we use log cost.\n",
      "[WARNING] [2021-06-06 17:39:33,144:smac.runhistory.runhistory2epm.RunHistory2EPM4LogCost] Got cost of smaller/equal to 0. Replace by 0.000010 since we use log cost.\n",
      "[ERROR] [2021-06-06 17:40:33,190:pynisher] Cannot recover the output from /tmp/tmp34i9idnv/std.out due to [Errno 2] No such file or directory: '/tmp/tmp34i9idnv/std.out'\n",
      "[ERROR] [2021-06-06 17:40:33,195:pynisher] Cannot recover the output from /tmp/tmp34i9idnv/std.err due to [Errno 2] No such file or directory: '/tmp/tmp34i9idnv/std.err'\n"
     ]
    },
    {
     "name": "stdout",
     "output_type": "stream",
     "text": [
      "[WARNING] [2021-06-06 17:40:34,386:smac.runhistory.runhistory2epm.RunHistory2EPM4LogCost] Got cost of smaller/equal to 0. Replace by 0.000010 since we use log cost.\n",
      "[WARNING] [2021-06-06 17:40:37,791:smac.runhistory.runhistory2epm.RunHistory2EPM4LogCost] Got cost of smaller/equal to 0. Replace by 0.000010 since we use log cost.\n",
      "[ERROR] [2021-06-06 17:41:37,837:pynisher] Cannot recover the output from /tmp/tmpfvwg5c1z/std.out due to [Errno 2] No such file or directory: '/tmp/tmpfvwg5c1z/std.out'\n",
      "[ERROR] [2021-06-06 17:41:37,842:pynisher] Cannot recover the output from /tmp/tmpfvwg5c1z/std.err due to [Errno 2] No such file or directory: '/tmp/tmpfvwg5c1z/std.err'\n",
      "[WARNING] [2021-06-06 17:41:39,024:smac.runhistory.runhistory2epm.RunHistory2EPM4LogCost] Got cost of smaller/equal to 0. Replace by 0.000010 since we use log cost.\n",
      "[WARNING] [2021-06-06 17:41:43,394:smac.runhistory.runhistory2epm.RunHistory2EPM4LogCost] Got cost of smaller/equal to 0. Replace by 0.000010 since we use log cost.\n",
      "[WARNING] [2021-06-06 17:41:43,796:smac.runhistory.runhistory2epm.RunHistory2EPM4LogCost] Got cost of smaller/equal to 0. Replace by 0.000010 since we use log cost.\n",
      "[WARNING] [2021-06-06 17:41:44,851:smac.runhistory.runhistory2epm.RunHistory2EPM4LogCost] Got cost of smaller/equal to 0. Replace by 0.000010 since we use log cost.\n",
      "[WARNING] [2021-06-06 17:41:45,251:smac.runhistory.runhistory2epm.RunHistory2EPM4LogCost] Got cost of smaller/equal to 0. Replace by 0.000010 since we use log cost.\n",
      "[WARNING] [2021-06-06 17:41:45,648:smac.runhistory.runhistory2epm.RunHistory2EPM4LogCost] Got cost of smaller/equal to 0. Replace by 0.000010 since we use log cost.\n",
      "[WARNING] [2021-06-06 17:41:48,912:smac.runhistory.runhistory2epm.RunHistory2EPM4LogCost] Got cost of smaller/equal to 0. Replace by 0.000010 since we use log cost.\n",
      "[ERROR] [2021-06-06 17:42:48,958:pynisher] Cannot recover the output from /tmp/tmp6pmfi5up/std.out due to [Errno 2] No such file or directory: '/tmp/tmp6pmfi5up/std.out'\n",
      "[ERROR] [2021-06-06 17:42:48,962:pynisher] Cannot recover the output from /tmp/tmp6pmfi5up/std.err due to [Errno 2] No such file or directory: '/tmp/tmp6pmfi5up/std.err'\n",
      "[WARNING] [2021-06-06 17:42:50,166:smac.runhistory.runhistory2epm.RunHistory2EPM4LogCost] Got cost of smaller/equal to 0. Replace by 0.000010 since we use log cost.\n",
      "[WARNING] [2021-06-06 17:42:51,460:smac.runhistory.runhistory2epm.RunHistory2EPM4LogCost] Got cost of smaller/equal to 0. Replace by 0.000010 since we use log cost.\n",
      "[WARNING] [2021-06-06 17:42:55,048:smac.runhistory.runhistory2epm.RunHistory2EPM4LogCost] Got cost of smaller/equal to 0. Replace by 0.000010 since we use log cost.\n",
      "[WARNING] [2021-06-06 17:42:58,276:smac.runhistory.runhistory2epm.RunHistory2EPM4LogCost] Got cost of smaller/equal to 0. Replace by 0.000010 since we use log cost.\n",
      "[WARNING] [2021-06-06 17:43:01,644:smac.runhistory.runhistory2epm.RunHistory2EPM4LogCost] Got cost of smaller/equal to 0. Replace by 0.000010 since we use log cost.\n",
      "[WARNING] [2021-06-06 17:43:04,739:smac.runhistory.runhistory2epm.RunHistory2EPM4LogCost] Got cost of smaller/equal to 0. Replace by 0.000010 since we use log cost.\n",
      "[WARNING] [2021-06-06 17:43:07,887:smac.runhistory.runhistory2epm.RunHistory2EPM4LogCost] Got cost of smaller/equal to 0. Replace by 0.000010 since we use log cost.\n",
      "[ERROR] [2021-06-06 17:44:07,930:pynisher] Cannot recover the output from /tmp/tmp4bpnftp2/std.out due to [Errno 2] No such file or directory: '/tmp/tmp4bpnftp2/std.out'\n",
      "[ERROR] [2021-06-06 17:44:07,936:pynisher] Cannot recover the output from /tmp/tmp4bpnftp2/std.err due to [Errno 2] No such file or directory: '/tmp/tmp4bpnftp2/std.err'\n",
      "[WARNING] [2021-06-06 17:44:09,122:smac.runhistory.runhistory2epm.RunHistory2EPM4LogCost] Got cost of smaller/equal to 0. Replace by 0.000010 since we use log cost.\n",
      "[WARNING] [2021-06-06 17:44:09,634:smac.runhistory.runhistory2epm.RunHistory2EPM4LogCost] Got cost of smaller/equal to 0. Replace by 0.000010 since we use log cost.\n",
      "[WARNING] [2021-06-06 17:44:13,106:smac.runhistory.runhistory2epm.RunHistory2EPM4LogCost] Got cost of smaller/equal to 0. Replace by 0.000010 since we use log cost.\n",
      "[ERROR] [2021-06-06 17:45:09,147:pynisher] Cannot recover the output from /tmp/tmp55bx63z3/std.out due to [Errno 2] No such file or directory: '/tmp/tmp55bx63z3/std.out'\n",
      "[ERROR] [2021-06-06 17:45:09,150:pynisher] Cannot recover the output from /tmp/tmp55bx63z3/std.err due to [Errno 2] No such file or directory: '/tmp/tmp55bx63z3/std.err'\n",
      "[WARNING] [2021-06-06 17:45:10,299:smac.runhistory.runhistory2epm.RunHistory2EPM4LogCost] Got cost of smaller/equal to 0. Replace by 0.000010 since we use log cost.\n",
      "Accuracy score 5 0.9736842105263158\n",
      "[ERROR] [2021-06-06 17:46:11,554:pynisher] Cannot recover the output from /tmp/tmpvmmcw_hp/std.out due to [Errno 2] No such file or directory: '/tmp/tmpvmmcw_hp/std.out'\n",
      "[ERROR] [2021-06-06 17:46:11,573:pynisher] Cannot recover the output from /tmp/tmpvmmcw_hp/std.err due to [Errno 2] No such file or directory: '/tmp/tmpvmmcw_hp/std.err'\n",
      "[ERROR] [2021-06-06 17:47:29,273:pynisher] Cannot recover the output from /tmp/tmpic48z7zq/std.out due to [Errno 2] No such file or directory: '/tmp/tmpic48z7zq/std.out'\n",
      "[ERROR] [2021-06-06 17:47:29,282:pynisher] Cannot recover the output from /tmp/tmpic48z7zq/std.err due to [Errno 2] No such file or directory: '/tmp/tmpic48z7zq/std.err'\n",
      "Accuracy score 6 0.9736842105263158\n",
      "[WARNING] [2021-06-06 18:05:00,514:AutoML(1):f8de33e5a048c960afe1c577d1502f0e] No valid ensemble was created. Please check the logfile for errors. Default to the best individual estimator:[(1, 2, 0.0)]\n",
      "Accuracy score 7 0.9736842105263158\n",
      "[ERROR] [2021-06-06 18:06:13,153:pynisher] Cannot recover the output from /tmp/tmpnaq11a0w/std.out due to [Errno 2] No such file or directory: '/tmp/tmpnaq11a0w/std.out'\n",
      "[ERROR] [2021-06-06 18:06:13,160:pynisher] Cannot recover the output from /tmp/tmpnaq11a0w/std.err due to [Errno 2] No such file or directory: '/tmp/tmpnaq11a0w/std.err'\n",
      "Accuracy score 8 0.9736842105263158\n",
      "[WARNING] [2021-06-06 18:24:50,483:AutoML(1):f8de33e5a048c960afe1c577d1502f0e] No valid ensemble was created. Please check the logfile for errors. Default to the best individual estimator:[(1, 2, 0.0)]\n",
      "Accuracy score 9 0.9736842105263158\n",
      "Accuracy score 0 0.9736842105263158\n",
      "Accuracy score 1 0.9736842105263158\n",
      "[WARNING] [2021-06-06 18:44:59,024:smac.runhistory.runhistory2epm.RunHistory2EPM4LogCost] Got cost of smaller/equal to 0. Replace by 0.000010 since we use log cost.\n",
      "[WARNING] [2021-06-06 18:45:02,811:smac.runhistory.runhistory2epm.RunHistory2EPM4LogCost] Got cost of smaller/equal to 0. Replace by 0.000010 since we use log cost.\n",
      "[WARNING] [2021-06-06 18:45:06,199:smac.runhistory.runhistory2epm.RunHistory2EPM4LogCost] Got cost of smaller/equal to 0. Replace by 0.000010 since we use log cost.\n",
      "[WARNING] [2021-06-06 18:45:09,456:smac.runhistory.runhistory2epm.RunHistory2EPM4LogCost] Got cost of smaller/equal to 0. Replace by 0.000010 since we use log cost.\n",
      "[WARNING] [2021-06-06 18:45:09,752:smac.runhistory.runhistory2epm.RunHistory2EPM4LogCost] Got cost of smaller/equal to 0. Replace by 0.000010 since we use log cost.\n",
      "[WARNING] [2021-06-06 18:45:13,327:smac.runhistory.runhistory2epm.RunHistory2EPM4LogCost] Got cost of smaller/equal to 0. Replace by 0.000010 since we use log cost.\n",
      "[WARNING] [2021-06-06 18:45:13,742:smac.runhistory.runhistory2epm.RunHistory2EPM4LogCost] Got cost of smaller/equal to 0. Replace by 0.000010 since we use log cost.\n",
      "[WARNING] [2021-06-06 18:45:17,403:smac.runhistory.runhistory2epm.RunHistory2EPM4LogCost] Got cost of smaller/equal to 0. Replace by 0.000010 since we use log cost.\n",
      "[WARNING] [2021-06-06 18:45:20,671:smac.runhistory.runhistory2epm.RunHistory2EPM4LogCost] Got cost of smaller/equal to 0. Replace by 0.000010 since we use log cost.\n",
      "[ERROR] [2021-06-06 18:46:20,723:pynisher] Cannot recover the output from /tmp/tmp536cwbh7/std.out due to [Errno 2] No such file or directory: '/tmp/tmp536cwbh7/std.out'\n",
      "[ERROR] [2021-06-06 18:46:20,728:pynisher] Cannot recover the output from /tmp/tmp536cwbh7/std.err due to [Errno 2] No such file or directory: '/tmp/tmp536cwbh7/std.err'\n",
      "[WARNING] [2021-06-06 18:46:21,814:smac.runhistory.runhistory2epm.RunHistory2EPM4LogCost] Got cost of smaller/equal to 0. Replace by 0.000010 since we use log cost.\n"
     ]
    },
    {
     "name": "stdout",
     "output_type": "stream",
     "text": [
      "[WARNING] [2021-06-06 18:46:25,228:smac.runhistory.runhistory2epm.RunHistory2EPM4LogCost] Got cost of smaller/equal to 0. Replace by 0.000010 since we use log cost.\n",
      "[WARNING] [2021-06-06 18:46:25,568:smac.runhistory.runhistory2epm.RunHistory2EPM4LogCost] Got cost of smaller/equal to 0. Replace by 0.000010 since we use log cost.\n",
      "Accuracy score 2 0.9736842105263158\n",
      "[ERROR] [2021-06-06 18:55:43,380:pynisher] Cannot recover the output from /tmp/tmpchcyy6re/std.out due to [Errno 2] No such file or directory: '/tmp/tmpchcyy6re/std.out'\n",
      "[ERROR] [2021-06-06 18:55:43,389:pynisher] Cannot recover the output from /tmp/tmpchcyy6re/std.err due to [Errno 2] No such file or directory: '/tmp/tmpchcyy6re/std.err'\n",
      "[ERROR] [2021-06-06 18:56:46,659:pynisher] Cannot recover the output from /tmp/tmpmoy0m_hw/std.out due to [Errno 2] No such file or directory: '/tmp/tmpmoy0m_hw/std.out'\n",
      "[ERROR] [2021-06-06 18:56:46,671:pynisher] Cannot recover the output from /tmp/tmpmoy0m_hw/std.err due to [Errno 2] No such file or directory: '/tmp/tmpmoy0m_hw/std.err'\n",
      "Accuracy score 3 0.9736842105263158\n",
      "Accuracy score 4 0.9736842105263158\n",
      "[ERROR] [2021-06-06 19:15:29,045:pynisher] Cannot recover the output from /tmp/tmpal9bwlxq/std.out due to [Errno 2] No such file or directory: '/tmp/tmpal9bwlxq/std.out'\n",
      "[ERROR] [2021-06-06 19:15:29,052:pynisher] Cannot recover the output from /tmp/tmpal9bwlxq/std.err due to [Errno 2] No such file or directory: '/tmp/tmpal9bwlxq/std.err'\n",
      "[ERROR] [2021-06-06 19:16:39,690:pynisher] Cannot recover the output from /tmp/tmp2iyn5yx8/std.out due to [Errno 2] No such file or directory: '/tmp/tmp2iyn5yx8/std.out'\n",
      "[ERROR] [2021-06-06 19:16:39,699:pynisher] Cannot recover the output from /tmp/tmp2iyn5yx8/std.err due to [Errno 2] No such file or directory: '/tmp/tmp2iyn5yx8/std.err'\n",
      "[WARNING] [2021-06-06 19:16:48,555:smac.runhistory.runhistory2epm.RunHistory2EPM4LogCost] Got cost of smaller/equal to 0. Replace by 0.000010 since we use log cost.\n",
      "[WARNING] [2021-06-06 19:16:53,986:smac.runhistory.runhistory2epm.RunHistory2EPM4LogCost] Got cost of smaller/equal to 0. Replace by 0.000010 since we use log cost.\n",
      "[WARNING] [2021-06-06 19:16:54,277:smac.runhistory.runhistory2epm.RunHistory2EPM4LogCost] Got cost of smaller/equal to 0. Replace by 0.000010 since we use log cost.\n",
      "[WARNING] [2021-06-06 19:16:55,668:smac.runhistory.runhistory2epm.RunHistory2EPM4LogCost] Got cost of smaller/equal to 0. Replace by 0.000010 since we use log cost.\n",
      "[WARNING] [2021-06-06 19:16:58,229:smac.runhistory.runhistory2epm.RunHistory2EPM4LogCost] Got cost of smaller/equal to 0. Replace by 0.000010 since we use log cost.\n",
      "[ERROR] [2021-06-06 19:17:58,279:pynisher] Cannot recover the output from /tmp/tmpgv030rkq/std.out due to [Errno 2] No such file or directory: '/tmp/tmpgv030rkq/std.out'\n",
      "[ERROR] [2021-06-06 19:17:58,286:pynisher] Cannot recover the output from /tmp/tmpgv030rkq/std.err due to [Errno 2] No such file or directory: '/tmp/tmpgv030rkq/std.err'\n",
      "[WARNING] [2021-06-06 19:17:59,387:smac.runhistory.runhistory2epm.RunHistory2EPM4LogCost] Got cost of smaller/equal to 0. Replace by 0.000010 since we use log cost.\n",
      "[WARNING] [2021-06-06 19:17:59,847:smac.runhistory.runhistory2epm.RunHistory2EPM4LogCost] Got cost of smaller/equal to 0. Replace by 0.000010 since we use log cost.\n",
      "[WARNING] [2021-06-06 19:18:03,288:smac.runhistory.runhistory2epm.RunHistory2EPM4LogCost] Got cost of smaller/equal to 0. Replace by 0.000010 since we use log cost.\n",
      "[WARNING] [2021-06-06 19:18:03,603:smac.runhistory.runhistory2epm.RunHistory2EPM4LogCost] Got cost of smaller/equal to 0. Replace by 0.000010 since we use log cost.\n",
      "[WARNING] [2021-06-06 19:18:04,260:smac.runhistory.runhistory2epm.RunHistory2EPM4LogCost] Got cost of smaller/equal to 0. Replace by 0.000010 since we use log cost.\n",
      "[WARNING] [2021-06-06 19:18:08,471:smac.runhistory.runhistory2epm.RunHistory2EPM4LogCost] Got cost of smaller/equal to 0. Replace by 0.000010 since we use log cost.\n",
      "[WARNING] [2021-06-06 19:18:08,871:smac.runhistory.runhistory2epm.RunHistory2EPM4LogCost] Got cost of smaller/equal to 0. Replace by 0.000010 since we use log cost.\n",
      "[WARNING] [2021-06-06 19:18:13,105:smac.runhistory.runhistory2epm.RunHistory2EPM4LogCost] Got cost of smaller/equal to 0. Replace by 0.000010 since we use log cost.\n",
      "[WARNING] [2021-06-06 19:18:13,510:smac.runhistory.runhistory2epm.RunHistory2EPM4LogCost] Got cost of smaller/equal to 0. Replace by 0.000010 since we use log cost.\n",
      "[WARNING] [2021-06-06 19:18:17,528:smac.runhistory.runhistory2epm.RunHistory2EPM4LogCost] Got cost of smaller/equal to 0. Replace by 0.000010 since we use log cost.\n",
      "[WARNING] [2021-06-06 19:18:17,969:smac.runhistory.runhistory2epm.RunHistory2EPM4LogCost] Got cost of smaller/equal to 0. Replace by 0.000010 since we use log cost.\n",
      "[WARNING] [2021-06-06 19:18:18,680:smac.runhistory.runhistory2epm.RunHistory2EPM4LogCost] Got cost of smaller/equal to 0. Replace by 0.000010 since we use log cost.\n",
      "[WARNING] [2021-06-06 19:18:24,119:smac.runhistory.runhistory2epm.RunHistory2EPM4LogCost] Got cost of smaller/equal to 0. Replace by 0.000010 since we use log cost.\n",
      "Accuracy score 5 0.9736842105263158\n",
      "[WARNING] [2021-06-06 19:34:19,545:AutoML(1):f8de33e5a048c960afe1c577d1502f0e] No valid ensemble was created. Please check the logfile for errors. Default to the best individual estimator:[(1, 2, 0.0)]\n",
      "Accuracy score 6 0.9736842105263158\n",
      "Accuracy score 7 0.9736842105263158\n",
      "[ERROR] [2021-06-06 19:45:25,792:pynisher] Cannot recover the output from /tmp/tmpyund2nay/std.out due to [Errno 2] No such file or directory: '/tmp/tmpyund2nay/std.out'\n",
      "[ERROR] [2021-06-06 19:45:25,793:pynisher] Cannot recover the output from /tmp/tmpyund2nay/std.err due to [Errno 2] No such file or directory: '/tmp/tmpyund2nay/std.err'\n",
      "[ERROR] [2021-06-06 19:46:29,188:pynisher] Cannot recover the output from /tmp/tmpwh7wq_d7/std.out due to [Errno 2] No such file or directory: '/tmp/tmpwh7wq_d7/std.out'\n",
      "[ERROR] [2021-06-06 19:46:29,196:pynisher] Cannot recover the output from /tmp/tmpwh7wq_d7/std.err due to [Errno 2] No such file or directory: '/tmp/tmpwh7wq_d7/std.err'\n",
      "[ERROR] [2021-06-06 19:47:33,568:pynisher] Cannot recover the output from /tmp/tmp7mnkji5h/std.out due to [Errno 2] No such file or directory: '/tmp/tmp7mnkji5h/std.out'\n",
      "[ERROR] [2021-06-06 19:47:33,574:pynisher] Cannot recover the output from /tmp/tmp7mnkji5h/std.err due to [Errno 2] No such file or directory: '/tmp/tmp7mnkji5h/std.err'\n",
      "[WARNING] [2021-06-06 19:47:35,979:smac.runhistory.runhistory2epm.RunHistory2EPM4LogCost] Got cost of smaller/equal to 0. Replace by 0.000010 since we use log cost.\n",
      "[WARNING] [2021-06-06 19:47:40,736:smac.runhistory.runhistory2epm.RunHistory2EPM4LogCost] Got cost of smaller/equal to 0. Replace by 0.000010 since we use log cost.\n",
      "[WARNING] [2021-06-06 19:47:41,135:smac.runhistory.runhistory2epm.RunHistory2EPM4LogCost] Got cost of smaller/equal to 0. Replace by 0.000010 since we use log cost.\n",
      "Accuracy score 8 0.9736842105263158\n",
      "[ERROR] [2021-06-06 19:55:17,846:pynisher] Cannot recover the output from /tmp/tmp1dp7ru8d/std.out due to [Errno 2] No such file or directory: '/tmp/tmp1dp7ru8d/std.out'\n",
      "[ERROR] [2021-06-06 19:55:17,853:pynisher] Cannot recover the output from /tmp/tmp1dp7ru8d/std.err due to [Errno 2] No such file or directory: '/tmp/tmp1dp7ru8d/std.err'\n",
      "[ERROR] [2021-06-06 19:56:21,149:pynisher] Cannot recover the output from /tmp/tmpw3snu545/std.out due to [Errno 2] No such file or directory: '/tmp/tmpw3snu545/std.out'\n",
      "[ERROR] [2021-06-06 19:56:21,151:pynisher] Cannot recover the output from /tmp/tmpw3snu545/std.err due to [Errno 2] No such file or directory: '/tmp/tmpw3snu545/std.err'\n",
      "[WARNING] [2021-06-06 19:56:34,203:smac.runhistory.runhistory2epm.RunHistory2EPM4LogCost] Got cost of smaller/equal to 0. Replace by 0.000010 since we use log cost.\n",
      "[WARNING] [2021-06-06 19:56:39,060:smac.runhistory.runhistory2epm.RunHistory2EPM4LogCost] Got cost of smaller/equal to 0. Replace by 0.000010 since we use log cost.\n",
      "[ERROR] [2021-06-06 19:57:39,105:pynisher] Cannot recover the output from /tmp/tmp1k4ootal/std.out due to [Errno 2] No such file or directory: '/tmp/tmp1k4ootal/std.out'\n",
      "[ERROR] [2021-06-06 19:57:39,106:pynisher] Cannot recover the output from /tmp/tmp1k4ootal/std.err due to [Errno 2] No such file or directory: '/tmp/tmp1k4ootal/std.err'\n"
     ]
    },
    {
     "name": "stdout",
     "output_type": "stream",
     "text": [
      "[WARNING] [2021-06-06 19:57:40,236:smac.runhistory.runhistory2epm.RunHistory2EPM4LogCost] Got cost of smaller/equal to 0. Replace by 0.000010 since we use log cost.\n",
      "[WARNING] [2021-06-06 19:57:41,990:smac.runhistory.runhistory2epm.RunHistory2EPM4LogCost] Got cost of smaller/equal to 0. Replace by 0.000010 since we use log cost.\n",
      "[WARNING] [2021-06-06 19:57:48,178:smac.runhistory.runhistory2epm.RunHistory2EPM4LogCost] Got cost of smaller/equal to 0. Replace by 0.000010 since we use log cost.\n",
      "[WARNING] [2021-06-06 19:57:48,770:smac.runhistory.runhistory2epm.RunHistory2EPM4LogCost] Got cost of smaller/equal to 0. Replace by 0.000010 since we use log cost.\n",
      "Accuracy score 9 0.9736842105263158\n"
     ]
    }
   ],
   "source": [
    "import csv\n",
    "options = {'autosklearn-v': [0, 1], 'autosklearn-e': [0, 50], 'autosklearn-m': [25, 0], 'autosklearn': [25, 50]}\n",
    "for k,v in options.items():\n",
    "    result = [k]\n",
    "    for i in range(10):   \n",
    "        automl = AutoSklearnClassifier(time_left_for_this_task=600, initial_configurations_via_metalearning=v[0], ensemble_size=v[1])\n",
    "        automl.fit(X_train, y_train)\n",
    "        y_hat = automl.predict(X_test)\n",
    "        accuracy = sklearn.metrics.accuracy_score(y_test, y_hat)\n",
    "        result.append(accuracy)\n",
    "        print(\"Accuracy score\", i, accuracy)\n",
    "    with open(r'../robustness.csv', mode='a') as file:\n",
    "        writer = csv.writer(file, delimiter=',')\n",
    "        writer.writerow(result)"
   ]
  },
  {
   "cell_type": "code",
   "execution_count": 7,
   "id": "dbe3e8fb",
   "metadata": {},
   "outputs": [],
   "source": [
    "import csv\n",
    "\n",
    "with open(r'../robustness.csv', mode='a') as file:\n",
    "    writer = csv.writer(file, delimiter=',')\n",
    "    writer.writerow(result)"
   ]
  },
  {
   "cell_type": "markdown",
   "id": "26bc5414",
   "metadata": {},
   "source": [
    "# TPOT"
   ]
  },
  {
   "cell_type": "code",
   "execution_count": 6,
   "id": "f15d9c9d",
   "metadata": {},
   "outputs": [
    {
     "name": "stdout",
     "output_type": "stream",
     "text": [
      "Warning: xgboost.XGBClassifier is not available and will not be used by TPOT.\n"
     ]
    },
    {
     "name": "stderr",
     "output_type": "stream",
     "text": [
      "Version 0.11.6 of tpot is outdated. Version 0.11.7 was released Wednesday January 06, 2021.\n"
     ]
    },
    {
     "name": "stdout",
     "output_type": "stream",
     "text": [
      "Accuracy score 0 0.9473684210526315\n",
      "Warning: xgboost.XGBClassifier is not available and will not be used by TPOT.\n"
     ]
    },
    {
     "name": "stderr",
     "output_type": "stream",
     "text": [
      "Version 0.11.6 of tpot is outdated. Version 0.11.7 was released Wednesday January 06, 2021.\n"
     ]
    },
    {
     "name": "stdout",
     "output_type": "stream",
     "text": [
      "Accuracy score 1 0.9736842105263158\n",
      "Warning: xgboost.XGBClassifier is not available and will not be used by TPOT.\n"
     ]
    },
    {
     "name": "stderr",
     "output_type": "stream",
     "text": [
      "Version 0.11.6 of tpot is outdated. Version 0.11.7 was released Wednesday January 06, 2021.\n"
     ]
    },
    {
     "name": "stdout",
     "output_type": "stream",
     "text": [
      "Accuracy score 2 1.0\n",
      "Warning: xgboost.XGBClassifier is not available and will not be used by TPOT.\n"
     ]
    },
    {
     "name": "stderr",
     "output_type": "stream",
     "text": [
      "Version 0.11.6 of tpot is outdated. Version 0.11.7 was released Wednesday January 06, 2021.\n"
     ]
    },
    {
     "name": "stdout",
     "output_type": "stream",
     "text": [
      "Accuracy score 3 0.9736842105263158\n",
      "Warning: xgboost.XGBClassifier is not available and will not be used by TPOT.\n"
     ]
    },
    {
     "name": "stderr",
     "output_type": "stream",
     "text": [
      "Version 0.11.6 of tpot is outdated. Version 0.11.7 was released Wednesday January 06, 2021.\n"
     ]
    },
    {
     "name": "stdout",
     "output_type": "stream",
     "text": [
      "Accuracy score 4 1.0\n",
      "Warning: xgboost.XGBClassifier is not available and will not be used by TPOT.\n"
     ]
    },
    {
     "name": "stderr",
     "output_type": "stream",
     "text": [
      "Version 0.11.6 of tpot is outdated. Version 0.11.7 was released Wednesday January 06, 2021.\n"
     ]
    },
    {
     "name": "stdout",
     "output_type": "stream",
     "text": [
      "Accuracy score 5 0.9473684210526315\n",
      "Warning: xgboost.XGBClassifier is not available and will not be used by TPOT.\n"
     ]
    },
    {
     "name": "stderr",
     "output_type": "stream",
     "text": [
      "Version 0.11.6 of tpot is outdated. Version 0.11.7 was released Wednesday January 06, 2021.\n"
     ]
    },
    {
     "name": "stdout",
     "output_type": "stream",
     "text": [
      "Accuracy score 6 0.9210526315789473\n",
      "Warning: xgboost.XGBClassifier is not available and will not be used by TPOT.\n"
     ]
    },
    {
     "name": "stderr",
     "output_type": "stream",
     "text": [
      "Version 0.11.6 of tpot is outdated. Version 0.11.7 was released Wednesday January 06, 2021.\n"
     ]
    },
    {
     "name": "stdout",
     "output_type": "stream",
     "text": [
      "Accuracy score 7 0.9736842105263158\n",
      "Warning: xgboost.XGBClassifier is not available and will not be used by TPOT.\n"
     ]
    },
    {
     "name": "stderr",
     "output_type": "stream",
     "text": [
      "Version 0.11.6 of tpot is outdated. Version 0.11.7 was released Wednesday January 06, 2021.\n"
     ]
    },
    {
     "name": "stdout",
     "output_type": "stream",
     "text": [
      "Accuracy score 8 0.9473684210526315\n",
      "Warning: xgboost.XGBClassifier is not available and will not be used by TPOT.\n"
     ]
    },
    {
     "name": "stderr",
     "output_type": "stream",
     "text": [
      "Version 0.11.6 of tpot is outdated. Version 0.11.7 was released Wednesday January 06, 2021.\n"
     ]
    },
    {
     "name": "stdout",
     "output_type": "stream",
     "text": [
      "Accuracy score 9 0.9473684210526315\n"
     ]
    }
   ],
   "source": [
    "result = ['tpot']\n",
    "from tpot import TPOTClassifier\n",
    "for i in range(10):   \n",
    "    automl = TPOTClassifier(max_time_mins=10)\n",
    "    automl.fit(X_train, y_train)\n",
    "    y_hat = automl.predict(X_test)\n",
    "    accuracy = sklearn.metrics.accuracy_score(y_test, y_hat)\n",
    "    result.append(accuracy)\n",
    "    print(\"Accuracy score\", i, accuracy)"
   ]
  },
  {
   "cell_type": "code",
   "execution_count": 7,
   "id": "ca61d2b6",
   "metadata": {},
   "outputs": [],
   "source": [
    "import csv\n",
    "\n",
    "with open(r'../robustness.csv', mode='a') as file:\n",
    "    writer = csv.writer(file, delimiter=',')\n",
    "    writer.writerow(result)"
   ]
  },
  {
   "cell_type": "markdown",
   "id": "58095786",
   "metadata": {},
   "source": [
    "# ATM"
   ]
  },
  {
   "cell_type": "code",
   "execution_count": 18,
   "id": "9bb1789f",
   "metadata": {},
   "outputs": [
    {
     "name": "stderr",
     "output_type": "stream",
     "text": [
      "  1%|1         | 1/100 [00:00<00:11,  8.53it/s]"
     ]
    },
    {
     "name": "stdout",
     "output_type": "stream",
     "text": [
      "Processing dataset train.csv\n"
     ]
    },
    {
     "name": "stderr",
     "output_type": "stream",
     "text": [
      "101it [00:10, 11.62it/s]                        Classifier budget has run out!\n",
      "Datarun 10 has ended.\n",
      "101it [00:10,  9.63it/s]\n"
     ]
    },
    {
     "name": "stdout",
     "output_type": "stream",
     "text": [
      "The indicated path already exists. Use `force=True` to overwrite.\n",
      "Classifier 648 saved as path/to/model.pkl\n",
      "Accuracy score 0 0.9473684210526315\n"
     ]
    },
    {
     "name": "stderr",
     "output_type": "stream",
     "text": [
      "  1%|1         | 1/100 [00:00<00:10,  9.59it/s]"
     ]
    },
    {
     "name": "stdout",
     "output_type": "stream",
     "text": [
      "Processing dataset train.csv\n"
     ]
    },
    {
     "name": "stderr",
     "output_type": "stream",
     "text": [
      "100%|##########| 100/100 [00:10<00:00,  8.33it/s]Classifier budget has run out!\n",
      "Datarun 11 has ended.\n",
      "100%|##########| 100/100 [00:10<00:00,  9.44it/s]\n"
     ]
    },
    {
     "name": "stdout",
     "output_type": "stream",
     "text": [
      "The indicated path already exists. Use `force=True` to overwrite.\n",
      "Classifier 743 saved as path/to/model.pkl\n",
      "Accuracy score 1 1.0\n"
     ]
    },
    {
     "name": "stderr",
     "output_type": "stream",
     "text": [
      "  1%|1         | 1/100 [00:00<00:10,  9.54it/s]"
     ]
    },
    {
     "name": "stdout",
     "output_type": "stream",
     "text": [
      "Processing dataset train.csv\n"
     ]
    },
    {
     "name": "stderr",
     "output_type": "stream",
     "text": [
      "100%|##########| 100/100 [00:11<00:00,  6.56it/s]Classifier budget has run out!\n",
      "Datarun 12 has ended.\n",
      "100%|##########| 100/100 [00:11<00:00,  8.44it/s]\n"
     ]
    },
    {
     "name": "stdout",
     "output_type": "stream",
     "text": [
      "The indicated path already exists. Use `force=True` to overwrite.\n",
      "Classifier 925 saved as path/to/model.pkl\n",
      "Accuracy score 2 0.9736842105263158\n"
     ]
    },
    {
     "name": "stderr",
     "output_type": "stream",
     "text": [
      "  1%|1         | 1/100 [00:00<00:10,  9.39it/s]"
     ]
    },
    {
     "name": "stdout",
     "output_type": "stream",
     "text": [
      "Processing dataset train.csv\n"
     ]
    },
    {
     "name": "stderr",
     "output_type": "stream",
     "text": [
      "100%|##########| 100/100 [00:10<00:00,  9.91it/s]Classifier budget has run out!\n",
      "Datarun 13 has ended.\n",
      "100%|##########| 100/100 [00:11<00:00,  9.05it/s]\n"
     ]
    },
    {
     "name": "stdout",
     "output_type": "stream",
     "text": [
      "The indicated path already exists. Use `force=True` to overwrite.\n",
      "Classifier 952 saved as path/to/model.pkl\n",
      "Accuracy score 3 0.9473684210526315\n"
     ]
    },
    {
     "name": "stderr",
     "output_type": "stream",
     "text": [
      "\r",
      "  0%|          | 0/100 [00:00<?, ?it/s]"
     ]
    },
    {
     "name": "stdout",
     "output_type": "stream",
     "text": [
      "Processing dataset train.csv\n"
     ]
    },
    {
     "name": "stderr",
     "output_type": "stream",
     "text": [
      "100%|##########| 100/100 [00:10<00:00,  8.99it/s]Classifier budget has run out!\n",
      "Datarun 14 has ended.\n",
      "100%|##########| 100/100 [00:10<00:00,  9.59it/s]\n"
     ]
    },
    {
     "name": "stdout",
     "output_type": "stream",
     "text": [
      "The indicated path already exists. Use `force=True` to overwrite.\n",
      "Classifier 1069 saved as path/to/model.pkl\n",
      "Accuracy score 4 0.9473684210526315\n"
     ]
    },
    {
     "name": "stderr",
     "output_type": "stream",
     "text": [
      "  1%|1         | 1/100 [00:00<00:12,  8.03it/s]"
     ]
    },
    {
     "name": "stdout",
     "output_type": "stream",
     "text": [
      "Processing dataset train.csv\n"
     ]
    },
    {
     "name": "stderr",
     "output_type": "stream",
     "text": [
      "100%|##########| 100/100 [00:10<00:00,  6.56it/s]Classifier budget has run out!\n",
      "Datarun 15 has ended.\n",
      "100%|##########| 100/100 [00:10<00:00,  9.16it/s]\n"
     ]
    },
    {
     "name": "stdout",
     "output_type": "stream",
     "text": [
      "The indicated path already exists. Use `force=True` to overwrite.\n",
      "Classifier 1143 saved as path/to/model.pkl\n",
      "Accuracy score 5 0.9736842105263158\n"
     ]
    },
    {
     "name": "stderr",
     "output_type": "stream",
     "text": [
      "  1%|1         | 1/100 [00:00<00:13,  7.24it/s]"
     ]
    },
    {
     "name": "stdout",
     "output_type": "stream",
     "text": [
      "Processing dataset train.csv\n"
     ]
    },
    {
     "name": "stderr",
     "output_type": "stream",
     "text": [
      "101it [00:11, 11.64it/s]                        Classifier budget has run out!\n",
      "Datarun 16 has ended.\n",
      "101it [00:11,  8.64it/s]\n"
     ]
    },
    {
     "name": "stdout",
     "output_type": "stream",
     "text": [
      "The indicated path already exists. Use `force=True` to overwrite.\n",
      "Classifier 1257 saved as path/to/model.pkl\n",
      "Accuracy score 6 1.0\n"
     ]
    },
    {
     "name": "stderr",
     "output_type": "stream",
     "text": [
      "  1%|1         | 1/100 [00:00<00:11,  8.97it/s]"
     ]
    },
    {
     "name": "stdout",
     "output_type": "stream",
     "text": [
      "Processing dataset train.csv\n"
     ]
    },
    {
     "name": "stderr",
     "output_type": "stream",
     "text": [
      "100%|##########| 100/100 [00:10<00:00,  8.47it/s]Classifier budget has run out!\n",
      "Datarun 17 has ended.\n",
      "100%|##########| 100/100 [00:10<00:00,  9.18it/s]\n"
     ]
    },
    {
     "name": "stdout",
     "output_type": "stream",
     "text": [
      "The indicated path already exists. Use `force=True` to overwrite.\n",
      "Classifier 1389 saved as path/to/model.pkl\n",
      "Accuracy score 7 0.9473684210526315\n"
     ]
    },
    {
     "name": "stderr",
     "output_type": "stream",
     "text": [
      "  1%|1         | 1/100 [00:00<00:11,  8.66it/s]"
     ]
    },
    {
     "name": "stdout",
     "output_type": "stream",
     "text": [
      "Processing dataset train.csv\n"
     ]
    },
    {
     "name": "stderr",
     "output_type": "stream",
     "text": [
      "100%|##########| 100/100 [00:10<00:00,  8.60it/s]Classifier budget has run out!\n",
      "Datarun 18 has ended.\n",
      "100%|##########| 100/100 [00:10<00:00,  9.37it/s]\n"
     ]
    },
    {
     "name": "stdout",
     "output_type": "stream",
     "text": [
      "The indicated path already exists. Use `force=True` to overwrite.\n",
      "Classifier 1447 saved as path/to/model.pkl\n",
      "Accuracy score 8 0.9736842105263158\n"
     ]
    },
    {
     "name": "stderr",
     "output_type": "stream",
     "text": [
      "  1%|1         | 1/100 [00:00<00:11,  8.78it/s]"
     ]
    },
    {
     "name": "stdout",
     "output_type": "stream",
     "text": [
      "Processing dataset train.csv\n"
     ]
    },
    {
     "name": "stderr",
     "output_type": "stream",
     "text": [
      "100%|##########| 100/100 [00:11<00:00,  8.46it/s]Classifier budget has run out!\n",
      "Datarun 19 has ended.\n",
      "100%|##########| 100/100 [00:11<00:00,  8.98it/s]"
     ]
    },
    {
     "name": "stdout",
     "output_type": "stream",
     "text": [
      "The indicated path already exists. Use `force=True` to overwrite.\n",
      "Classifier 1621 saved as path/to/model.pkl\n",
      "Accuracy score 9 0.9736842105263158\n"
     ]
    },
    {
     "name": "stderr",
     "output_type": "stream",
     "text": [
      "\n"
     ]
    }
   ],
   "source": [
    "result = ['ATM']\n",
    "from atm import ATM, Model\n",
    "for i in range(10):   \n",
    "    atm = ATM()\n",
    "    results = atm.run(train_path=r\"train.csv\", total_time=10)\n",
    "    results.export_best_classifier('path/to/model.pkl')\n",
    "    model = Model.load('path/to/model.pkl')\n",
    "    y_hat = model.predict(X_test)\n",
    "    accuracy = sklearn.metrics.accuracy_score(y_test, y_hat)\n",
    "    result.append(accuracy)\n",
    "    print(\"Accuracy score\", i, accuracy)"
   ]
  },
  {
   "cell_type": "code",
   "execution_count": 19,
   "id": "b1970cad",
   "metadata": {},
   "outputs": [
    {
     "data": {
      "text/plain": [
       "['ATM',\n",
       " 0.9473684210526315,\n",
       " 1.0,\n",
       " 0.9736842105263158,\n",
       " 0.9473684210526315,\n",
       " 0.9473684210526315,\n",
       " 0.9736842105263158,\n",
       " 1.0,\n",
       " 0.9473684210526315,\n",
       " 0.9736842105263158,\n",
       " 0.9736842105263158]"
      ]
     },
     "execution_count": 19,
     "metadata": {},
     "output_type": "execute_result"
    }
   ],
   "source": [
    "result"
   ]
  },
  {
   "cell_type": "code",
   "execution_count": 21,
   "id": "9f9b5e5d",
   "metadata": {},
   "outputs": [],
   "source": [
    "import csv\n",
    "\n",
    "with open(r'../robustness.csv', mode='a') as file:\n",
    "    writer = csv.writer(file, delimiter=',')\n",
    "    writer.writerow(result)"
   ]
  },
  {
   "cell_type": "markdown",
   "id": "a9b148c8",
   "metadata": {},
   "source": [
    "# Recipe"
   ]
  },
  {
   "cell_type": "code",
   "execution_count": 5,
   "id": "b267c59e",
   "metadata": {},
   "outputs": [
    {
     "name": "stdout",
     "output_type": "stream",
     "text": [
      "Python 3.8.3\r\n"
     ]
    }
   ],
   "source": [
    "!python --version"
   ]
  },
  {
   "cell_type": "markdown",
   "id": "78fa444d",
   "metadata": {},
   "source": [
    "# AutoWeka"
   ]
  },
  {
   "cell_type": "code",
   "execution_count": 6,
   "id": "e8f5e2a9",
   "metadata": {},
   "outputs": [],
   "source": [
    "import pyautoweka\n",
    "\n",
    "#Create an experiment\n",
    "experiment = pyautoweka.ClassificationExperiment(tuner_timeout=360)"
   ]
  },
  {
   "cell_type": "code",
   "execution_count": 7,
   "id": "ab2e3f87",
   "metadata": {},
   "outputs": [
    {
     "name": "stdout",
     "output_type": "stream",
     "text": [
      "Running experiments\n",
      "Time allocated(see Experiment.tuner_timeout):  0:06:00\n",
      "Running experiment on dataset dataset1\n",
      "Running for seed 0\n",
      "Merging trajectories\n"
     ]
    },
    {
     "ename": "CalledProcessError",
     "evalue": "Command '['java', '-cp', '/home/eldeeb/.cache/Python-Eggs/pyautoweka-.1-py2.7.egg-tmp/pyautoweka/java/autoweka.jar', 'autoweka.tools.GetBestFromTrajectoryGroup', 'experiments/Experiment-dataset1/Experiment-dataset1.trajectories']' returned non-zero exit status 1",
     "output_type": "error",
     "traceback": [
      "\u001b[0;31m---------------------------------------------------------------------------\u001b[0m",
      "\u001b[0;31mCalledProcessError\u001b[0m                        Traceback (most recent call last)",
      "\u001b[0;32m<ipython-input-7-c3704ea6ac66>\u001b[0m in \u001b[0;36m<module>\u001b[0;34m()\u001b[0m\n\u001b[1;32m     23\u001b[0m \u001b[0;34m\u001b[0m\u001b[0m\n\u001b[1;32m     24\u001b[0m \u001b[0;31m#and predict the labels of the held out data:\u001b[0m\u001b[0;34m\u001b[0m\u001b[0;34m\u001b[0m\u001b[0m\n\u001b[0;32m---> 25\u001b[0;31m \u001b[0my_predict\u001b[0m \u001b[0;34m=\u001b[0m \u001b[0mexperiment\u001b[0m\u001b[0;34m.\u001b[0m\u001b[0mpredict\u001b[0m\u001b[0;34m(\u001b[0m\u001b[0mX_test\u001b[0m\u001b[0;34m)\u001b[0m\u001b[0;34m\u001b[0m\u001b[0m\n\u001b[0m\u001b[1;32m     26\u001b[0m \u001b[0;34m\u001b[0m\u001b[0m\n\u001b[1;32m     27\u001b[0m \u001b[0;31m#Let's check what accuracy we get:\u001b[0m\u001b[0;34m\u001b[0m\u001b[0;34m\u001b[0m\u001b[0m\n",
      "\u001b[0;32m/home/eldeeb/miniconda3/envs/pyautoweka/lib/python2.7/site-packages/pyautoweka-.1-py2.7.egg/pyautoweka/pyautoweka.pyc\u001b[0m in \u001b[0;36mpredict\u001b[0;34m(self, X)\u001b[0m\n\u001b[1;32m    547\u001b[0m                 self.predict_from_file(prediction_data_path,\n\u001b[1;32m    548\u001b[0m                     \u001b[0mpredictions_file\u001b[0m\u001b[0;34m=\u001b[0m\u001b[0mprediction_output_path\u001b[0m\u001b[0;34m,\u001b[0m\u001b[0;34m\u001b[0m\u001b[0m\n\u001b[0;32m--> 549\u001b[0;31m                     hide_output=True)\n\u001b[0m\u001b[1;32m    550\u001b[0m \u001b[0;34m\u001b[0m\u001b[0m\n\u001b[1;32m    551\u001b[0m                 \u001b[0;31m#read the output:\u001b[0m\u001b[0;34m\u001b[0m\u001b[0;34m\u001b[0m\u001b[0m\n",
      "\u001b[0;32m/home/eldeeb/miniconda3/envs/pyautoweka/lib/python2.7/site-packages/pyautoweka-.1-py2.7.egg/pyautoweka/pyautoweka.pyc\u001b[0m in \u001b[0;36mpredict_from_file\u001b[0;34m(self, data_file, predictions_file, hide_output)\u001b[0m\n\u001b[1;32m    493\u001b[0m         \u001b[0;31m#TODO: for now we only support a single dataset\u001b[0m\u001b[0;34m\u001b[0m\u001b[0;34m\u001b[0m\u001b[0m\n\u001b[1;32m    494\u001b[0m         \u001b[0mdataset\u001b[0m \u001b[0;34m=\u001b[0m \u001b[0mself\u001b[0m\u001b[0;34m.\u001b[0m\u001b[0mdatasets\u001b[0m\u001b[0;34m[\u001b[0m\u001b[0;36m0\u001b[0m\u001b[0;34m]\u001b[0m\u001b[0;34m\u001b[0m\u001b[0m\n\u001b[0;32m--> 495\u001b[0;31m         \u001b[0mseed\u001b[0m \u001b[0;34m=\u001b[0m \u001b[0mself\u001b[0m\u001b[0;34m.\u001b[0m\u001b[0mget_best_seed_from_trajectories\u001b[0m\u001b[0;34m(\u001b[0m\u001b[0mdataset\u001b[0m\u001b[0;34m)\u001b[0m\u001b[0;34m\u001b[0m\u001b[0m\n\u001b[0m\u001b[1;32m    496\u001b[0m         \u001b[0mexperiment_folder\u001b[0m \u001b[0;34m=\u001b[0m \u001b[0mself\u001b[0m\u001b[0;34m.\u001b[0m\u001b[0mget_experiment_folder\u001b[0m\u001b[0;34m(\u001b[0m\u001b[0mdataset\u001b[0m\u001b[0;34m)\u001b[0m\u001b[0;34m\u001b[0m\u001b[0m\n\u001b[1;32m    497\u001b[0m \u001b[0;34m\u001b[0m\u001b[0m\n",
      "\u001b[0;32m/home/eldeeb/miniconda3/envs/pyautoweka/lib/python2.7/site-packages/pyautoweka-.1-py2.7.egg/pyautoweka/pyautoweka.pyc\u001b[0m in \u001b[0;36mget_best_seed_from_trajectories\u001b[0;34m(self, dataset)\u001b[0m\n\u001b[1;32m    471\u001b[0m                                  trajectories_file]\n\u001b[1;32m    472\u001b[0m         \u001b[0;31m#print \" \".join(best_trajectory_group)\u001b[0m\u001b[0;34m\u001b[0m\u001b[0;34m\u001b[0m\u001b[0m\n\u001b[0;32m--> 473\u001b[0;31m         \u001b[0mprogram_output\u001b[0m \u001b[0;34m=\u001b[0m \u001b[0mstr\u001b[0m\u001b[0;34m(\u001b[0m\u001b[0mcheck_output\u001b[0m\u001b[0;34m(\u001b[0m\u001b[0mbest_trajectory_group\u001b[0m\u001b[0;34m)\u001b[0m\u001b[0;34m)\u001b[0m\u001b[0;34m\u001b[0m\u001b[0m\n\u001b[0m\u001b[1;32m    474\u001b[0m         \u001b[0mseed\u001b[0m \u001b[0;34m=\u001b[0m \u001b[0;34m-\u001b[0m\u001b[0;36m1\u001b[0m\u001b[0;34m\u001b[0m\u001b[0m\n\u001b[1;32m    475\u001b[0m         \u001b[0;32mfor\u001b[0m \u001b[0mline\u001b[0m \u001b[0;32min\u001b[0m \u001b[0mprogram_output\u001b[0m\u001b[0;34m.\u001b[0m\u001b[0msplit\u001b[0m\u001b[0;34m(\u001b[0m\u001b[0;34m\"\\n\"\u001b[0m\u001b[0;34m)\u001b[0m\u001b[0;34m:\u001b[0m\u001b[0;34m\u001b[0m\u001b[0m\n",
      "\u001b[0;32m/home/eldeeb/miniconda3/envs/pyautoweka/lib/python2.7/subprocess.pyc\u001b[0m in \u001b[0;36mcheck_output\u001b[0;34m(*popenargs, **kwargs)\u001b[0m\n\u001b[1;32m    221\u001b[0m         \u001b[0;32mif\u001b[0m \u001b[0mcmd\u001b[0m \u001b[0;32mis\u001b[0m \u001b[0mNone\u001b[0m\u001b[0;34m:\u001b[0m\u001b[0;34m\u001b[0m\u001b[0m\n\u001b[1;32m    222\u001b[0m             \u001b[0mcmd\u001b[0m \u001b[0;34m=\u001b[0m \u001b[0mpopenargs\u001b[0m\u001b[0;34m[\u001b[0m\u001b[0;36m0\u001b[0m\u001b[0;34m]\u001b[0m\u001b[0;34m\u001b[0m\u001b[0m\n\u001b[0;32m--> 223\u001b[0;31m         \u001b[0;32mraise\u001b[0m \u001b[0mCalledProcessError\u001b[0m\u001b[0;34m(\u001b[0m\u001b[0mretcode\u001b[0m\u001b[0;34m,\u001b[0m \u001b[0mcmd\u001b[0m\u001b[0;34m,\u001b[0m \u001b[0moutput\u001b[0m\u001b[0;34m=\u001b[0m\u001b[0moutput\u001b[0m\u001b[0;34m)\u001b[0m\u001b[0;34m\u001b[0m\u001b[0m\n\u001b[0m\u001b[1;32m    224\u001b[0m     \u001b[0;32mreturn\u001b[0m \u001b[0moutput\u001b[0m\u001b[0;34m\u001b[0m\u001b[0m\n\u001b[1;32m    225\u001b[0m \u001b[0;34m\u001b[0m\u001b[0m\n",
      "\u001b[0;31mCalledProcessError\u001b[0m: Command '['java', '-cp', '/home/eldeeb/.cache/Python-Eggs/pyautoweka-.1-py2.7.egg-tmp/pyautoweka/java/autoweka.jar', 'autoweka.tools.GetBestFromTrajectoryGroup', 'experiments/Experiment-dataset1/Experiment-dataset1.trajectories']' returned non-zero exit status 1"
     ]
    }
   ],
   "source": [
    "#load the data:\n",
    "import numpy as np\n",
    "import random\n",
    "\n",
    "X = np.loadtxt(\"iris.data\", delimiter=\",\", usecols=range(4))\n",
    "y = np.loadtxt(\"iris.data\", delimiter=\",\", usecols=[4], dtype=\"object\")\n",
    "\n",
    "#shuffle the data:\n",
    "indices = range(len(X))\n",
    "random.shuffle(indices)\n",
    "X = X[indices]\n",
    "y = y[indices]\n",
    "\n",
    "#split into train and test set:\n",
    "X_train = X[0:100]\n",
    "y_train = y[0:100]\n",
    "\n",
    "X_test = X[100:]\n",
    "y_test = y[100:]\n",
    "\n",
    "#now we can fit a model:\n",
    "experiment.fit(X_train, y_train)\n",
    "\n",
    "#and predict the labels of the held out data:\n",
    "y_predict = experiment.predict(X_test)\n",
    "\n",
    "#Let's check what accuracy we get:\n",
    "num_correct = sum([1 for predicted, correct in zip(y_predict, y_test) if predicted == correct])\n",
    "print \"Accuracy: %f\" % (float(num_correct) / len(y_test))\n"
   ]
  },
  {
   "cell_type": "code",
   "execution_count": 5,
   "id": "1a2ba130",
   "metadata": {},
   "outputs": [
    {
     "name": "stdout",
     "output_type": "stream",
     "text": [
      "Running experiments\n",
      "Time allocated(see Experiment.tuner_timeout):  0:10:00\n",
      "Running experiment on dataset dataset1\n",
      "Running for seed 0\n",
      "Merging trajectories\n"
     ]
    },
    {
     "ename": "CalledProcessError",
     "evalue": "Command '['java', '-cp', '/home/eldeeb/.cache/Python-Eggs/pyautoweka-.1-py2.7.egg-tmp/pyautoweka/java/autoweka.jar', 'autoweka.tools.GetBestFromTrajectoryGroup', 'experiments/Experiment-dataset1/Experiment-dataset1.trajectories']' returned non-zero exit status 1",
     "output_type": "error",
     "traceback": [
      "\u001b[0;31m---------------------------------------------------------------------------\u001b[0m",
      "\u001b[0;31mCalledProcessError\u001b[0m                        Traceback (most recent call last)",
      "\u001b[0;32m<ipython-input-5-519ad8359783>\u001b[0m in \u001b[0;36m<module>\u001b[0;34m()\u001b[0m\n\u001b[1;32m      5\u001b[0m \u001b[0mexperiment\u001b[0m\u001b[0;34m.\u001b[0m\u001b[0mfit\u001b[0m\u001b[0;34m(\u001b[0m\u001b[0mX_train\u001b[0m\u001b[0;34m,\u001b[0m \u001b[0my_train\u001b[0m\u001b[0;34m)\u001b[0m\u001b[0;34m\u001b[0m\u001b[0m\n\u001b[1;32m      6\u001b[0m \u001b[0;34m\u001b[0m\u001b[0m\n\u001b[0;32m----> 7\u001b[0;31m \u001b[0my_hat\u001b[0m \u001b[0;34m=\u001b[0m \u001b[0mexperiment\u001b[0m\u001b[0;34m.\u001b[0m\u001b[0mpredict\u001b[0m\u001b[0;34m(\u001b[0m\u001b[0mX_test\u001b[0m\u001b[0;34m)\u001b[0m\u001b[0;34m\u001b[0m\u001b[0m\n\u001b[0m\u001b[1;32m      8\u001b[0m \u001b[0maccuracy\u001b[0m \u001b[0;34m=\u001b[0m \u001b[0msklearn\u001b[0m\u001b[0;34m.\u001b[0m\u001b[0mmetrics\u001b[0m\u001b[0;34m.\u001b[0m\u001b[0maccuracy_score\u001b[0m\u001b[0;34m(\u001b[0m\u001b[0my_test\u001b[0m\u001b[0;34m,\u001b[0m \u001b[0my_hat\u001b[0m\u001b[0;34m)\u001b[0m\u001b[0;34m\u001b[0m\u001b[0m\n\u001b[1;32m      9\u001b[0m \u001b[0;31m# result.append(accuracy)\u001b[0m\u001b[0;34m\u001b[0m\u001b[0;34m\u001b[0m\u001b[0m\n",
      "\u001b[0;32m/home/eldeeb/miniconda3/envs/pyautoweka/lib/python2.7/site-packages/pyautoweka-.1-py2.7.egg/pyautoweka/pyautoweka.pyc\u001b[0m in \u001b[0;36mpredict\u001b[0;34m(self, X)\u001b[0m\n\u001b[1;32m    547\u001b[0m                 self.predict_from_file(prediction_data_path,\n\u001b[1;32m    548\u001b[0m                     \u001b[0mpredictions_file\u001b[0m\u001b[0;34m=\u001b[0m\u001b[0mprediction_output_path\u001b[0m\u001b[0;34m,\u001b[0m\u001b[0;34m\u001b[0m\u001b[0m\n\u001b[0;32m--> 549\u001b[0;31m                     hide_output=True)\n\u001b[0m\u001b[1;32m    550\u001b[0m \u001b[0;34m\u001b[0m\u001b[0m\n\u001b[1;32m    551\u001b[0m                 \u001b[0;31m#read the output:\u001b[0m\u001b[0;34m\u001b[0m\u001b[0;34m\u001b[0m\u001b[0m\n",
      "\u001b[0;32m/home/eldeeb/miniconda3/envs/pyautoweka/lib/python2.7/site-packages/pyautoweka-.1-py2.7.egg/pyautoweka/pyautoweka.pyc\u001b[0m in \u001b[0;36mpredict_from_file\u001b[0;34m(self, data_file, predictions_file, hide_output)\u001b[0m\n\u001b[1;32m    493\u001b[0m         \u001b[0;31m#TODO: for now we only support a single dataset\u001b[0m\u001b[0;34m\u001b[0m\u001b[0;34m\u001b[0m\u001b[0m\n\u001b[1;32m    494\u001b[0m         \u001b[0mdataset\u001b[0m \u001b[0;34m=\u001b[0m \u001b[0mself\u001b[0m\u001b[0;34m.\u001b[0m\u001b[0mdatasets\u001b[0m\u001b[0;34m[\u001b[0m\u001b[0;36m0\u001b[0m\u001b[0;34m]\u001b[0m\u001b[0;34m\u001b[0m\u001b[0m\n\u001b[0;32m--> 495\u001b[0;31m         \u001b[0mseed\u001b[0m \u001b[0;34m=\u001b[0m \u001b[0mself\u001b[0m\u001b[0;34m.\u001b[0m\u001b[0mget_best_seed_from_trajectories\u001b[0m\u001b[0;34m(\u001b[0m\u001b[0mdataset\u001b[0m\u001b[0;34m)\u001b[0m\u001b[0;34m\u001b[0m\u001b[0m\n\u001b[0m\u001b[1;32m    496\u001b[0m         \u001b[0mexperiment_folder\u001b[0m \u001b[0;34m=\u001b[0m \u001b[0mself\u001b[0m\u001b[0;34m.\u001b[0m\u001b[0mget_experiment_folder\u001b[0m\u001b[0;34m(\u001b[0m\u001b[0mdataset\u001b[0m\u001b[0;34m)\u001b[0m\u001b[0;34m\u001b[0m\u001b[0m\n\u001b[1;32m    497\u001b[0m \u001b[0;34m\u001b[0m\u001b[0m\n",
      "\u001b[0;32m/home/eldeeb/miniconda3/envs/pyautoweka/lib/python2.7/site-packages/pyautoweka-.1-py2.7.egg/pyautoweka/pyautoweka.pyc\u001b[0m in \u001b[0;36mget_best_seed_from_trajectories\u001b[0;34m(self, dataset)\u001b[0m\n\u001b[1;32m    471\u001b[0m                                  trajectories_file]\n\u001b[1;32m    472\u001b[0m         \u001b[0;31m#print \" \".join(best_trajectory_group)\u001b[0m\u001b[0;34m\u001b[0m\u001b[0;34m\u001b[0m\u001b[0m\n\u001b[0;32m--> 473\u001b[0;31m         \u001b[0mprogram_output\u001b[0m \u001b[0;34m=\u001b[0m \u001b[0mstr\u001b[0m\u001b[0;34m(\u001b[0m\u001b[0mcheck_output\u001b[0m\u001b[0;34m(\u001b[0m\u001b[0mbest_trajectory_group\u001b[0m\u001b[0;34m)\u001b[0m\u001b[0;34m)\u001b[0m\u001b[0;34m\u001b[0m\u001b[0m\n\u001b[0m\u001b[1;32m    474\u001b[0m         \u001b[0mseed\u001b[0m \u001b[0;34m=\u001b[0m \u001b[0;34m-\u001b[0m\u001b[0;36m1\u001b[0m\u001b[0;34m\u001b[0m\u001b[0m\n\u001b[1;32m    475\u001b[0m         \u001b[0;32mfor\u001b[0m \u001b[0mline\u001b[0m \u001b[0;32min\u001b[0m \u001b[0mprogram_output\u001b[0m\u001b[0;34m.\u001b[0m\u001b[0msplit\u001b[0m\u001b[0;34m(\u001b[0m\u001b[0;34m\"\\n\"\u001b[0m\u001b[0;34m)\u001b[0m\u001b[0;34m:\u001b[0m\u001b[0;34m\u001b[0m\u001b[0m\n",
      "\u001b[0;32m/home/eldeeb/miniconda3/envs/pyautoweka/lib/python2.7/subprocess.pyc\u001b[0m in \u001b[0;36mcheck_output\u001b[0;34m(*popenargs, **kwargs)\u001b[0m\n\u001b[1;32m    221\u001b[0m         \u001b[0;32mif\u001b[0m \u001b[0mcmd\u001b[0m \u001b[0;32mis\u001b[0m \u001b[0mNone\u001b[0m\u001b[0;34m:\u001b[0m\u001b[0;34m\u001b[0m\u001b[0m\n\u001b[1;32m    222\u001b[0m             \u001b[0mcmd\u001b[0m \u001b[0;34m=\u001b[0m \u001b[0mpopenargs\u001b[0m\u001b[0;34m[\u001b[0m\u001b[0;36m0\u001b[0m\u001b[0;34m]\u001b[0m\u001b[0;34m\u001b[0m\u001b[0m\n\u001b[0;32m--> 223\u001b[0;31m         \u001b[0;32mraise\u001b[0m \u001b[0mCalledProcessError\u001b[0m\u001b[0;34m(\u001b[0m\u001b[0mretcode\u001b[0m\u001b[0;34m,\u001b[0m \u001b[0mcmd\u001b[0m\u001b[0;34m,\u001b[0m \u001b[0moutput\u001b[0m\u001b[0;34m=\u001b[0m\u001b[0moutput\u001b[0m\u001b[0;34m)\u001b[0m\u001b[0;34m\u001b[0m\u001b[0m\n\u001b[0m\u001b[1;32m    224\u001b[0m     \u001b[0;32mreturn\u001b[0m \u001b[0moutput\u001b[0m\u001b[0;34m\u001b[0m\u001b[0m\n\u001b[1;32m    225\u001b[0m \u001b[0;34m\u001b[0m\u001b[0m\n",
      "\u001b[0;31mCalledProcessError\u001b[0m: Command '['java', '-cp', '/home/eldeeb/.cache/Python-Eggs/pyautoweka-.1-py2.7.egg-tmp/pyautoweka/java/autoweka.jar', 'autoweka.tools.GetBestFromTrajectoryGroup', 'experiments/Experiment-dataset1/Experiment-dataset1.trajectories']' returned non-zero exit status 1"
     ]
    }
   ],
   "source": [
    "import pyautoweka\n",
    "\n",
    "experiment = pyautoweka.ClassificationExperiment(tuner_timeout=600)\n",
    "pyautoweka.ClassificationExperiment()\n",
    "experiment.fit(X_train, y_train)\n",
    "\n",
    "y_hat = experiment.predict(X_test)\n",
    "accuracy = sklearn.metrics.accuracy_score(y_test, y_hat)\n",
    "# result.append(accuracy)\n",
    "print(\"Accuracy score\", accuracy)\n",
    "# print(\"Accuracy score\", i, accuracy)"
   ]
  },
  {
   "cell_type": "code",
   "execution_count": 8,
   "id": "b4a64ef0",
   "metadata": {},
   "outputs": [
    {
     "name": "stdout",
     "output_type": "stream",
     "text": [
      "Hello world\n"
     ]
    }
   ],
   "source": [
    "print(\"Hello world\")"
   ]
  }
 ],
 "metadata": {
  "kernelspec": {
   "display_name": "pyautoweka",
   "language": "python",
   "name": "pyautoweka"
  },
  "language_info": {
   "codemirror_mode": {
    "name": "ipython",
    "version": 2
   },
   "file_extension": ".py",
   "mimetype": "text/x-python",
   "name": "python",
   "nbconvert_exporter": "python",
   "pygments_lexer": "ipython2",
   "version": "2.7.18"
  }
 },
 "nbformat": 4,
 "nbformat_minor": 5
}

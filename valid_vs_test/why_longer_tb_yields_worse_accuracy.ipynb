{
 "cells": [
  {
   "cell_type": "code",
   "execution_count": 5,
   "id": "53d3b497",
   "metadata": {},
   "outputs": [],
   "source": [
    "import pandas as pd\n",
    "# import numpy as np\n",
    "import sklearn\n",
    "from sklearn.preprocessing import LabelEncoder\n",
    "# from autosklearn.classification import AutoSklearnClassifier\n",
    "import warnings\n",
    "warnings.filterwarnings('ignore')"
   ]
  },
  {
   "cell_type": "code",
   "execution_count": 41,
   "id": "284a84ea",
   "metadata": {},
   "outputs": [],
   "source": [
    "ds_name = \"dataset_40_sonar\"\n",
    "train = pd.read_csv(r\"../Datasets/\" + ds_name + \"_train.csv\", na_values='?')\n",
    "test = pd.read_csv(r\"../Datasets/\" + ds_name + \"_test.csv\", na_values='?')\n",
    "data = pd.concat([train, test])\n",
    "\n",
    "categorical_ = data.select_dtypes(['object']).columns\n",
    "lab_encs = {col: LabelEncoder().fit(data[col].astype('str')) for col in categorical_}\n",
    "\n",
    "for col in categorical_:\n",
    "    train[col] = lab_encs[col].transform(train[col].astype('str'))\n",
    "    test[col] = lab_encs[col].transform(test[col].astype('str'))\n",
    "\n",
    "train.to_csv('train.csv', index=False)\n",
    "test.to_csv('test.csv', index=False)\n",
    "X_train, X_test, y_train, y_test = \\\n",
    "            train.iloc[:,:-1], test.iloc[:,:-1], train.iloc[:,-1], test.iloc[:,-1]"
   ]
  },
  {
   "cell_type": "markdown",
   "id": "6a6ca9c4",
   "metadata": {},
   "source": [
    "# Autosklearn"
   ]
  },
  {
   "cell_type": "code",
   "execution_count": 42,
   "id": "dc52b43b",
   "metadata": {},
   "outputs": [],
   "source": [
    "from pprint import pprint\n",
    "\n",
    "import sklearn.datasets\n",
    "import sklearn.metrics\n",
    "\n",
    "import autosklearn.classification"
   ]
  },
  {
   "cell_type": "code",
   "execution_count": 43,
   "id": "bc323459",
   "metadata": {},
   "outputs": [
    {
     "data": {
      "text/plain": [
       "AutoSklearnClassifier(ensemble_nbest=1, metric=accuracy, per_run_time_limit=30,\n",
       "                      time_left_for_this_task=120,\n",
       "                      tmp_folder='/tmp/autosklearn_classification_example_tmp')"
      ]
     },
     "execution_count": 43,
     "metadata": {},
     "output_type": "execute_result"
    }
   ],
   "source": [
    "automl = autosklearn.classification.AutoSklearnClassifier(\n",
    "    time_left_for_this_task=120,\n",
    "    per_run_time_limit=30,\n",
    "    tmp_folder='/tmp/autosklearn_classification_example_tmp',\n",
    "    metric=autosklearn.metrics.accuracy,\n",
    "    ensemble_nbest=1,\n",
    "    seed=1\n",
    ")\n",
    "automl.fit(X_train, y_train, dataset_name='focus')"
   ]
  },
  {
   "cell_type": "code",
   "execution_count": 44,
   "id": "dadb7137",
   "metadata": {},
   "outputs": [
    {
     "name": "stdout",
     "output_type": "stream",
     "text": [
      "          rank  ensemble_weight        type      cost  duration\n",
      "model_id                                                       \n",
      "21           1              1.0  libsvm_svc  0.115385  0.586314\n"
     ]
    }
   ],
   "source": [
    "print(automl.leaderboard())"
   ]
  },
  {
   "cell_type": "code",
   "execution_count": 45,
   "id": "eb7089f5",
   "metadata": {},
   "outputs": [
    {
     "name": "stdout",
     "output_type": "stream",
     "text": [
      "{   21: {   'balancing': Balancing(random_state=1),\n",
      "            'classifier': <autosklearn.pipeline.components.classification.ClassifierChoice object at 0x7f2d3e6cb370>,\n",
      "            'cost': 0.11538461538461542,\n",
      "            'data_preprocessor': <autosklearn.pipeline.components.data_preprocessing.DataPreprocessorChoice object at 0x7f2d3ee82df0>,\n",
      "            'ensemble_weight': 1.0,\n",
      "            'feature_preprocessor': <autosklearn.pipeline.components.feature_preprocessing.FeaturePreprocessorChoice object at 0x7f2d3e6cb550>,\n",
      "            'model_id': 21,\n",
      "            'rank': 1,\n",
      "            'sklearn_classifier': SVC(C=1198.7850746967626, cache_size=1775.5442708333333,\n",
      "    gamma=0.015219182148092949, max_iter=-1.0, random_state=1,\n",
      "    tol=0.040610448809956276)}}\n"
     ]
    }
   ],
   "source": [
    "pprint(automl.show_models(), indent=4)"
   ]
  },
  {
   "cell_type": "code",
   "execution_count": 46,
   "id": "af2a3c5a",
   "metadata": {},
   "outputs": [
    {
     "name": "stdout",
     "output_type": "stream",
     "text": [
      "Accuracy score: 0.8846153846153846\n"
     ]
    }
   ],
   "source": [
    "predictions = automl.predict(X_test)\n",
    "print(\"Accuracy score:\", sklearn.metrics.accuracy_score(y_test, predictions))"
   ]
  },
  {
   "cell_type": "markdown",
   "id": "a1cae031",
   "metadata": {},
   "source": [
    "### with more time"
   ]
  },
  {
   "cell_type": "code",
   "execution_count": 51,
   "id": "b7ab23d2",
   "metadata": {},
   "outputs": [
    {
     "data": {
      "text/plain": [
       "AutoSklearnClassifier(ensemble_nbest=1, metric=accuracy, per_run_time_limit=30,\n",
       "                      time_left_for_this_task=480,\n",
       "                      tmp_folder='/tmp/autosklearn_classification_example_tmp')"
      ]
     },
     "execution_count": 51,
     "metadata": {},
     "output_type": "execute_result"
    }
   ],
   "source": [
    "automl = autosklearn.classification.AutoSklearnClassifier(\n",
    "    time_left_for_this_task=480,\n",
    "    per_run_time_limit=30,\n",
    "    tmp_folder='/tmp/autosklearn_classification_example_tmp',\n",
    "    metric=autosklearn.metrics.accuracy,\n",
    "    ensemble_nbest=1,\n",
    "    seed=1\n",
    ")\n",
    "automl.fit(X_train, y_train, dataset_name='focus')"
   ]
  },
  {
   "cell_type": "code",
   "execution_count": 52,
   "id": "70f7910d",
   "metadata": {},
   "outputs": [
    {
     "name": "stdout",
     "output_type": "stream",
     "text": [
      "          rank  ensemble_weight type      cost  duration\n",
      "model_id                                                \n",
      "116          1              1.0  mlp  0.076923  4.968868\n"
     ]
    }
   ],
   "source": [
    "print(automl.leaderboard())"
   ]
  },
  {
   "cell_type": "code",
   "execution_count": 53,
   "id": "a2c46609",
   "metadata": {},
   "outputs": [
    {
     "name": "stdout",
     "output_type": "stream",
     "text": [
      "{   116: {   'balancing': Balancing(random_state=1),\n",
      "             'classifier': <autosklearn.pipeline.components.classification.ClassifierChoice object at 0x7f2d3ea1e160>,\n",
      "             'cost': 0.07692307692307687,\n",
      "             'data_preprocessor': <autosklearn.pipeline.components.data_preprocessing.DataPreprocessorChoice object at 0x7f2d3e6cbc10>,\n",
      "             'ensemble_weight': 1.0,\n",
      "             'feature_preprocessor': <autosklearn.pipeline.components.feature_preprocessing.FeaturePreprocessorChoice object at 0x7f2d3e6cb310>,\n",
      "             'model_id': 116,\n",
      "             'rank': 1,\n",
      "             'sklearn_classifier': MLPClassifier(alpha=0.021322134464363818, beta_1=0.999, beta_2=0.9,\n",
      "              hidden_layer_sizes=(146, 146),\n",
      "              learning_rate_init=0.00031275457323451915, max_iter=256,\n",
      "              n_iter_no_change=32, random_state=1, validation_fraction=0.0,\n",
      "              verbose=0, warm_start=True)}}\n"
     ]
    }
   ],
   "source": [
    "pprint(automl.show_models(), indent=4)"
   ]
  },
  {
   "cell_type": "code",
   "execution_count": 54,
   "id": "32d72e89",
   "metadata": {},
   "outputs": [
    {
     "name": "stdout",
     "output_type": "stream",
     "text": [
      "Accuracy score: 0.7884615384615384\n"
     ]
    }
   ],
   "source": [
    "predictions = automl.predict(X_test)\n",
    "print(\"Accuracy score:\", sklearn.metrics.accuracy_score(y_test, predictions))"
   ]
  },
  {
   "cell_type": "markdown",
   "id": "114e07b2",
   "metadata": {},
   "source": [
    "### Way more time"
   ]
  },
  {
   "cell_type": "code",
   "execution_count": 63,
   "id": "9227991c",
   "metadata": {},
   "outputs": [
    {
     "data": {
      "text/plain": [
       "AutoSklearnClassifier(ensemble_nbest=1, metric=accuracy, per_run_time_limit=30,\n",
       "                      tmp_folder='/tmp/autosklearn_classification_example_tmp')"
      ]
     },
     "execution_count": 63,
     "metadata": {},
     "output_type": "execute_result"
    }
   ],
   "source": [
    "automl = autosklearn.classification.AutoSklearnClassifier(\n",
    "    time_left_for_this_task=3600,\n",
    "    per_run_time_limit=30,\n",
    "    tmp_folder='/tmp/autosklearn_classification_example_tmp',\n",
    "    metric=autosklearn.metrics.accuracy,\n",
    "    ensemble_nbest=1,\n",
    "    seed=1\n",
    ")\n",
    "automl.fit(X_train, y_train, dataset_name='focus')"
   ]
  },
  {
   "cell_type": "code",
   "execution_count": 64,
   "id": "9ab4d5f1",
   "metadata": {},
   "outputs": [
    {
     "name": "stdout",
     "output_type": "stream",
     "text": [
      "          rank  ensemble_weight type      cost  duration\n",
      "model_id                                                \n",
      "116          1              1.0  mlp  0.076923  4.936195\n"
     ]
    }
   ],
   "source": [
    "print(automl.leaderboard())"
   ]
  },
  {
   "cell_type": "code",
   "execution_count": 65,
   "id": "f4d57196",
   "metadata": {},
   "outputs": [
    {
     "name": "stdout",
     "output_type": "stream",
     "text": [
      "{   116: {   'balancing': Balancing(random_state=1),\n",
      "             'classifier': <autosklearn.pipeline.components.classification.ClassifierChoice object at 0x7f2d3eab5340>,\n",
      "             'cost': 0.07692307692307687,\n",
      "             'data_preprocessor': <autosklearn.pipeline.components.data_preprocessing.DataPreprocessorChoice object at 0x7f2d3e79bbb0>,\n",
      "             'ensemble_weight': 1.0,\n",
      "             'feature_preprocessor': <autosklearn.pipeline.components.feature_preprocessing.FeaturePreprocessorChoice object at 0x7f2d3e950c70>,\n",
      "             'model_id': 116,\n",
      "             'rank': 1,\n",
      "             'sklearn_classifier': MLPClassifier(alpha=0.021322134464363818, beta_1=0.999, beta_2=0.9,\n",
      "              hidden_layer_sizes=(146, 146),\n",
      "              learning_rate_init=0.00031275457323451915, max_iter=256,\n",
      "              n_iter_no_change=32, random_state=1, validation_fraction=0.0,\n",
      "              verbose=0, warm_start=True)}}\n"
     ]
    }
   ],
   "source": [
    "pprint(automl.show_models(), indent=4)"
   ]
  },
  {
   "cell_type": "code",
   "execution_count": 66,
   "id": "e291cbbe",
   "metadata": {},
   "outputs": [
    {
     "name": "stdout",
     "output_type": "stream",
     "text": [
      "Accuracy score: 0.7884615384615384\n"
     ]
    }
   ],
   "source": [
    "predictions = automl.predict(X_test)\n",
    "print(\"Accuracy score:\", sklearn.metrics.accuracy_score(y_test, predictions))"
   ]
  },
  {
   "cell_type": "code",
   "execution_count": null,
   "id": "865f182e",
   "metadata": {},
   "outputs": [],
   "source": []
  }
 ],
 "metadata": {
  "kernelspec": {
   "display_name": "benchmark",
   "language": "python",
   "name": "benchmark"
  },
  "language_info": {
   "codemirror_mode": {
    "name": "ipython",
    "version": 3
   },
   "file_extension": ".py",
   "mimetype": "text/x-python",
   "name": "python",
   "nbconvert_exporter": "python",
   "pygments_lexer": "ipython3",
   "version": "3.8.13"
  }
 },
 "nbformat": 4,
 "nbformat_minor": 5
}
